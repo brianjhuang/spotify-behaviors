{
 "cells": [
  {
   "cell_type": "code",
   "execution_count": 1,
   "metadata": {},
   "outputs": [],
   "source": [
    "from pyspark.sql import functions as f\n",
    "from pyspark.sql import SparkSession\n",
    "\n",
    "import os\n",
    "import pandas as pd\n",
    "import random"
   ]
  },
  {
   "cell_type": "markdown",
   "metadata": {},
   "source": [
    "# Load in the Data with PySpark"
   ]
  },
  {
   "cell_type": "code",
   "execution_count": 5,
   "metadata": {},
   "outputs": [],
   "source": [
    "spark = SparkSession.builder.getOrCreate()"
   ]
  },
  {
   "cell_type": "code",
   "execution_count": 8,
   "metadata": {},
   "outputs": [
    {
     "data": {
      "text/plain": [
       "'/Volumes/Marceline Jr./Spotify Dataset/training_set'"
      ]
     },
     "execution_count": 8,
     "metadata": {},
     "output_type": "execute_result"
    }
   ],
   "source": [
    "spark_fp = os.path.join(\"/\", \"Volumes\", \"Marceline Jr.\", \"Spotify Dataset\", \"training_set\")\n",
    "spark_fp"
   ]
  },
  {
   "cell_type": "code",
   "execution_count": 9,
   "metadata": {
    "scrolled": true
   },
   "outputs": [],
   "source": [
    "df = spark.read.option(\"header\", \"true\").csv(spark_fp)"
   ]
  },
  {
   "cell_type": "code",
   "execution_count": 10,
   "metadata": {},
   "outputs": [],
   "source": [
    "df.createOrReplaceTempView(\"table\")"
   ]
  },
  {
   "cell_type": "code",
   "execution_count": 15,
   "metadata": {},
   "outputs": [
    {
     "name": "stdout",
     "output_type": "stream",
     "text": [
      "+--------------------+\n",
      "|          session_id|\n",
      "+--------------------+\n",
      "|0_00006f66-33e5-4...|\n",
      "|0_00006f66-33e5-4...|\n",
      "|0_00006f66-33e5-4...|\n",
      "|0_00006f66-33e5-4...|\n",
      "|0_00006f66-33e5-4...|\n",
      "|0_00006f66-33e5-4...|\n",
      "|0_00006f66-33e5-4...|\n",
      "|0_00006f66-33e5-4...|\n",
      "|0_00006f66-33e5-4...|\n",
      "|0_00006f66-33e5-4...|\n",
      "+--------------------+\n",
      "only showing top 10 rows\n",
      "\n"
     ]
    }
   ],
   "source": [
    "df.select(\"session_id\").show(10)"
   ]
  },
  {
   "cell_type": "code",
   "execution_count": 16,
   "metadata": {},
   "outputs": [],
   "source": [
    "ids = df.select('session_id').distinct()\n"
   ]
  },
  {
   "cell_type": "code",
   "execution_count": 23,
   "metadata": {},
   "outputs": [],
   "source": [
    "sampled_users = ids.orderBy(f.rand()).limit(1000)\n"
   ]
  },
  {
   "cell_type": "code",
   "execution_count": 24,
   "metadata": {},
   "outputs": [],
   "source": [
    "sampled_users_list = list(sampled_users.toPandas()['session_id'])\n"
   ]
  },
  {
   "cell_type": "code",
   "execution_count": 28,
   "metadata": {
    "scrolled": true
   },
   "outputs": [],
   "source": [
    "samp_fracs = {key:1 for key in sampled_users_list}\n"
   ]
  },
  {
   "cell_type": "code",
   "execution_count": 29,
   "metadata": {},
   "outputs": [],
   "source": [
    "samp_df = df.sampleBy(\"session_id\", fractions = samp_fracs)\n"
   ]
  },
  {
   "cell_type": "code",
   "execution_count": 31,
   "metadata": {},
   "outputs": [
    {
     "data": {
      "text/plain": [
       "DataFrame[session_id: string, session_position: string, session_length: string, track_id_clean: string, skip_1: string, skip_2: string, skip_3: string, not_skipped: string, context_switch: string, no_pause_before_play: string, short_pause_before_play: string, long_pause_before_play: string, hist_user_behavior_n_seekfwd: string, hist_user_behavior_n_seekback: string, hist_user_behavior_is_shuffle: string, hour_of_day: string, date: string, premium: string, context_type: string, hist_user_behavior_reason_start: string, hist_user_behavior_reason_end: string]"
      ]
     },
     "execution_count": 31,
     "metadata": {},
     "output_type": "execute_result"
    }
   ],
   "source": [
    "samp_df"
   ]
  },
  {
   "cell_type": "code",
   "execution_count": 30,
   "metadata": {},
   "outputs": [],
   "source": [
    "samp_df.write.csv(\"./sampled_users.csv\", header = True)\n"
   ]
  },
  {
   "cell_type": "code",
   "execution_count": 32,
   "metadata": {},
   "outputs": [],
   "source": [
    "users = spark.read.option(\"header\", \"true\").csv(\"sampled_users.csv\")"
   ]
  },
  {
   "cell_type": "code",
   "execution_count": 33,
   "metadata": {},
   "outputs": [
    {
     "name": "stdout",
     "output_type": "stream",
     "text": [
      "+--------------------+----------------+--------------+--------------------+------+------+------+-----------+--------------+--------------------+-----------------------+----------------------+----------------------------+-----------------------------+-----------------------------+-----------+----------+-------+---------------+-------------------------------+-----------------------------+\n",
      "|          session_id|session_position|session_length|      track_id_clean|skip_1|skip_2|skip_3|not_skipped|context_switch|no_pause_before_play|short_pause_before_play|long_pause_before_play|hist_user_behavior_n_seekfwd|hist_user_behavior_n_seekback|hist_user_behavior_is_shuffle|hour_of_day|      date|premium|   context_type|hist_user_behavior_reason_start|hist_user_behavior_reason_end|\n",
      "+--------------------+----------------+--------------+--------------------+------+------+------+-----------+--------------+--------------------+-----------------------+----------------------+----------------------------+-----------------------------+-----------------------------+-----------+----------+-------+---------------+-------------------------------+-----------------------------+\n",
      "|42_50cb77d0-9f69-...|               1|            18|t_3bc02be3-ab02-4...|  true|  true|  true|      false|             0|                   0|                      0|                     0|                           0|                            0|                         true|         16|2018-08-26|   true|user_collection|                         fwdbtn|                       fwdbtn|\n",
      "|42_50cb77d0-9f69-...|               2|            18|t_529537c9-bfb0-4...|  true|  true|  true|      false|             0|                   1|                      0|                     0|                           0|                            0|                         true|         16|2018-08-26|   true|user_collection|                         fwdbtn|                       fwdbtn|\n",
      "|42_50cb77d0-9f69-...|               3|            18|t_c29129f2-7b64-4...|  true|  true|  true|      false|             0|                   0|                      1|                     1|                           0|                            0|                         true|         16|2018-08-26|   true|user_collection|                         fwdbtn|                       fwdbtn|\n",
      "|42_50cb77d0-9f69-...|               4|            18|t_6c1ce50d-d33a-4...|  true|  true|  true|      false|             0|                   1|                      0|                     0|                           0|                            0|                         true|         16|2018-08-26|   true|user_collection|                         fwdbtn|                       fwdbtn|\n",
      "|42_50cb77d0-9f69-...|               5|            18|t_85418d4c-2b2d-4...|  true|  true|  true|      false|             0|                   1|                      0|                     0|                           0|                            0|                         true|         16|2018-08-26|   true|user_collection|                         fwdbtn|                       fwdbtn|\n",
      "+--------------------+----------------+--------------+--------------------+------+------+------+-----------+--------------+--------------------+-----------------------+----------------------+----------------------------+-----------------------------+-----------------------------+-----------+----------+-------+---------------+-------------------------------+-----------------------------+\n",
      "only showing top 5 rows\n",
      "\n"
     ]
    }
   ],
   "source": [
    "users.limit(5).toP"
   ]
  },
  {
   "cell_type": "markdown",
   "metadata": {},
   "source": [
    "# Generate Unique Users and Their Behaviors"
   ]
  },
  {
   "cell_type": "markdown",
   "metadata": {},
   "source": [
    "# Load in the Track Features"
   ]
  },
  {
   "cell_type": "code",
   "execution_count": null,
   "metadata": {},
   "outputs": [],
   "source": [
    "tf_path_one = os.path.join(\"/\", \"Volumes\", \"Marceline Jr.\", \"Spotify Dataset\", \"track_features\", \"tf_000000000000.csv\")\n",
    "tf_path_two = os.path.join(\"/\", \"Volumes\", \"Marceline Jr.\", \"Spotify Dataset\", \"track_features\", \"tf_000000000001.csv\")"
   ]
  },
  {
   "cell_type": "code",
   "execution_count": null,
   "metadata": {},
   "outputs": [],
   "source": [
    "track_features_one = pd.read_csv(tf_path_one)\n",
    "track_features_two = pd.read_csv(tf_path_two)"
   ]
  },
  {
   "cell_type": "code",
   "execution_count": null,
   "metadata": {},
   "outputs": [],
   "source": [
    "track_features = pd.concat([track_features_one, track_features_two])"
   ]
  },
  {
   "cell_type": "markdown",
   "metadata": {},
   "source": [
    "# Join the DataFrames Together"
   ]
  },
  {
   "cell_type": "code",
   "execution_count": null,
   "metadata": {},
   "outputs": [],
   "source": [
    "df = pd.merge(pandas_df, track_features, left_on = 'track_id_clean', right_on = 'track_id')"
   ]
  },
  {
   "cell_type": "markdown",
   "metadata": {},
   "source": [
    "# Cleaning"
   ]
  },
  {
   "cell_type": "code",
   "execution_count": null,
   "metadata": {},
   "outputs": [],
   "source": [
    "df.drop(['track_id_clean', \n",
    "         'skip_1', \n",
    "         'skip_2', \n",
    "         'skip_3',\n",
    "         'hist_user_behavior_reason_end', \n",
    "         'session_id', #session id would bring our sklearn model down bc its not just a single value\n",
    "         #different users don't consistently listen to the same amount of songs, vectors could be differing size\n",
    "         #listen to different types of songs\n",
    "         #session_id does not encode that information, it tells me nothing about my user's behavior even thought it is a numrical value\n",
    "         #session_id points to the group of songs that the user listens to\n",
    "         'track_id',\n",
    "         'date'], \n",
    "        axis = 1, inplace = True)"
   ]
  },
  {
   "cell_type": "code",
   "execution_count": null,
   "metadata": {},
   "outputs": [],
   "source": [
    "df['not_skipped'] = df['not_skipped'].apply(lambda x: 1 if x == True else 0)"
   ]
  },
  {
   "cell_type": "code",
   "execution_count": null,
   "metadata": {},
   "outputs": [],
   "source": [
    "df['premium']= df['premium'].apply(lambda x: 1 if x is True else 0)\n",
    "df['hist_user_behavior_is_shuffle'] = df['hist_user_behavior_is_shuffle'].apply(lambda x: 1 if x is True else 0)"
   ]
  },
  {
   "cell_type": "markdown",
   "metadata": {},
   "source": [
    "# Baseline Model"
   ]
  },
  {
   "cell_type": "code",
   "execution_count": null,
   "metadata": {},
   "outputs": [],
   "source": [
    "from sklearn.pipeline import Pipeline\n",
    "\n",
    "from sklearn.preprocessing import FunctionTransformer\n",
    "from sklearn.preprocessing import OneHotEncoder\n",
    "from sklearn.compose import ColumnTransformer\n",
    "\n",
    "from sklearn.model_selection import train_test_split\n",
    "\n",
    "from sklearn.tree import DecisionTreeClassifier"
   ]
  },
  {
   "cell_type": "code",
   "execution_count": null,
   "metadata": {},
   "outputs": [],
   "source": [
    "as_is = ['session_position', 'session_length','hist_user_behavior_is_shuffle',\n",
    "       'hour_of_day','premium','duration', \n",
    "       'release_year', 'us_popularity_estimate', 'acousticness',\n",
    "       'beat_strength', 'bounciness', 'danceability', 'dyn_range_mean',\n",
    "       'energy', 'flatness', 'instrumentalness', 'liveness', 'loudness',\n",
    "       'mechanism', 'key', 'organism', 'speechiness', 'tempo',\n",
    "       'time_signature', 'valence', 'acoustic_vector_0', 'acoustic_vector_1',\n",
    "       'acoustic_vector_2', 'acoustic_vector_3', 'acoustic_vector_4',\n",
    "       'acoustic_vector_5', 'acoustic_vector_6', 'acoustic_vector_7', 'context_switch', 'no_pause_before_play', 'short_pause_before_play',\n",
    "       'long_pause_before_play', 'hist_user_behavior_n_seekfwd',\n",
    "       'hist_user_behavior_n_seekback']\n",
    "ohe = ['mode','context_type', 'hist_user_behavior_reason_start']"
   ]
  },
  {
   "cell_type": "code",
   "execution_count": null,
   "metadata": {},
   "outputs": [],
   "source": [
    "preproc = ColumnTransformer(\n",
    "    transformers = [\n",
    "        ('as_is', FunctionTransformer(lambda x: x), as_is),\n",
    "        ('one_hot', OneHotEncoder(handle_unknown = 'ignore'), ohe),\n",
    "    ]\n",
    ")"
   ]
  },
  {
   "cell_type": "code",
   "execution_count": null,
   "metadata": {},
   "outputs": [],
   "source": [
    "pl = Pipeline(steps = [('preprocessor', preproc), ('classifier', DecisionTreeClassifier(max_depth = 10))])\n",
    "x_train, x_test, y_train, y_test = train_test_split(df.drop('not_skipped', axis = 1), df['not_skipped'], test_size= 0.3)"
   ]
  },
  {
   "cell_type": "code",
   "execution_count": null,
   "metadata": {},
   "outputs": [],
   "source": [
    "pl.fit(x_train, y_train)"
   ]
  },
  {
   "cell_type": "code",
   "execution_count": null,
   "metadata": {},
   "outputs": [],
   "source": [
    "pl.score(x_test,y_test)"
   ]
  }
 ],
 "metadata": {
  "kernelspec": {
   "display_name": "Python 3",
   "language": "python",
   "name": "python3"
  },
  "language_info": {
   "codemirror_mode": {
    "name": "ipython",
    "version": 3
   },
   "file_extension": ".py",
   "mimetype": "text/x-python",
   "name": "python",
   "nbconvert_exporter": "python",
   "pygments_lexer": "ipython3",
   "version": "3.8.5"
  }
 },
 "nbformat": 4,
 "nbformat_minor": 4
}
