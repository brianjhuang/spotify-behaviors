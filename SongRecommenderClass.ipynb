{
 "cells": [
  {
   "cell_type": "code",
   "execution_count": 1,
   "metadata": {},
   "outputs": [],
   "source": [
    "from collections import defaultdict\n",
    "import math\n",
    "import random\n",
    "import numpy as np\n",
    "import pandas as pd"
   ]
  },
  {
   "cell_type": "code",
   "execution_count": 2,
   "metadata": {},
   "outputs": [],
   "source": [
    "from pyspark.sql import functions as f\n",
    "from pyspark.sql import SparkSession\n",
    "import os"
   ]
  },
  {
   "cell_type": "code",
   "execution_count": 3,
   "metadata": {},
   "outputs": [],
   "source": [
    "spark = SparkSession.builder.getOrCreate()"
   ]
  },
  {
   "cell_type": "code",
   "execution_count": 4,
   "metadata": {},
   "outputs": [
    {
     "data": {
      "text/plain": [
       "'/Volumes/Marceline Jr./Spotify Dataset/sampled_users.csv'"
      ]
     },
     "execution_count": 4,
     "metadata": {},
     "output_type": "execute_result"
    }
   ],
   "source": [
    "spark_fp = os.path.join(\"/\", \"Volumes\", \"Marceline Jr.\", \"Spotify Dataset\", \"sampled_users.csv\")\n",
    "spark_fp"
   ]
  },
  {
   "cell_type": "code",
   "execution_count": 5,
   "metadata": {},
   "outputs": [],
   "source": [
    "df = spark.read.option(\"header\", \"true\").csv(spark_fp)"
   ]
  },
  {
   "cell_type": "code",
   "execution_count": 6,
   "metadata": {},
   "outputs": [],
   "source": [
    "users = df.toPandas()"
   ]
  },
  {
   "cell_type": "code",
   "execution_count": 7,
   "metadata": {},
   "outputs": [],
   "source": [
    "tf_path_one = os.path.join(\"/\", \"Volumes\", \"Marceline Jr.\", \"Spotify Dataset\", \"track_features\", \"tf_000000000000.csv\")\n",
    "tf_path_two = os.path.join(\"/\", \"Volumes\", \"Marceline Jr.\", \"Spotify Dataset\", \"track_features\", \"tf_000000000001.csv\")"
   ]
  },
  {
   "cell_type": "code",
   "execution_count": 8,
   "metadata": {},
   "outputs": [],
   "source": [
    "track_features_one = pd.read_csv(tf_path_one)\n",
    "track_features_two = pd.read_csv(tf_path_two)"
   ]
  },
  {
   "cell_type": "code",
   "execution_count": 9,
   "metadata": {},
   "outputs": [],
   "source": [
    "track_features = pd.concat([track_features_one, track_features_two])"
   ]
  },
  {
   "cell_type": "code",
   "execution_count": 10,
   "metadata": {},
   "outputs": [],
   "source": [
    "userFeatures = pd.merge(users, track_features, left_on = 'track_id_clean', right_on = 'track_id')\n",
    "nonModifiedFeatures = pd.merge(users, track_features, left_on = 'track_id_clean', right_on = 'track_id')"
   ]
  },
  {
   "cell_type": "code",
   "execution_count": 11,
   "metadata": {},
   "outputs": [],
   "source": [
    "userFeatures['mode'] = userFeatures['mode'].apply(lambda x: 1 if x == 'major' else 0)"
   ]
  },
  {
   "cell_type": "code",
   "execution_count": 12,
   "metadata": {
    "scrolled": true
   },
   "outputs": [
    {
     "data": {
      "text/plain": [
       "Index(['session_id', 'session_position', 'session_length', 'track_id_clean',\n",
       "       'skip_1', 'skip_2', 'skip_3', 'not_skipped', 'context_switch',\n",
       "       'no_pause_before_play', 'short_pause_before_play',\n",
       "       'long_pause_before_play', 'hist_user_behavior_n_seekfwd',\n",
       "       'hist_user_behavior_n_seekback', 'hist_user_behavior_is_shuffle',\n",
       "       'hour_of_day', 'date', 'premium', 'context_type',\n",
       "       'hist_user_behavior_reason_start', 'hist_user_behavior_reason_end',\n",
       "       'track_id', 'duration', 'release_year', 'us_popularity_estimate',\n",
       "       'acousticness', 'beat_strength', 'bounciness', 'danceability',\n",
       "       'dyn_range_mean', 'energy', 'flatness', 'instrumentalness', 'key',\n",
       "       'liveness', 'loudness', 'mechanism', 'mode', 'organism', 'speechiness',\n",
       "       'tempo', 'time_signature', 'valence', 'acoustic_vector_0',\n",
       "       'acoustic_vector_1', 'acoustic_vector_2', 'acoustic_vector_3',\n",
       "       'acoustic_vector_4', 'acoustic_vector_5', 'acoustic_vector_6',\n",
       "       'acoustic_vector_7'],\n",
       "      dtype='object')"
      ]
     },
     "execution_count": 12,
     "metadata": {},
     "output_type": "execute_result"
    }
   ],
   "source": [
    "userFeatures.columns"
   ]
  },
  {
   "cell_type": "code",
   "execution_count": 13,
   "metadata": {},
   "outputs": [],
   "source": [
    "pd.set_option('display.max_columns', None)"
   ]
  },
  {
   "cell_type": "code",
   "execution_count": 16,
   "metadata": {},
   "outputs": [],
   "source": [
    "class songRecommenderDraft():\n",
    "    \n",
    "    from collections import defaultdict\n",
    "    import math\n",
    "    import random\n",
    "    import numpy as np\n",
    "    import pandas as pd\n",
    "    \n",
    "    data = {}\n",
    "    usersPerTrack = {}\n",
    "    tracksPerUser = {}\n",
    "    featureDict = {}\n",
    "    \n",
    "    def __init__(self, data, *args, **kwargs):\n",
    "        '''\n",
    "        Our constructor.\n",
    "        features - set of Spotify Track Features.\n",
    "        '''\n",
    "        super().__init__(*args, **kwargs)\n",
    "        \n",
    "        if isinstance(data, pd.DataFrame):\n",
    "            self.data = self.parseDataFrame(data)\n",
    "        else:\n",
    "            self.data = data\n",
    "        \n",
    "        self.generateDictionaries()\n",
    "        \n",
    "    def parseDataFrame(self, data):\n",
    "        '''\n",
    "        Takes in a DataFrame object and parses it into our desired format.\n",
    "        We want the format of the data to be a list of dictionaries.\n",
    "        Each dictionary should be as follows\n",
    "        \n",
    "        {'session_id': {userBehaviors},\n",
    "        'track_id': {trackFeatures}}\n",
    "        '''\n",
    "        import json\n",
    "        \n",
    "        cleanData = []\n",
    "\n",
    "        parsed = json.loads(data.to_json(orient = 'records'))\n",
    "\n",
    "        for line in parsed:\n",
    "            temp = {}\n",
    "\n",
    "            featuresSet = ['session_id', 'session_position', 'session_length', 'track_id_clean',\n",
    "               'skip_1', 'skip_2', 'skip_3', 'not_skipped', 'context_switch',\n",
    "               'no_pause_before_play', 'short_pause_before_play',\n",
    "               'long_pause_before_play', 'hist_user_behavior_n_seekfwd',\n",
    "               'hist_user_behavior_n_seekback', 'hist_user_behavior_is_shuffle',\n",
    "               'hour_of_day', 'date', 'premium', 'context_type',\n",
    "               'hist_user_behavior_reason_start', 'hist_user_behavior_reason_end',\n",
    "               'track_id', 'duration', 'release_year', 'us_popularity_estimate']\n",
    "            #get only track features\n",
    "\n",
    "            behaviorSet = ['acousticness', 'beat_strength', 'bounciness', 'danceability',\n",
    "               'dyn_range_mean', 'energy', 'flatness', 'instrumentalness', 'key',\n",
    "               'liveness', 'loudness', 'mechanism', 'mode', 'organism', 'speechiness',\n",
    "               'tempo', 'time_signature', 'valence', 'acoustic_vector_0',\n",
    "               'acoustic_vector_1', 'acoustic_vector_2', 'acoustic_vector_3',\n",
    "               'acoustic_vector_4', 'acoustic_vector_5', 'acoustic_vector_6',\n",
    "               'acoustic_vector_7']\n",
    "            #get only user behaviors\n",
    "\n",
    "            featuresDict = {k:v for k,v in line.items() if k not in featuresSet}\n",
    "            temp['behaviors'] = {k:v for k,v in line.items() if k not in behaviorSet}\n",
    "            #set session_id as key, value as the user behaviors\n",
    "            temp['features'] = featuresDict\n",
    "            #set track_id as key, values as track features\n",
    "            cleanData.append(temp)\n",
    "            #append our dictionary to our list\n",
    "        \n",
    "        return cleanData\n",
    "    \n",
    "    def getData(self):\n",
    "        '''\n",
    "        Return our track features.\n",
    "        '''\n",
    "        return self.data\n",
    "    \n",
    "    def generateDictionaries(self, usersColumn = 'session_id', tracksColumn = 'track_id'):\n",
    "        '''\n",
    "        Generate our utility data structures for recommendation.\n",
    "        usersPerTrack : key: track, value: the users who have listened to this track\n",
    "        tracksPerUser : key: user, value: the tracks the user has listened to\n",
    "        '''\n",
    "        self.usersPerTrack = defaultdict(set) # key: track, value: the users who have listened to this track\n",
    "        self.tracksPerUser = defaultdict(set) # key: user, value: the tracks the user has listened to\n",
    "        self.featureDict = {} #to retrieve a specific song's features\n",
    "        \n",
    "        for d in self.data:\n",
    "            user, track = d['behaviors'][str(usersColumn)], d['behaviors'][str(tracksColumn)]\n",
    "            #get the user and track \n",
    "            self.usersPerTrack[track].add(user)\n",
    "            self.tracksPerUser[user].add(track)\n",
    "            self.featureDict[track] = d['features']\n",
    "    \n",
    "    def getUsersPerTrack(self):\n",
    "        '''\n",
    "        Return the users per each track.\n",
    "        '''\n",
    "        return self.usersPerTrack\n",
    "    \n",
    "    def getTracksPerUser(self):\n",
    "        '''\n",
    "        Return the tracks per each user.\n",
    "        '''\n",
    "        return self.tracksPerUser\n",
    "    \n",
    "    def getFeatureDict(self):\n",
    "        '''\n",
    "        Returns the features of each user.\n",
    "        '''\n",
    "        return self.featureDict        \n",
    "    \n",
    "    def CosineUser(self, u1, u2):\n",
    "        '''\n",
    "        This generates the cosine similarity between two users.\n",
    "        '''\n",
    "        # Between two users\n",
    "        \n",
    "        tracksPerUser = self.getTracksPerUser()\n",
    "        featureDict = self.getFeatureDict()\n",
    "        \n",
    "        inter = tracksPerUser[u1].intersection(tracksPerUser[u2])\n",
    "        numer = 0\n",
    "        denom1 = 0\n",
    "        denom2 = 0\n",
    "        \n",
    "        for t in inter:\n",
    "            if t not in featureDict:\n",
    "                numer = 0\n",
    "                continue\n",
    "            numer += sum([a * b for a, b in zip(featureDict[t].values(),featureDict[t].values())])\n",
    "            #summation of the product of two users songs\n",
    "        for t in tracksPerUser[u1]:\n",
    "            if t not in featureDict:\n",
    "                denom1 = 0\n",
    "                continue\n",
    "            denom1 += sum([l ** 2 for l in featureDict[t].values()])\n",
    "            #summation of the squared values of one users song features\n",
    "        for t in tracksPerUser[u2]:\n",
    "            if t not in featureDict:\n",
    "                denom2 = 0\n",
    "                continue\n",
    "            denom2 += sum([l ** 2 for l in featureDict[t].values()])\n",
    "            #summation of the squared values of one users song features\n",
    "        denom = math.sqrt(denom1) * math.sqrt(denom2)\n",
    "        if denom == 0: return 0\n",
    "        return numer / denom\n",
    "    \n",
    "    def mostSimilarUser(self, u, N):\n",
    "        '''\n",
    "        Our similarity function for users.\n",
    "        '''\n",
    "        \n",
    "        tracksPerUser = self.getTracksPerUser()\n",
    "        \n",
    "        similarities = []\n",
    "        for u2 in tracksPerUser:\n",
    "            if u2 == u:\n",
    "                continue\n",
    "            sim = self.CosineUser(u, u2)\n",
    "            similarities.append((sim,u2))\n",
    "        similarities.sort(reverse = True)\n",
    "        return similarities[:N]\n",
    "        \n"
   ]
  },
  {
   "cell_type": "code",
   "execution_count": 110,
   "metadata": {},
   "outputs": [],
   "source": [
    "s = songRecommender(userFeatures)"
   ]
  },
  {
   "cell_type": "code",
   "execution_count": 111,
   "metadata": {
    "scrolled": false
   },
   "outputs": [
    {
     "data": {
      "text/plain": [
       "[(0.13135717234483252, '5_0dd87232-c564-493b-8e23-6fd2763ffe4c'),\n",
       " (0.12053354028027405, '14_d70eae71-5e55-4856-b275-14e8ba39b282'),\n",
       " (0.10125046246533033, '64_72cc0289-3cb6-47e0-8794-1655571a6922'),\n",
       " (0.07166377425017433, '5_1951099f-a089-4f52-8013-ae1187809e95'),\n",
       " (0.07087410334923262, '49_4606c3f8-26fc-4bea-8f34-a87a56574353'),\n",
       " (0.026052813848477557, '43_80a0bfe5-d348-4d31-8482-c7ce0988eee3'),\n",
       " (0.02240982391997432, '17_0dbb1ec5-a7f6-4581-ba62-8c28b10d8679'),\n",
       " (0.0, '9_fdc1ed7a-118b-4300-bc1d-0f46a1137e7a'),\n",
       " (0.0, '9_8dd92d30-7e39-4920-8423-7543712af4ad'),\n",
       " (0.0, '9_62595f2a-e5cc-467d-a4ce-9c5e67251c4d')]"
      ]
     },
     "execution_count": 111,
     "metadata": {},
     "output_type": "execute_result"
    }
   ],
   "source": [
    "s.mostSimilarUser('37_5d831937-4681-4e68-a245-6168d16eee19', 10)"
   ]
  },
  {
   "cell_type": "code",
   "execution_count": null,
   "metadata": {},
   "outputs": [],
   "source": [
    "class songRecommenderFix():\n",
    "    "
   ]
  }
 ],
 "metadata": {
  "kernelspec": {
   "display_name": "Python 3",
   "language": "python",
   "name": "python3"
  },
  "language_info": {
   "codemirror_mode": {
    "name": "ipython",
    "version": 3
   },
   "file_extension": ".py",
   "mimetype": "text/x-python",
   "name": "python",
   "nbconvert_exporter": "python",
   "pygments_lexer": "ipython3",
   "version": "3.8.5"
  }
 },
 "nbformat": 4,
 "nbformat_minor": 4
}
