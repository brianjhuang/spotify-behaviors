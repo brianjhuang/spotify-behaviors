{
 "cells": [
  {
   "cell_type": "code",
   "execution_count": 2,
   "metadata": {},
   "outputs": [],
   "source": [
    "from pyspark.sql import functions as f\n",
    "from pyspark.sql import SparkSession\n",
    "import os\n",
    "import pandas as pd\n",
    "import random"
   ]
  },
  {
   "cell_type": "code",
   "execution_count": 3,
   "metadata": {},
   "outputs": [],
   "source": [
    "spark = SparkSession.builder.getOrCreate()"
   ]
  },
  {
   "cell_type": "code",
   "execution_count": 4,
   "metadata": {},
   "outputs": [
    {
     "data": {
      "text/plain": [
       "'/Volumes/Marceline Jr./Spotify Dataset/sampled_users.csv'"
      ]
     },
     "execution_count": 4,
     "metadata": {},
     "output_type": "execute_result"
    }
   ],
   "source": [
    "spark_fp = os.path.join(\"/\", \"Volumes\", \"Marceline Jr.\", \"Spotify Dataset\", \"sampled_users.csv\")\n",
    "spark_fp"
   ]
  },
  {
   "cell_type": "code",
   "execution_count": 5,
   "metadata": {},
   "outputs": [],
   "source": [
    "df = spark.read.option(\"header\", \"true\").csv(spark_fp)"
   ]
  },
  {
   "cell_type": "code",
   "execution_count": 6,
   "metadata": {},
   "outputs": [],
   "source": [
    "users = df.toPandas()"
   ]
  },
  {
   "cell_type": "code",
   "execution_count": 7,
   "metadata": {},
   "outputs": [],
   "source": [
    "tf_path_one = os.path.join(\"/\", \"Volumes\", \"Marceline Jr.\", \"Spotify Dataset\", \"track_features\", \"tf_000000000000.csv\")\n",
    "tf_path_two = os.path.join(\"/\", \"Volumes\", \"Marceline Jr.\", \"Spotify Dataset\", \"track_features\", \"tf_000000000001.csv\")"
   ]
  },
  {
   "cell_type": "code",
   "execution_count": 8,
   "metadata": {},
   "outputs": [],
   "source": [
    "track_features_one = pd.read_csv(tf_path_one)\n",
    "track_features_two = pd.read_csv(tf_path_two)"
   ]
  },
  {
   "cell_type": "code",
   "execution_count": 9,
   "metadata": {},
   "outputs": [],
   "source": [
    "track_features = pd.concat([track_features_one, track_features_two])"
   ]
  },
  {
   "cell_type": "code",
   "execution_count": 10,
   "metadata": {},
   "outputs": [],
   "source": [
    "userFeatures = pd.merge(users, track_features, left_on = 'track_id_clean', right_on = 'track_id')\n",
    "nonModifiedFeatures = pd.merge(users, track_features, left_on = 'track_id_clean', right_on = 'track_id')"
   ]
  },
  {
   "cell_type": "code",
   "execution_count": 11,
   "metadata": {},
   "outputs": [],
   "source": [
    "pd.set_option('display.max_columns', None)"
   ]
  },
  {
   "cell_type": "code",
   "execution_count": 12,
   "metadata": {
    "scrolled": false
   },
   "outputs": [
    {
     "data": {
      "text/html": [
       "<div>\n",
       "<style scoped>\n",
       "    .dataframe tbody tr th:only-of-type {\n",
       "        vertical-align: middle;\n",
       "    }\n",
       "\n",
       "    .dataframe tbody tr th {\n",
       "        vertical-align: top;\n",
       "    }\n",
       "\n",
       "    .dataframe thead th {\n",
       "        text-align: right;\n",
       "    }\n",
       "</style>\n",
       "<table border=\"1\" class=\"dataframe\">\n",
       "  <thead>\n",
       "    <tr style=\"text-align: right;\">\n",
       "      <th></th>\n",
       "      <th>session_id</th>\n",
       "      <th>session_position</th>\n",
       "      <th>session_length</th>\n",
       "      <th>track_id_clean</th>\n",
       "      <th>skip_1</th>\n",
       "      <th>skip_2</th>\n",
       "      <th>skip_3</th>\n",
       "      <th>not_skipped</th>\n",
       "      <th>context_switch</th>\n",
       "      <th>no_pause_before_play</th>\n",
       "      <th>short_pause_before_play</th>\n",
       "      <th>long_pause_before_play</th>\n",
       "      <th>hist_user_behavior_n_seekfwd</th>\n",
       "      <th>hist_user_behavior_n_seekback</th>\n",
       "      <th>hist_user_behavior_is_shuffle</th>\n",
       "      <th>hour_of_day</th>\n",
       "      <th>date</th>\n",
       "      <th>premium</th>\n",
       "      <th>context_type</th>\n",
       "      <th>hist_user_behavior_reason_start</th>\n",
       "      <th>hist_user_behavior_reason_end</th>\n",
       "      <th>track_id</th>\n",
       "      <th>duration</th>\n",
       "      <th>release_year</th>\n",
       "      <th>us_popularity_estimate</th>\n",
       "      <th>acousticness</th>\n",
       "      <th>beat_strength</th>\n",
       "      <th>bounciness</th>\n",
       "      <th>danceability</th>\n",
       "      <th>dyn_range_mean</th>\n",
       "      <th>energy</th>\n",
       "      <th>flatness</th>\n",
       "      <th>instrumentalness</th>\n",
       "      <th>key</th>\n",
       "      <th>liveness</th>\n",
       "      <th>loudness</th>\n",
       "      <th>mechanism</th>\n",
       "      <th>mode</th>\n",
       "      <th>organism</th>\n",
       "      <th>speechiness</th>\n",
       "      <th>tempo</th>\n",
       "      <th>time_signature</th>\n",
       "      <th>valence</th>\n",
       "      <th>acoustic_vector_0</th>\n",
       "      <th>acoustic_vector_1</th>\n",
       "      <th>acoustic_vector_2</th>\n",
       "      <th>acoustic_vector_3</th>\n",
       "      <th>acoustic_vector_4</th>\n",
       "      <th>acoustic_vector_5</th>\n",
       "      <th>acoustic_vector_6</th>\n",
       "      <th>acoustic_vector_7</th>\n",
       "    </tr>\n",
       "  </thead>\n",
       "  <tbody>\n",
       "    <tr>\n",
       "      <th>0</th>\n",
       "      <td>42_50cb77d0-9f69-4948-98a6-445f4f1d98da</td>\n",
       "      <td>1</td>\n",
       "      <td>18</td>\n",
       "      <td>t_3bc02be3-ab02-4c9f-94af-04910b00a14c</td>\n",
       "      <td>true</td>\n",
       "      <td>true</td>\n",
       "      <td>true</td>\n",
       "      <td>false</td>\n",
       "      <td>0</td>\n",
       "      <td>0</td>\n",
       "      <td>0</td>\n",
       "      <td>0</td>\n",
       "      <td>0</td>\n",
       "      <td>0</td>\n",
       "      <td>true</td>\n",
       "      <td>16</td>\n",
       "      <td>2018-08-26</td>\n",
       "      <td>true</td>\n",
       "      <td>user_collection</td>\n",
       "      <td>fwdbtn</td>\n",
       "      <td>fwdbtn</td>\n",
       "      <td>t_3bc02be3-ab02-4c9f-94af-04910b00a14c</td>\n",
       "      <td>284.506683</td>\n",
       "      <td>2013</td>\n",
       "      <td>99.971866</td>\n",
       "      <td>0.279228</td>\n",
       "      <td>0.505583</td>\n",
       "      <td>0.565925</td>\n",
       "      <td>0.624569</td>\n",
       "      <td>8.799324</td>\n",
       "      <td>0.641628</td>\n",
       "      <td>0.983994</td>\n",
       "      <td>1.215048e-06</td>\n",
       "      <td>0</td>\n",
       "      <td>0.103448</td>\n",
       "      <td>-7.291</td>\n",
       "      <td>0.250729</td>\n",
       "      <td>major</td>\n",
       "      <td>0.565409</td>\n",
       "      <td>0.168414</td>\n",
       "      <td>84.543999</td>\n",
       "      <td>4</td>\n",
       "      <td>0.332708</td>\n",
       "      <td>-0.747017</td>\n",
       "      <td>0.236945</td>\n",
       "      <td>0.157640</td>\n",
       "      <td>0.053084</td>\n",
       "      <td>-0.247379</td>\n",
       "      <td>-0.015617</td>\n",
       "      <td>-0.557144</td>\n",
       "      <td>0.094659</td>\n",
       "    </tr>\n",
       "    <tr>\n",
       "      <th>1</th>\n",
       "      <td>42_50cb77d0-9f69-4948-98a6-445f4f1d98da</td>\n",
       "      <td>2</td>\n",
       "      <td>18</td>\n",
       "      <td>t_529537c9-bfb0-4058-bb9a-1d93ef071263</td>\n",
       "      <td>true</td>\n",
       "      <td>true</td>\n",
       "      <td>true</td>\n",
       "      <td>false</td>\n",
       "      <td>0</td>\n",
       "      <td>1</td>\n",
       "      <td>0</td>\n",
       "      <td>0</td>\n",
       "      <td>0</td>\n",
       "      <td>0</td>\n",
       "      <td>true</td>\n",
       "      <td>16</td>\n",
       "      <td>2018-08-26</td>\n",
       "      <td>true</td>\n",
       "      <td>user_collection</td>\n",
       "      <td>fwdbtn</td>\n",
       "      <td>fwdbtn</td>\n",
       "      <td>t_529537c9-bfb0-4058-bb9a-1d93ef071263</td>\n",
       "      <td>258.399994</td>\n",
       "      <td>2013</td>\n",
       "      <td>99.978626</td>\n",
       "      <td>0.174235</td>\n",
       "      <td>0.539210</td>\n",
       "      <td>0.580000</td>\n",
       "      <td>0.740413</td>\n",
       "      <td>8.774446</td>\n",
       "      <td>0.474385</td>\n",
       "      <td>1.037253</td>\n",
       "      <td>8.307667e-06</td>\n",
       "      <td>11</td>\n",
       "      <td>0.152949</td>\n",
       "      <td>-8.708</td>\n",
       "      <td>0.538653</td>\n",
       "      <td>minor</td>\n",
       "      <td>0.348711</td>\n",
       "      <td>0.062201</td>\n",
       "      <td>107.454002</td>\n",
       "      <td>4</td>\n",
       "      <td>0.081849</td>\n",
       "      <td>-0.859858</td>\n",
       "      <td>0.301731</td>\n",
       "      <td>0.208637</td>\n",
       "      <td>0.108421</td>\n",
       "      <td>-0.310408</td>\n",
       "      <td>-0.036791</td>\n",
       "      <td>-0.545892</td>\n",
       "      <td>0.162957</td>\n",
       "    </tr>\n",
       "    <tr>\n",
       "      <th>2</th>\n",
       "      <td>42_50cb77d0-9f69-4948-98a6-445f4f1d98da</td>\n",
       "      <td>3</td>\n",
       "      <td>18</td>\n",
       "      <td>t_c29129f2-7b64-4c1e-9587-676632b7800d</td>\n",
       "      <td>true</td>\n",
       "      <td>true</td>\n",
       "      <td>true</td>\n",
       "      <td>false</td>\n",
       "      <td>0</td>\n",
       "      <td>0</td>\n",
       "      <td>1</td>\n",
       "      <td>1</td>\n",
       "      <td>0</td>\n",
       "      <td>0</td>\n",
       "      <td>true</td>\n",
       "      <td>16</td>\n",
       "      <td>2018-08-26</td>\n",
       "      <td>true</td>\n",
       "      <td>user_collection</td>\n",
       "      <td>fwdbtn</td>\n",
       "      <td>fwdbtn</td>\n",
       "      <td>t_c29129f2-7b64-4c1e-9587-676632b7800d</td>\n",
       "      <td>875.306641</td>\n",
       "      <td>2014</td>\n",
       "      <td>99.978268</td>\n",
       "      <td>0.854981</td>\n",
       "      <td>0.560593</td>\n",
       "      <td>0.650291</td>\n",
       "      <td>0.651595</td>\n",
       "      <td>10.094535</td>\n",
       "      <td>0.455094</td>\n",
       "      <td>1.013489</td>\n",
       "      <td>5.354104e-10</td>\n",
       "      <td>8</td>\n",
       "      <td>0.171293</td>\n",
       "      <td>-8.673</td>\n",
       "      <td>0.200926</td>\n",
       "      <td>major</td>\n",
       "      <td>0.827500</td>\n",
       "      <td>0.115338</td>\n",
       "      <td>83.151001</td>\n",
       "      <td>4</td>\n",
       "      <td>0.325166</td>\n",
       "      <td>-0.517902</td>\n",
       "      <td>0.006190</td>\n",
       "      <td>0.087467</td>\n",
       "      <td>0.191870</td>\n",
       "      <td>-0.131095</td>\n",
       "      <td>-0.131147</td>\n",
       "      <td>-0.435564</td>\n",
       "      <td>-0.100854</td>\n",
       "    </tr>\n",
       "    <tr>\n",
       "      <th>3</th>\n",
       "      <td>42_50cb77d0-9f69-4948-98a6-445f4f1d98da</td>\n",
       "      <td>4</td>\n",
       "      <td>18</td>\n",
       "      <td>t_6c1ce50d-d33a-4502-8c58-335f23b03145</td>\n",
       "      <td>true</td>\n",
       "      <td>true</td>\n",
       "      <td>true</td>\n",
       "      <td>false</td>\n",
       "      <td>0</td>\n",
       "      <td>1</td>\n",
       "      <td>0</td>\n",
       "      <td>0</td>\n",
       "      <td>0</td>\n",
       "      <td>0</td>\n",
       "      <td>true</td>\n",
       "      <td>16</td>\n",
       "      <td>2018-08-26</td>\n",
       "      <td>true</td>\n",
       "      <td>user_collection</td>\n",
       "      <td>fwdbtn</td>\n",
       "      <td>fwdbtn</td>\n",
       "      <td>t_6c1ce50d-d33a-4502-8c58-335f23b03145</td>\n",
       "      <td>237.946671</td>\n",
       "      <td>2011</td>\n",
       "      <td>99.934497</td>\n",
       "      <td>0.092926</td>\n",
       "      <td>0.522707</td>\n",
       "      <td>0.645280</td>\n",
       "      <td>0.556230</td>\n",
       "      <td>10.356951</td>\n",
       "      <td>0.573947</td>\n",
       "      <td>1.029153</td>\n",
       "      <td>2.194449e-04</td>\n",
       "      <td>10</td>\n",
       "      <td>0.113326</td>\n",
       "      <td>-8.555</td>\n",
       "      <td>0.464015</td>\n",
       "      <td>minor</td>\n",
       "      <td>0.384652</td>\n",
       "      <td>0.095105</td>\n",
       "      <td>138.953995</td>\n",
       "      <td>4</td>\n",
       "      <td>0.290325</td>\n",
       "      <td>-0.854975</td>\n",
       "      <td>0.354534</td>\n",
       "      <td>0.233016</td>\n",
       "      <td>0.039705</td>\n",
       "      <td>-0.422565</td>\n",
       "      <td>0.041233</td>\n",
       "      <td>-0.445123</td>\n",
       "      <td>0.352062</td>\n",
       "    </tr>\n",
       "    <tr>\n",
       "      <th>4</th>\n",
       "      <td>42_50cb77d0-9f69-4948-98a6-445f4f1d98da</td>\n",
       "      <td>5</td>\n",
       "      <td>18</td>\n",
       "      <td>t_85418d4c-2b2d-4270-836e-ef789bb28555</td>\n",
       "      <td>true</td>\n",
       "      <td>true</td>\n",
       "      <td>true</td>\n",
       "      <td>false</td>\n",
       "      <td>0</td>\n",
       "      <td>1</td>\n",
       "      <td>0</td>\n",
       "      <td>0</td>\n",
       "      <td>0</td>\n",
       "      <td>0</td>\n",
       "      <td>true</td>\n",
       "      <td>16</td>\n",
       "      <td>2018-08-26</td>\n",
       "      <td>true</td>\n",
       "      <td>user_collection</td>\n",
       "      <td>fwdbtn</td>\n",
       "      <td>fwdbtn</td>\n",
       "      <td>t_85418d4c-2b2d-4270-836e-ef789bb28555</td>\n",
       "      <td>223.216324</td>\n",
       "      <td>2013</td>\n",
       "      <td>99.836948</td>\n",
       "      <td>0.259199</td>\n",
       "      <td>0.505158</td>\n",
       "      <td>0.562672</td>\n",
       "      <td>0.634538</td>\n",
       "      <td>8.739496</td>\n",
       "      <td>0.702552</td>\n",
       "      <td>1.020529</td>\n",
       "      <td>4.562811e-01</td>\n",
       "      <td>1</td>\n",
       "      <td>0.113926</td>\n",
       "      <td>-6.786</td>\n",
       "      <td>0.263538</td>\n",
       "      <td>major</td>\n",
       "      <td>0.552069</td>\n",
       "      <td>0.156347</td>\n",
       "      <td>85.946999</td>\n",
       "      <td>4</td>\n",
       "      <td>0.425356</td>\n",
       "      <td>-0.891446</td>\n",
       "      <td>0.229755</td>\n",
       "      <td>0.256360</td>\n",
       "      <td>0.193858</td>\n",
       "      <td>-0.322325</td>\n",
       "      <td>-0.040302</td>\n",
       "      <td>-0.553673</td>\n",
       "      <td>0.162334</td>\n",
       "    </tr>\n",
       "  </tbody>\n",
       "</table>\n",
       "</div>"
      ],
      "text/plain": [
       "                                session_id session_position session_length  \\\n",
       "0  42_50cb77d0-9f69-4948-98a6-445f4f1d98da                1             18   \n",
       "1  42_50cb77d0-9f69-4948-98a6-445f4f1d98da                2             18   \n",
       "2  42_50cb77d0-9f69-4948-98a6-445f4f1d98da                3             18   \n",
       "3  42_50cb77d0-9f69-4948-98a6-445f4f1d98da                4             18   \n",
       "4  42_50cb77d0-9f69-4948-98a6-445f4f1d98da                5             18   \n",
       "\n",
       "                           track_id_clean skip_1 skip_2 skip_3 not_skipped  \\\n",
       "0  t_3bc02be3-ab02-4c9f-94af-04910b00a14c   true   true   true       false   \n",
       "1  t_529537c9-bfb0-4058-bb9a-1d93ef071263   true   true   true       false   \n",
       "2  t_c29129f2-7b64-4c1e-9587-676632b7800d   true   true   true       false   \n",
       "3  t_6c1ce50d-d33a-4502-8c58-335f23b03145   true   true   true       false   \n",
       "4  t_85418d4c-2b2d-4270-836e-ef789bb28555   true   true   true       false   \n",
       "\n",
       "  context_switch no_pause_before_play short_pause_before_play  \\\n",
       "0              0                    0                       0   \n",
       "1              0                    1                       0   \n",
       "2              0                    0                       1   \n",
       "3              0                    1                       0   \n",
       "4              0                    1                       0   \n",
       "\n",
       "  long_pause_before_play hist_user_behavior_n_seekfwd  \\\n",
       "0                      0                            0   \n",
       "1                      0                            0   \n",
       "2                      1                            0   \n",
       "3                      0                            0   \n",
       "4                      0                            0   \n",
       "\n",
       "  hist_user_behavior_n_seekback hist_user_behavior_is_shuffle hour_of_day  \\\n",
       "0                             0                          true          16   \n",
       "1                             0                          true          16   \n",
       "2                             0                          true          16   \n",
       "3                             0                          true          16   \n",
       "4                             0                          true          16   \n",
       "\n",
       "         date premium     context_type hist_user_behavior_reason_start  \\\n",
       "0  2018-08-26    true  user_collection                          fwdbtn   \n",
       "1  2018-08-26    true  user_collection                          fwdbtn   \n",
       "2  2018-08-26    true  user_collection                          fwdbtn   \n",
       "3  2018-08-26    true  user_collection                          fwdbtn   \n",
       "4  2018-08-26    true  user_collection                          fwdbtn   \n",
       "\n",
       "  hist_user_behavior_reason_end                                track_id  \\\n",
       "0                        fwdbtn  t_3bc02be3-ab02-4c9f-94af-04910b00a14c   \n",
       "1                        fwdbtn  t_529537c9-bfb0-4058-bb9a-1d93ef071263   \n",
       "2                        fwdbtn  t_c29129f2-7b64-4c1e-9587-676632b7800d   \n",
       "3                        fwdbtn  t_6c1ce50d-d33a-4502-8c58-335f23b03145   \n",
       "4                        fwdbtn  t_85418d4c-2b2d-4270-836e-ef789bb28555   \n",
       "\n",
       "     duration  release_year  us_popularity_estimate  acousticness  \\\n",
       "0  284.506683          2013               99.971866      0.279228   \n",
       "1  258.399994          2013               99.978626      0.174235   \n",
       "2  875.306641          2014               99.978268      0.854981   \n",
       "3  237.946671          2011               99.934497      0.092926   \n",
       "4  223.216324          2013               99.836948      0.259199   \n",
       "\n",
       "   beat_strength  bounciness  danceability  dyn_range_mean    energy  \\\n",
       "0       0.505583    0.565925      0.624569        8.799324  0.641628   \n",
       "1       0.539210    0.580000      0.740413        8.774446  0.474385   \n",
       "2       0.560593    0.650291      0.651595       10.094535  0.455094   \n",
       "3       0.522707    0.645280      0.556230       10.356951  0.573947   \n",
       "4       0.505158    0.562672      0.634538        8.739496  0.702552   \n",
       "\n",
       "   flatness  instrumentalness  key  liveness  loudness  mechanism   mode  \\\n",
       "0  0.983994      1.215048e-06    0  0.103448    -7.291   0.250729  major   \n",
       "1  1.037253      8.307667e-06   11  0.152949    -8.708   0.538653  minor   \n",
       "2  1.013489      5.354104e-10    8  0.171293    -8.673   0.200926  major   \n",
       "3  1.029153      2.194449e-04   10  0.113326    -8.555   0.464015  minor   \n",
       "4  1.020529      4.562811e-01    1  0.113926    -6.786   0.263538  major   \n",
       "\n",
       "   organism  speechiness       tempo  time_signature   valence  \\\n",
       "0  0.565409     0.168414   84.543999               4  0.332708   \n",
       "1  0.348711     0.062201  107.454002               4  0.081849   \n",
       "2  0.827500     0.115338   83.151001               4  0.325166   \n",
       "3  0.384652     0.095105  138.953995               4  0.290325   \n",
       "4  0.552069     0.156347   85.946999               4  0.425356   \n",
       "\n",
       "   acoustic_vector_0  acoustic_vector_1  acoustic_vector_2  acoustic_vector_3  \\\n",
       "0          -0.747017           0.236945           0.157640           0.053084   \n",
       "1          -0.859858           0.301731           0.208637           0.108421   \n",
       "2          -0.517902           0.006190           0.087467           0.191870   \n",
       "3          -0.854975           0.354534           0.233016           0.039705   \n",
       "4          -0.891446           0.229755           0.256360           0.193858   \n",
       "\n",
       "   acoustic_vector_4  acoustic_vector_5  acoustic_vector_6  acoustic_vector_7  \n",
       "0          -0.247379          -0.015617          -0.557144           0.094659  \n",
       "1          -0.310408          -0.036791          -0.545892           0.162957  \n",
       "2          -0.131095          -0.131147          -0.435564          -0.100854  \n",
       "3          -0.422565           0.041233          -0.445123           0.352062  \n",
       "4          -0.322325          -0.040302          -0.553673           0.162334  "
      ]
     },
     "execution_count": 12,
     "metadata": {},
     "output_type": "execute_result"
    }
   ],
   "source": [
    "userFeatures.head()"
   ]
  },
  {
   "cell_type": "code",
   "execution_count": 13,
   "metadata": {},
   "outputs": [],
   "source": [
    "cols = list(userFeatures.columns)"
   ]
  },
  {
   "cell_type": "code",
   "execution_count": 14,
   "metadata": {},
   "outputs": [],
   "source": [
    "drop = cols[1:25]"
   ]
  },
  {
   "cell_type": "code",
   "execution_count": 15,
   "metadata": {},
   "outputs": [],
   "source": [
    "userFeatures.drop(columns = drop, inplace = True)"
   ]
  },
  {
   "cell_type": "code",
   "execution_count": 16,
   "metadata": {
    "scrolled": false
   },
   "outputs": [],
   "source": [
    "userFeatures['mode'] = userFeatures['mode'].apply(lambda x: 1 if x == 'major' else 0)"
   ]
  },
  {
   "cell_type": "code",
   "execution_count": 17,
   "metadata": {},
   "outputs": [],
   "source": [
    "features = userFeatures.groupby('session_id').mean()"
   ]
  },
  {
   "cell_type": "code",
   "execution_count": 18,
   "metadata": {},
   "outputs": [],
   "source": [
    "X = features.reset_index().drop('session_id', axis = 1)\n",
    "#we wanted to groupby so we would cluster by user avg song features"
   ]
  },
  {
   "cell_type": "markdown",
   "metadata": {},
   "source": [
    "Drop our code so we only have the track features for clustering"
   ]
  },
  {
   "cell_type": "code",
   "execution_count": 19,
   "metadata": {},
   "outputs": [],
   "source": [
    "from sklearn.cluster import KMeans\n",
    "cluster = KMeans(n_clusters = 3)\n",
    "cluster.fit(X)"
   ]
  },
  {
   "cell_type": "code",
   "execution_count": 22,
   "metadata": {
    "scrolled": false
   },
   "outputs": [
    {
     "data": {
      "text/plain": [
       "array([2, 0, 1, 2, 1, 1, 0, 1, 1, 1, 1, 0, 1, 0, 1, 2, 1, 2, 0, 0, 0, 1,\n",
       "       0, 1, 0, 0, 2, 1, 0, 0, 2, 0, 0, 0, 0, 0, 0, 2, 0, 0, 1, 1, 2, 2,\n",
       "       0, 0, 1, 0, 2, 0, 1, 1, 2, 0, 0, 0, 0, 0, 0, 1, 1, 2, 0, 1, 0, 1,\n",
       "       0, 1, 0, 1, 1, 1, 1, 2, 0, 2, 1, 0, 1, 2, 0, 0, 0, 2, 1, 1, 0, 0,\n",
       "       0, 2, 2, 0, 2, 0, 0, 1, 1, 2, 0, 2], dtype=int32)"
      ]
     },
     "execution_count": 22,
     "metadata": {},
     "output_type": "execute_result"
    }
   ],
   "source": [
    "cluster.labels_"
   ]
  },
  {
   "cell_type": "markdown",
   "metadata": {},
   "source": [
    "grab our cluster labels and re-add them to our features so we have session_id and corresponding cluster"
   ]
  },
  {
   "cell_type": "code",
   "execution_count": 23,
   "metadata": {},
   "outputs": [],
   "source": [
    "y = userFeatures.groupby('session_id').mean()"
   ]
  },
  {
   "cell_type": "code",
   "execution_count": 24,
   "metadata": {},
   "outputs": [],
   "source": [
    "y['Cluster'] = cluster.labels_"
   ]
  },
  {
   "cell_type": "code",
   "execution_count": 25,
   "metadata": {},
   "outputs": [],
   "source": [
    "userOne = y[y['Cluster'] == 0]\n",
    "userTwo = y[y['Cluster'] == 1]\n",
    "userThree = y[y['Cluster'] == 2]"
   ]
  },
  {
   "cell_type": "code",
   "execution_count": 26,
   "metadata": {},
   "outputs": [],
   "source": [
    "userOneFeatures = userOne.merge(nonModifiedFeatures, on = 'session_id', how = 'inner')\n",
    "userTwoFeatures = userTwo.merge(nonModifiedFeatures, on = 'session_id', how = 'inner')\n",
    "userThreeFeatures = userThree.merge(nonModifiedFeatures, on = 'session_id', how = 'inner')"
   ]
  },
  {
   "cell_type": "code",
   "execution_count": 27,
   "metadata": {},
   "outputs": [],
   "source": [
    "userOneFeatures.drop(['acousticness_x', 'beat_strength_x', 'bounciness_x',\n",
    "       'danceability_x', 'dyn_range_mean_x', 'energy_x', 'flatness_x',\n",
    "       'instrumentalness_x', 'key_x', 'liveness_x', 'loudness_x',\n",
    "       'mechanism_x', 'mode_x', 'organism_x', 'speechiness_x', 'tempo_x',\n",
    "       'time_signature_x', 'valence_x', 'acoustic_vector_0_x',\n",
    "       'acoustic_vector_1_x', 'acoustic_vector_2_x', 'acoustic_vector_3_x',\n",
    "       'acoustic_vector_4_x', 'acoustic_vector_5_x', 'acoustic_vector_6_x',\n",
    "       'acoustic_vector_7_x', 'Cluster'], axis = 1, inplace = True)\n",
    "userTwoFeatures.drop(['acousticness_x', 'beat_strength_x', 'bounciness_x',\n",
    "       'danceability_x', 'dyn_range_mean_x', 'energy_x', 'flatness_x',\n",
    "       'instrumentalness_x', 'key_x', 'liveness_x', 'loudness_x',\n",
    "       'mechanism_x', 'mode_x', 'organism_x', 'speechiness_x', 'tempo_x',\n",
    "       'time_signature_x', 'valence_x', 'acoustic_vector_0_x',\n",
    "       'acoustic_vector_1_x', 'acoustic_vector_2_x', 'acoustic_vector_3_x',\n",
    "       'acoustic_vector_4_x', 'acoustic_vector_5_x', 'acoustic_vector_6_x',\n",
    "       'acoustic_vector_7_x', 'Cluster'], axis = 1, inplace = True)\n",
    "userThreeFeatures.drop(['acousticness_x', 'beat_strength_x', 'bounciness_x',\n",
    "       'danceability_x', 'dyn_range_mean_x', 'energy_x', 'flatness_x',\n",
    "       'instrumentalness_x', 'key_x', 'liveness_x', 'loudness_x',\n",
    "       'mechanism_x', 'mode_x', 'organism_x', 'speechiness_x', 'tempo_x',\n",
    "       'time_signature_x', 'valence_x', 'acoustic_vector_0_x',\n",
    "       'acoustic_vector_1_x', 'acoustic_vector_2_x', 'acoustic_vector_3_x',\n",
    "       'acoustic_vector_4_x', 'acoustic_vector_5_x', 'acoustic_vector_6_x',\n",
    "       'acoustic_vector_7_x', 'Cluster'], axis = 1, inplace = True)"
   ]
  },
  {
   "cell_type": "code",
   "execution_count": 28,
   "metadata": {},
   "outputs": [],
   "source": [
    "userOneFeatures.rename(columns = lambda x: x[:-2] if x[-2:] == '_y' else x, inplace = True)\n",
    "userTwoFeatures.rename(columns = lambda x: x[:-2] if x[-2:] == '_y' else x, inplace = True)\n",
    "userThreeFeatures.rename(columns = lambda x: x[:-2] if x[-2:] == '_y' else x, inplace = True)"
   ]
  },
  {
   "cell_type": "code",
   "execution_count": 29,
   "metadata": {},
   "outputs": [],
   "source": [
    "userOneFeatures['not_skipped'] = userOneFeatures['not_skipped'].apply(lambda x: 1 if x == True else 0)\n",
    "userTwoFeatures['not_skipped'] = userTwoFeatures['not_skipped'].apply(lambda x: 1 if x == True else 0)\n",
    "userThreeFeatures['not_skipped'] = userThreeFeatures['not_skipped'].apply(lambda x: 1 if x == True else 0)"
   ]
  },
  {
   "cell_type": "code",
   "execution_count": 30,
   "metadata": {},
   "outputs": [],
   "source": [
    "userOneFeatures['premium']= userOneFeatures['premium'].apply(lambda x: 1 if x is True else 0)\n",
    "userOneFeatures['hist_user_behavior_is_shuffle'] = userOneFeatures['hist_user_behavior_is_shuffle'].apply(lambda x: 1 if x is True else 0)\n",
    "\n",
    "userTwoFeatures['premium']= userTwoFeatures['premium'].apply(lambda x: 1 if x is True else 0)\n",
    "userTwoFeatures['hist_user_behavior_is_shuffle'] = userTwoFeatures['hist_user_behavior_is_shuffle'].apply(lambda x: 1 if x is True else 0)\n",
    "\n",
    "userThreeFeatures['premium']= userThreeFeatures['premium'].apply(lambda x: 1 if x is True else 0)\n",
    "userThreeFeatures['hist_user_behavior_is_shuffle'] = userThreeFeatures['hist_user_behavior_is_shuffle'].apply(lambda x: 1 if x is True else 0)"
   ]
  },
  {
   "cell_type": "code",
   "execution_count": 31,
   "metadata": {},
   "outputs": [],
   "source": [
    "userOneFeatures.drop(['track_id_clean', \n",
    "         'skip_1', \n",
    "         'skip_2', \n",
    "         'skip_3',\n",
    "         'hist_user_behavior_reason_end', \n",
    "         'session_id', #session id would bring our sklearn model down bc its not just a single value\n",
    "         #different users don't consistently listen to the same amount of songs, vectors could be differing size\n",
    "         #listen to different types of songs\n",
    "         #session_id does not encode that information, it tells me nothing about my user's behavior even thought it is a numrical value\n",
    "         #session_id points to the group of songs that the user listens to\n",
    "         'track_id',\n",
    "         'date'], \n",
    "        axis = 1, inplace = True)"
   ]
  },
  {
   "cell_type": "code",
   "execution_count": 32,
   "metadata": {},
   "outputs": [],
   "source": [
    "userTwoFeatures.drop(['track_id_clean', \n",
    "         'skip_1', \n",
    "         'skip_2', \n",
    "         'skip_3',\n",
    "         'hist_user_behavior_reason_end', \n",
    "         'session_id', #session id would bring our sklearn model down bc its not just a single value\n",
    "         #different users don't consistently listen to the same amount of songs, vectors could be differing size\n",
    "         #listen to different types of songs\n",
    "         #session_id does not encode that information, it tells me nothing about my user's behavior even thought it is a numrical value\n",
    "         #session_id points to the group of songs that the user listens to\n",
    "         'track_id',\n",
    "         'date'], \n",
    "        axis = 1, inplace = True)"
   ]
  },
  {
   "cell_type": "code",
   "execution_count": 33,
   "metadata": {},
   "outputs": [],
   "source": [
    "userThreeFeatures.drop(['track_id_clean', \n",
    "         'skip_1', \n",
    "         'skip_2', \n",
    "         'skip_3',\n",
    "         'hist_user_behavior_reason_end', \n",
    "         'session_id', #session id would bring our sklearn model down bc its not just a single value\n",
    "         #different users don't consistently listen to the same amount of songs, vectors could be differing size\n",
    "         #listen to different types of songs\n",
    "         #session_id does not encode that information, it tells me nothing about my user's behavior even thought it is a numrical value\n",
    "         #session_id points to the group of songs that the user listens to\n",
    "         'track_id',\n",
    "         'date'], \n",
    "        axis = 1, inplace = True)"
   ]
  },
  {
   "cell_type": "code",
   "execution_count": 35,
   "metadata": {},
   "outputs": [
    {
     "data": {
      "text/plain": [
       "(800, 43)"
      ]
     },
     "execution_count": 35,
     "metadata": {},
     "output_type": "execute_result"
    }
   ],
   "source": [
    "userOneFeatures.shape"
   ]
  },
  {
   "cell_type": "code",
   "execution_count": null,
   "metadata": {},
   "outputs": [],
   "source": [
    "from sklearn.pipeline import Pipeline\n",
    "\n",
    "from sklearn.preprocessing import FunctionTransformer\n",
    "from sklearn.preprocessing import OneHotEncoder\n",
    "from sklearn.compose import ColumnTransformer\n",
    "\n",
    "from sklearn.model_selection import train_test_split\n",
    "\n",
    "from sklearn.tree import DecisionTreeClassifier"
   ]
  },
  {
   "cell_type": "code",
   "execution_count": null,
   "metadata": {},
   "outputs": [],
   "source": [
    "def runModel(features):\n",
    "    as_is = ['session_position', 'session_length','hist_user_behavior_is_shuffle',\n",
    "       'hour_of_day','premium','duration', \n",
    "       'release_year', 'us_popularity_estimate', 'acousticness',\n",
    "       'beat_strength', 'bounciness', 'danceability', 'dyn_range_mean',\n",
    "       'energy', 'flatness', 'instrumentalness', 'liveness', 'loudness',\n",
    "       'mechanism', 'key', 'organism', 'speechiness', 'tempo',\n",
    "       'time_signature', 'valence', 'acoustic_vector_0', 'acoustic_vector_1',\n",
    "       'acoustic_vector_2', 'acoustic_vector_3', 'acoustic_vector_4',\n",
    "       'acoustic_vector_5', 'acoustic_vector_6', 'acoustic_vector_7', 'context_switch', 'no_pause_before_play', 'short_pause_before_play',\n",
    "       'long_pause_before_play', 'hist_user_behavior_n_seekfwd',\n",
    "       'hist_user_behavior_n_seekback']\n",
    "    ohe = ['mode','context_type', 'hist_user_behavior_reason_start']\n",
    "    \n",
    "    preproc = ColumnTransformer(\n",
    "    transformers = [\n",
    "        ('as_is', FunctionTransformer(lambda x: x), as_is),\n",
    "        ('one_hot', OneHotEncoder(handle_unknown = 'ignore'), ohe),\n",
    "    ]\n",
    ")\n",
    "    pl = Pipeline(steps = [('preprocessor', preproc), ('classifier', DecisionTreeClassifier(max_depth = 10))])\n",
    "    x_train, x_test, y_train, y_test = train_test_split(features.drop('not_skipped', axis = 1), features['not_skipped'], test_size= 0.1)\n",
    "    pl.fit(x_train, y_train)\n",
    "    \n",
    "    return pl.score(x_test,y_test)"
   ]
  },
  {
   "cell_type": "markdown",
   "metadata": {},
   "source": [
    "- 100% accuracy issues: make sure we're not evaluating on the test set, more data(?)\n",
    "- could it be predicitng the most popular song, song that is so popular that nobody skips it\n",
    "- k-nearest neighbors\n",
    "- jaccard vs cosine (if vectors are [0, 1] I like vs don't like, take dot product = number of similarites) jaccard is for membership"
   ]
  },
  {
   "cell_type": "code",
   "execution_count": null,
   "metadata": {
    "scrolled": true
   },
   "outputs": [],
   "source": [
    "runModel(userOneFeatures)"
   ]
  },
  {
   "cell_type": "code",
   "execution_count": null,
   "metadata": {},
   "outputs": [],
   "source": [
    "runModel(userTwoFeatures)"
   ]
  },
  {
   "cell_type": "code",
   "execution_count": null,
   "metadata": {
    "scrolled": true
   },
   "outputs": [],
   "source": [
    "runModel(userThreeFeatures)"
   ]
  },
  {
   "cell_type": "code",
   "execution_count": 247,
   "metadata": {},
   "outputs": [],
   "source": [
    "# #if we wanted to get nearest centroid\n",
    "# from sklearn.neighbors.nearest_centroid import NearestCentroid\n",
    "# clf = NearestCentroid()\n",
    "# clf.fit(features, userFeatures['session_id'].unique())\n",
    "# clf.centroids_"
   ]
  }
 ],
 "metadata": {
  "kernelspec": {
   "display_name": "Python 3",
   "language": "python",
   "name": "python3"
  },
  "language_info": {
   "codemirror_mode": {
    "name": "ipython",
    "version": 3
   },
   "file_extension": ".py",
   "mimetype": "text/x-python",
   "name": "python",
   "nbconvert_exporter": "python",
   "pygments_lexer": "ipython3",
   "version": "3.8.5"
  }
 },
 "nbformat": 4,
 "nbformat_minor": 4
}
