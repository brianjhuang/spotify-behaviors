{
 "cells": [
  {
   "cell_type": "code",
   "execution_count": 1,
   "metadata": {},
   "outputs": [],
   "source": [
    "%load_ext autoreload\n",
    "%autoreload 2"
   ]
  },
  {
   "cell_type": "code",
   "execution_count": 2,
   "metadata": {},
   "outputs": [],
   "source": [
    "%reload_ext autoreload"
   ]
  },
  {
   "cell_type": "code",
   "execution_count": 3,
   "metadata": {},
   "outputs": [],
   "source": [
    "with open('authorized.txt', 'w') as a:\n",
    "    a.write('True')"
   ]
  },
  {
   "cell_type": "code",
   "execution_count": 4,
   "metadata": {},
   "outputs": [],
   "source": [
    "import streamlit as st\n",
    "from multipage_template import save, MultiPage, start_app, clear_cache\n",
    "import pandas as pd\n",
    "from PIL import Image\n",
    "import os\n",
    "from pyspark.sql import functions as f\n",
    "from pyspark.sql import SparkSession\n",
    "import random\n",
    "from sklearn.decomposition import PCA\n",
    "import math\n",
    "from spotifyAPI import Spotify"
   ]
  },
  {
   "cell_type": "code",
   "execution_count": 5,
   "metadata": {},
   "outputs": [],
   "source": [
    "userOneFeatures = pd.read_csv(\"../userOneFeatures.csv\")\n",
    "userTwoFeatures = pd.read_csv(\"../userTwoFeatures.csv\")\n",
    "userThreeFeatures = pd.read_csv(\"../userThreeFeatures.csv\")\n",
    "\n",
    "userOneFeatures.drop('Unnamed: 0', axis = 1, inplace = True)\n",
    "userTwoFeatures.drop('Unnamed: 0', axis = 1, inplace = True)\n",
    "userThreeFeatures.drop('Unnamed: 0', axis = 1, inplace = True)"
   ]
  },
  {
   "cell_type": "code",
   "execution_count": 32,
   "metadata": {},
   "outputs": [
    {
     "name": "stdout",
     "output_type": "stream",
     "text": [
      "Client ID:\n",
      "········\n",
      "Client Secret:\n",
      "········\n"
     ]
    }
   ],
   "source": [
    "s = Spotify()"
   ]
  },
  {
   "cell_type": "code",
   "execution_count": 6,
   "metadata": {},
   "outputs": [],
   "source": [
    "import json"
   ]
  },
  {
   "cell_type": "code",
   "execution_count": 118,
   "metadata": {},
   "outputs": [],
   "source": [
    "def get_X(playlist = 'Top 50 - USA', creator = 'Spotify', playlist_id = \"\"):\n",
    "    '''\n",
    "    Takes in a playlis,m ;l909t name and the creator of the playlist and\n",
    "    returns the list of songs in that playlist. Also returns the features.\n",
    "\n",
    "    Params:\n",
    "    playlist (string) - the name of the playlist (default Top 50)\n",
    "    creator (string) - the creator of the playlist (default Spotify)\n",
    "\n",
    "    Returns:\n",
    "    songs (list) - a list of song names\n",
    "    X (list of dictionaries) - our features\n",
    "    '''\n",
    "    if os.path.exists('X_songs.txt'):\n",
    "        #if our song exists\n",
    "        songs = open('X_songs.txt').read().split(\"~\")\n",
    "        if len(songs) <= 1:\n",
    "            songs = s.get_playlist_items(query = playlist, desired_artist = creator, playlist_id = playlist_id)\n",
    "            with open('X_songs.txt', 'w', encoding = 'utf-8') as s_file:\n",
    "                for song in songs:\n",
    "                    s_file.write(song[0] + \"~\")\n",
    "                songs = open('X_songs.txt').read().split(\"~\")\n",
    "    else:\n",
    "        songs = s.get_playlist_items(query = playlist, desired_artist = creator, playlist_id = playlist_id)\n",
    "        with open('X_songs.txt', 'w', encoding = 'utf-8') as s_file:\n",
    "            for song in songs:\n",
    "                s_file.write(song[0] + \"~\")\n",
    "            songs = open('X_songs.txt').read().split(\"~\")\n",
    "\n",
    "    if os.path.exists('X_features.json'):\n",
    "        f = open('X_features.json')\n",
    "        features = json.load(f)\n",
    "        if len(features) <= 1:\n",
    "            features = s.get_playlist_features(query = playlist, desired_artist = creator, playlist_id = playlist_id)\n",
    "            with open('X_features.json', 'w', encoding='utf-8') as f:\n",
    "                json.dump(features, f, ensure_ascii=False, indent=4)\n",
    "    else:\n",
    "        features = s.get_playlist_features(query = playlist, desired_artist = creator, playlist_id = playlist_id)\n",
    "        with open('X_features.json', 'w', encoding='utf-8') as f:\n",
    "            json.dump(features, f, ensure_ascii=False, indent=4)\n",
    "\n",
    "    return songs[:len(songs)-1], features\n",
    "\n",
    "def get_y(playlist, creator, playlist_id):\n",
    "    '''\n",
    "    Takes in a playlist name and the creator of the playlist and\n",
    "    returns the list of songs in that playlist. Also returns the features.\n",
    "\n",
    "    Params:\n",
    "    playlist (string) - the name of the playlist\n",
    "    creator (string) - the creator of the playlist\n",
    "\n",
    "    Returns:\n",
    "    songs (list) - a list of song names\n",
    "    features (list of dictionaries) - our y features\n",
    "    '''\n",
    "    if os.path.exists('y_songs.txt'):\n",
    "        #if our song exists\n",
    "        songs = open('y_songs.txt').read().strip().split(\"~\")\n",
    "        if len(songs) <= 0:\n",
    "            songs = s.get_playlist_items(query = playlist, desired_artist = creator, playlist_id = playlist_id)\n",
    "            with open('y_songs.txt', 'w', encoding = 'utf-8') as s_file:\n",
    "                for song in songs:\n",
    "                    s_file.write(song[0] + \"~\")\n",
    "                songs = open('y_songs.txt').read().strip().split(\"~\")\n",
    "    else:\n",
    "        songs = s.get_playlist_items(query = playlist, desired_artist = creator, playlist_id = playlist_id)\n",
    "        with open('y_songs.txt', 'w', encoding = 'utf-8') as s_file:\n",
    "            for song in songs:\n",
    "                s_file.write(song[0] + \"~\")\n",
    "            songs = open('y_songs.txt').read().strip().split(\"~\")\n",
    "\n",
    "    if os.path.exists('y_features.json'):\n",
    "        f = open('y_features.json')\n",
    "        features = json.load(f)\n",
    "        if len(features) <= 0:\n",
    "            features = s.get_playlist_features(query = playlist, desired_artist = creator, playlist_id = playlist_id)\n",
    "            with open('y_features.json', 'w', encoding='utf-8') as f:\n",
    "                json.dump(features, f, ensure_ascii=False, indent=4)\n",
    "    else:\n",
    "        features = s.get_playlist_features(query = playlist, desired_artist = creator, playlist_id = playlist_id)\n",
    "        with open('y_features.json', 'w', encoding='utf-8') as f:\n",
    "            json.dump(features, f, ensure_ascii=False, indent=4)\n",
    "\n",
    "    return songs[:len(songs)-1], features"
   ]
  },
  {
   "cell_type": "code",
   "execution_count": 167,
   "metadata": {},
   "outputs": [],
   "source": [
    "y_songs, y = get_y('throwback', 'Brian Huang', '1TQsoXwhdWVb1DHwqBOa8O')"
   ]
  },
  {
   "cell_type": "code",
   "execution_count": 168,
   "metadata": {},
   "outputs": [],
   "source": [
    "X_songs, X = get_X('songs nobody would be mad abt', 'Tatum Maston')"
   ]
  },
  {
   "cell_type": "code",
   "execution_count": 171,
   "metadata": {},
   "outputs": [],
   "source": [
    "from recommender import songRecommender"
   ]
  },
  {
   "cell_type": "code",
   "execution_count": 172,
   "metadata": {
    "scrolled": true
   },
   "outputs": [],
   "source": [
    "model = songRecommender(X, y, X_songs, y_songs)\n",
    "#you can also flip it to get the top 50 songs and their corresponding matches"
   ]
  },
  {
   "cell_type": "code",
   "execution_count": 173,
   "metadata": {
    "scrolled": true
   },
   "outputs": [],
   "source": [
    "X = model.getX()\n",
    "y = model.getY()"
   ]
  },
  {
   "cell_type": "code",
   "execution_count": 177,
   "metadata": {},
   "outputs": [
    {
     "data": {
      "text/plain": [
       "30"
      ]
     },
     "execution_count": 177,
     "metadata": {},
     "output_type": "execute_result"
    }
   ],
   "source": [
    "len([i[0] for i in X])"
   ]
  },
  {
   "cell_type": "code",
   "execution_count": 178,
   "metadata": {},
   "outputs": [
    {
     "data": {
      "text/plain": [
       "100"
      ]
     },
     "execution_count": 178,
     "metadata": {},
     "output_type": "execute_result"
    }
   ],
   "source": [
    "len([i[0] for i in y])"
   ]
  }
 ],
 "metadata": {
  "kernelspec": {
   "display_name": "Python 3",
   "language": "python",
   "name": "python3"
  },
  "language_info": {
   "codemirror_mode": {
    "name": "ipython",
    "version": 3
   },
   "file_extension": ".py",
   "mimetype": "text/x-python",
   "name": "python",
   "nbconvert_exporter": "python",
   "pygments_lexer": "ipython3",
   "version": "3.8.5"
  }
 },
 "nbformat": 4,
 "nbformat_minor": 4
}
