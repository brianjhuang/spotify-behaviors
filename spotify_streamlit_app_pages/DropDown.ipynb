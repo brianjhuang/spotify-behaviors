{
 "cells": [
  {
   "cell_type": "code",
   "execution_count": 1,
   "metadata": {},
   "outputs": [],
   "source": [
    "%load_ext autoreload\n",
    "%autoreload 2"
   ]
  },
  {
   "cell_type": "code",
   "execution_count": 2,
   "metadata": {},
   "outputs": [],
   "source": [
    "%reload_ext autoreload"
   ]
  },
  {
   "cell_type": "code",
   "execution_count": 3,
   "metadata": {},
   "outputs": [],
   "source": [
    "with open('authorized.txt', 'w') as a:\n",
    "    a.write('True')"
   ]
  },
  {
   "cell_type": "code",
   "execution_count": 4,
   "metadata": {},
   "outputs": [],
   "source": [
    "import streamlit as st\n",
    "from multipage_template import save, MultiPage, start_app, clear_cache\n",
    "import pandas as pd\n",
    "from PIL import Image\n",
    "import os\n",
    "from pyspark.sql import functions as f\n",
    "from pyspark.sql import SparkSession\n",
    "import random\n",
    "from sklearn.decomposition import PCA\n",
    "import math\n",
    "from spotifyAPI import Spotify"
   ]
  },
  {
   "cell_type": "code",
   "execution_count": 5,
   "metadata": {},
   "outputs": [],
   "source": [
    "userOneFeatures = pd.read_csv(\"../userOneFeatures.csv\")\n",
    "userTwoFeatures = pd.read_csv(\"../userTwoFeatures.csv\")\n",
    "userThreeFeatures = pd.read_csv(\"../userThreeFeatures.csv\")\n",
    "\n",
    "userOneFeatures.drop('Unnamed: 0', axis = 1, inplace = True)\n",
    "userTwoFeatures.drop('Unnamed: 0', axis = 1, inplace = True)\n",
    "userThreeFeatures.drop('Unnamed: 0', axis = 1, inplace = True)"
   ]
  },
  {
   "cell_type": "code",
   "execution_count": 6,
   "metadata": {},
   "outputs": [
    {
     "name": "stdout",
     "output_type": "stream",
     "text": [
      "Client ID:\n"
     ]
    },
    {
     "name": "stdin",
     "output_type": "stream",
     "text": [
      " ································\n"
     ]
    },
    {
     "name": "stdout",
     "output_type": "stream",
     "text": [
      "Client Secret:\n"
     ]
    },
    {
     "name": "stdin",
     "output_type": "stream",
     "text": [
      " ································\n"
     ]
    }
   ],
   "source": [
    "s = Spotify()"
   ]
  },
  {
   "cell_type": "code",
   "execution_count": 9,
   "metadata": {},
   "outputs": [],
   "source": [
    "import json"
   ]
  },
  {
   "cell_type": "code",
   "execution_count": 10,
   "metadata": {},
   "outputs": [],
   "source": [
    "def get_X(playlist = 'Top 50 - USA', creator = 'Spotify', playlist_id = \"\"):\n",
    "    '''\n",
    "    Takes in a playlis,m ;l909t name and the creator of the playlist and\n",
    "    returns the list of songs in that playlist. Also returns the features.\n",
    "\n",
    "    Params:\n",
    "    playlist (string) - the name of the playlist (default Top 50)\n",
    "    creator (string) - the creator of the playlist (default Spotify)\n",
    "\n",
    "    Returns:\n",
    "    songs (list) - a list of song names\n",
    "    X (list of dictionaries) - our features\n",
    "    '''\n",
    "    if os.path.exists('X_songs.txt'):\n",
    "        #if our song exists\n",
    "        songs = open('X_songs.txt').read().split(\"~\")\n",
    "        if len(songs) <= 1:\n",
    "            songs = s.get_playlist_items(query = playlist, desired_artist = creator, playlist_id = playlist_id)\n",
    "            with open('X_songs.txt', 'w', encoding = 'utf-8') as s_file:\n",
    "                for song in songs:\n",
    "                    s_file.write(song[0] + \"~\")\n",
    "                songs = open('X_songs.txt').read().split(\"~\")\n",
    "    else:\n",
    "        songs = s.get_playlist_items(query = playlist, desired_artist = creator, playlist_id = playlist_id)\n",
    "        with open('X_songs.txt', 'w', encoding = 'utf-8') as s_file:\n",
    "            for song in songs:\n",
    "                s_file.write(song[0] + \"~\")\n",
    "            songs = open('X_songs.txt').read().split(\"~\")\n",
    "\n",
    "    if os.path.exists('X_features.json'):\n",
    "        f = open('X_features.json')\n",
    "        features = json.load(f)\n",
    "        if len(features) <= 1:\n",
    "            features = s.get_playlist_features(query = playlist, desired_artist = creator, playlist_id = playlist_id)\n",
    "            with open('X_features.json', 'w', encoding='utf-8') as f:\n",
    "                json.dump(features, f, ensure_ascii=False, indent=4)\n",
    "    else:\n",
    "        features = s.get_playlist_features(query = playlist, desired_artist = creator, playlist_id = playlist_id)\n",
    "        with open('X_features.json', 'w', encoding='utf-8') as f:\n",
    "            json.dump(features, f, ensure_ascii=False, indent=4)\n",
    "\n",
    "    return songs[:len(songs)-1], features\n",
    "\n",
    "def get_y(playlist, creator, playlist_id):\n",
    "    '''\n",
    "    Takes in a playlist name and the creator of the playlist and\n",
    "    returns the list of songs in that playlist. Also returns the features.\n",
    "\n",
    "    Params:\n",
    "    playlist (string) - the name of the playlist\n",
    "    creator (string) - the creator of the playlist\n",
    "\n",
    "    Returns:\n",
    "    songs (list) - a list of song names\n",
    "    features (list of dictionaries) - our y features\n",
    "    '''\n",
    "    if os.path.exists('y_songs.txt'):\n",
    "        #if our song exists\n",
    "        songs = open('y_songs.txt').read().strip().split(\"~\")\n",
    "        if len(songs) <= 0:\n",
    "            songs = s.get_playlist_items(query = playlist, desired_artist = creator, playlist_id = playlist_id)\n",
    "            with open('y_songs.txt', 'w', encoding = 'utf-8') as s_file:\n",
    "                for song in songs:\n",
    "                    s_file.write(song[0] + \"~\")\n",
    "                songs = open('y_songs.txt').read().strip().split(\"~\")\n",
    "    else:\n",
    "        songs = s.get_playlist_items(query = playlist, desired_artist = creator, playlist_id = playlist_id)\n",
    "        with open('y_songs.txt', 'w', encoding = 'utf-8') as s_file:\n",
    "            for song in songs:\n",
    "                s_file.write(song[0] + \"~\")\n",
    "            songs = open('y_songs.txt').read().strip().split(\"~\")\n",
    "\n",
    "    if os.path.exists('y_features.json'):\n",
    "        f = open('y_features.json')\n",
    "        features = json.load(f)\n",
    "        if len(features) <= 0:\n",
    "            features = s.get_playlist_features(query = playlist, desired_artist = creator, playlist_id = playlist_id)\n",
    "            with open('y_features.json', 'w', encoding='utf-8') as f:\n",
    "                json.dump(features, f, ensure_ascii=False, indent=4)\n",
    "    else:\n",
    "        features = s.get_playlist_features(query = playlist, desired_artist = creator, playlist_id = playlist_id)\n",
    "        with open('y_features.json', 'w', encoding='utf-8') as f:\n",
    "            json.dump(features, f, ensure_ascii=False, indent=4)\n",
    "\n",
    "    return songs[:len(songs)-1], features"
   ]
  },
  {
   "cell_type": "code",
   "execution_count": 15,
   "metadata": {},
   "outputs": [],
   "source": [
    "y_songs, y = get_y('Top 50', 'Spotify', '')"
   ]
  },
  {
   "cell_type": "code",
   "execution_count": 16,
   "metadata": {},
   "outputs": [],
   "source": [
    "X_songs, X = get_X('Christmas Hits', 'Spotify')"
   ]
  },
  {
   "cell_type": "code",
   "execution_count": 17,
   "metadata": {},
   "outputs": [],
   "source": [
    "from recommender import songRecommender"
   ]
  },
  {
   "cell_type": "code",
   "execution_count": 18,
   "metadata": {
    "scrolled": true
   },
   "outputs": [],
   "source": [
    "model = songRecommender(X, y, X_songs, y_songs)\n",
    "#you can also flip it to get the top 50 songs and their corresponding matches"
   ]
  },
  {
   "cell_type": "code",
   "execution_count": 19,
   "metadata": {
    "scrolled": true
   },
   "outputs": [],
   "source": [
    "X = model.getX()\n",
    "y = model.getY()"
   ]
  },
  {
   "cell_type": "code",
   "execution_count": 20,
   "metadata": {},
   "outputs": [
    {
     "data": {
      "text/plain": [
       "50"
      ]
     },
     "execution_count": 20,
     "metadata": {},
     "output_type": "execute_result"
    }
   ],
   "source": [
    "len([i[0] for i in X])"
   ]
  },
  {
   "cell_type": "code",
   "execution_count": 21,
   "metadata": {},
   "outputs": [
    {
     "data": {
      "text/plain": [
       "100"
      ]
     },
     "execution_count": 21,
     "metadata": {},
     "output_type": "execute_result"
    }
   ],
   "source": [
    "len([i[0] for i in y])"
   ]
  },
  {
   "cell_type": "code",
   "execution_count": 22,
   "metadata": {},
   "outputs": [
    {
     "data": {
      "text/plain": [
       "['All I Want for Christmas Is You',\n",
       " 'Last Christmas',\n",
       " 'Santa Tell Me',\n",
       " \"Rockin' Around The Christmas Tree - Single Version\",\n",
       " \"It's Beginning to Look a Lot like Christmas\",\n",
       " 'Jingle Bell Rock',\n",
       " 'Underneath the Tree',\n",
       " 'Let It Snow, Let It Snow, Let It Snow',\n",
       " \"It's the Most Wonderful Time of the Year\",\n",
       " 'Snowman',\n",
       " 'Mistletoe',\n",
       " 'Sleigh Ride',\n",
       " 'Holly Jolly Christmas',\n",
       " 'Feliz Navidad',\n",
       " 'Wonderful Christmastime (Edited Version) [Remastered]',\n",
       " 'Christmas (Baby Please Come Home)',\n",
       " 'Driving Home for Christmas',\n",
       " 'Let It Snow! Let It Snow! Let It Snow! (with The B. Swanson Quartet)',\n",
       " 'Jingle Bell Rock',\n",
       " \"Do They Know It's Christmas? - 1984 Version\",\n",
       " 'Merry Christmas Everyone - Remastered',\n",
       " 'Have Yourself A Merry Little Christmas',\n",
       " \"It's Beginning to Look a Lot Like Christmas (with Mitchell Ayres & His Orchestra)\",\n",
       " 'Last Christmas',\n",
       " \"Baby, It's Cold Outside - Remastered 2004\",\n",
       " 'Happy Xmas (War Is Over) - Remastered 2010',\n",
       " 'Santa Baby',\n",
       " \"Thank God It's Christmas\",\n",
       " 'A Holly Jolly Christmas - Single Version',\n",
       " 'Santa Claus Is Coming To Town',\n",
       " 'My Only Wish (This Year)',\n",
       " 'Sleigh Ride',\n",
       " 'Step Into Christmas',\n",
       " \"Baby, It's Cold Outside (feat. Meghan Trainor)\",\n",
       " \"Like It's Christmas\",\n",
       " \"I'll Be Home for Christmas\",\n",
       " 'Winter Wonderland',\n",
       " 'I Saw Mommy Kissing Santa Claus',\n",
       " 'Rudolph The Red-Nosed Reindeer',\n",
       " 'What Christmas Means To Me',\n",
       " 'One More Sleep',\n",
       " \"Santa Claus Is Comin' to Town - Live at C.W. Post College, Greenvale, NY - December 1975\",\n",
       " 'Santa Baby',\n",
       " 'This Christmas',\n",
       " 'You Make It Feel Like Christmas (feat. Blake Shelton)',\n",
       " 'Santa Claus Is Coming to Town',\n",
       " \"Baby It's Cold Outside (duet with Michael Bublé)\",\n",
       " 'Christmas (Baby Please Come Home)',\n",
       " 'A Holly Jolly Christmas',\n",
       " 'Merry Christmas, Happy Holidays',\n",
       " 'White Christmas',\n",
       " \"It's Beginning To Look A Lot Like Christmas\",\n",
       " 'Joy To The World',\n",
       " 'Frosty The Snowman',\n",
       " 'Jingle Bells',\n",
       " 'Bring Me Love',\n",
       " 'Run Rudolph Run',\n",
       " 'Cozy Little Christmas',\n",
       " 'Shake up Christmas',\n",
       " 'The Christmas Song (Merry Christmas To You)',\n",
       " 'Here Comes Santa Claus (Right Down Santa Claus Lane)',\n",
       " 'Winter Wonderland',\n",
       " \"I'll Be Home\",\n",
       " 'Wrapped in Red',\n",
       " 'Last Christmas',\n",
       " 'Silent Night',\n",
       " 'Mistletoe and Holly',\n",
       " 'Fairytale of New York (feat. Kirsty MacColl)',\n",
       " 'This Christmas',\n",
       " 'The Christmas Song (Chestnuts Roasting On An Open Fire)',\n",
       " \"Santa's Coming for Us\",\n",
       " 'The Christmas Song (Shawn Mendes & Camila Cabello)',\n",
       " 'I Wish It Could Be Christmas Everyday',\n",
       " 'Take Me Home For Christmas',\n",
       " 'Christmas Tree Farm',\n",
       " 'Rudolph The Red-Nosed Reindeer',\n",
       " 'Christmas Lights',\n",
       " 'Mary, Did You Know?',\n",
       " 'Christmas Without You',\n",
       " 'Please Come Home for Christmas - 2013 Remaster',\n",
       " 'O Holy Night',\n",
       " 'Happy Xmas (War Is Over)',\n",
       " 'Christmas Love',\n",
       " 'Under The Mistletoe',\n",
       " 'Blue Christmas',\n",
       " 'Make It To Christmas',\n",
       " 'Oh Santa! (feat. Ariana Grande & Jennifer Hudson)',\n",
       " 'Do You Hear What I Hear? - Remastered 2006',\n",
       " 'Man With The Bag',\n",
       " 'My Kind Of Present',\n",
       " 'Mistletoe and Wine',\n",
       " 'Let It Snow (with Babyface)',\n",
       " 'Lonely This Christmas',\n",
       " \"Rockin' Around The Christmas Tree\",\n",
       " 'Oh Holy Night - Recorded at Metropolis Studios, London',\n",
       " 'Someday At Christmas',\n",
       " 'All I Want (For Christmas)',\n",
       " 'Have Yourself a Merry Little Christmas',\n",
       " 'White Christmas - Spotify Singles - Holiday, Recorded at Air Studios, London',\n",
       " 'The First Noël (with Faith Hill)']"
      ]
     },
     "execution_count": 22,
     "metadata": {},
     "output_type": "execute_result"
    }
   ],
   "source": [
    "pd.Data(y_songs)"
   ]
  },
  {
   "cell_type": "code",
   "execution_count": null,
   "metadata": {},
   "outputs": [],
   "source": []
  }
 ],
 "metadata": {
  "kernelspec": {
   "display_name": "Python 3",
   "language": "python",
   "name": "python3"
  },
  "language_info": {
   "codemirror_mode": {
    "name": "ipython",
    "version": 3
   },
   "file_extension": ".py",
   "mimetype": "text/x-python",
   "name": "python",
   "nbconvert_exporter": "python",
   "pygments_lexer": "ipython3",
   "version": "3.8.5"
  }
 },
 "nbformat": 4,
 "nbformat_minor": 4
}
