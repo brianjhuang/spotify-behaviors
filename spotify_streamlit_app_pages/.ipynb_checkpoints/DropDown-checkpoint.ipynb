{
 "cells": [
  {
   "cell_type": "code",
   "execution_count": 1,
   "metadata": {},
   "outputs": [],
   "source": [
    "import streamlit as st\n",
    "from multipage_template import save, MultiPage, start_app, clear_cache\n",
    "import pandas as pd\n",
    "from PIL import Image\n",
    "import os\n",
    "from pyspark.sql import functions as f\n",
    "from pyspark.sql import SparkSession\n",
    "import random\n",
    "from sklearn.decomposition import PCA\n",
    "import math\n",
    "from spotifyAPI import Spotify\n",
    "from songRecommender import songRecommender"
   ]
  },
  {
   "cell_type": "code",
   "execution_count": 2,
   "metadata": {},
   "outputs": [],
   "source": [
    "userOneFeatures = pd.read_csv(\"../userOneFeatures.csv\")\n",
    "userTwoFeatures = pd.read_csv(\"../userTwoFeatures.csv\")\n",
    "userThreeFeatures = pd.read_csv(\"../userThreeFeatures.csv\")\n",
    "\n",
    "userOneFeatures.drop('Unnamed: 0', axis = 1, inplace = True)\n",
    "userTwoFeatures.drop('Unnamed: 0', axis = 1, inplace = True)\n",
    "userThreeFeatures.drop('Unnamed: 0', axis = 1, inplace = True)"
   ]
  },
  {
   "cell_type": "code",
   "execution_count": 3,
   "metadata": {},
   "outputs": [],
   "source": [
    "s = Spotify()"
   ]
  },
  {
   "cell_type": "code",
   "execution_count": 4,
   "metadata": {},
   "outputs": [],
   "source": [
    "def selectSong(song):\n",
    "    return modelOutput[song]"
   ]
  },
  {
   "cell_type": "code",
   "execution_count": 5,
   "metadata": {},
   "outputs": [],
   "source": [
    "songs = s.get_playlist_items()"
   ]
  },
  {
   "cell_type": "code",
   "execution_count": null,
   "metadata": {},
   "outputs": [],
   "source": [
    "with open('songs.txt', 'w', encoding = 'utf-8') as s:\n",
    "    for song in songs:\n",
    "        s.write(song + \",\")"
   ]
  },
  {
   "cell_type": "code",
   "execution_count": 6,
   "metadata": {},
   "outputs": [],
   "source": [
    "features = s.get_playlist_features('Top 50 - USA')"
   ]
  },
  {
   "cell_type": "code",
   "execution_count": 41,
   "metadata": {},
   "outputs": [
    {
     "name": "stdout",
     "output_type": "stream",
     "text": [
      "w\n"
     ]
    }
   ],
   "source": [
    "if os.path.exists('features.json'):\n",
    "    print('w')\n",
    "else:\n",
    "    print('l')"
   ]
  },
  {
   "cell_type": "code",
   "execution_count": 47,
   "metadata": {},
   "outputs": [],
   "source": [
    "f = open('features.json')\n",
    "features = json.load(f)"
   ]
  },
  {
   "cell_type": "code",
   "execution_count": 44,
   "metadata": {},
   "outputs": [],
   "source": [
    "\n",
    "def run_model(data, songs):\n",
    "    if os.path.exists('features.json'):\n",
    "        f = open('features.json')\n",
    "        features = json.load(f)\n",
    "        if len(features) <= 0:\n",
    "            features = s.get_playlist_features('Top 50 - USA')\n",
    "            with open('features.json', 'w', encoding='utf-8') as f:\n",
    "                json.dump(features, f, ensure_ascii=False, indent=4)\n",
    "        model = songRecommender(data = userDict[userDown], predict = features, songs = songs)\n",
    "    else:\n",
    "        features = s.get_playlist_features('Top 50 - USA')\n",
    "        with open('features.json', 'w', encoding='utf-8') as f:\n",
    "            json.dump(features, f, ensure_ascii=False, indent=4)\n"
   ]
  },
  {
   "cell_type": "code",
   "execution_count": 38,
   "metadata": {},
   "outputs": [],
   "source": [
    "with open('features.json', 'w', encoding='utf-8') as f:\n",
    "    json.dump(features, f, ensure_ascii=False, indent=4)"
   ]
  },
  {
   "cell_type": "code",
   "execution_count": 42,
   "metadata": {},
   "outputs": [],
   "source": [
    "import json\n",
    "f = open('features.json')\n",
    "features = json.load(f)"
   ]
  },
  {
   "cell_type": "code",
   "execution_count": 7,
   "metadata": {},
   "outputs": [],
   "source": [
    "userDict = {'One': userOneFeatures, 'Two': userTwoFeatures, 'Three': userThreeFeatures}"
   ]
  },
  {
   "cell_type": "code",
   "execution_count": 8,
   "metadata": {},
   "outputs": [],
   "source": [
    "model = songRecommender(data = userDict['One'], predict = features, songs = songs)"
   ]
  },
  {
   "cell_type": "code",
   "execution_count": 9,
   "metadata": {},
   "outputs": [],
   "source": [
    "modelOutput = model.similar(model.getPredict(), model.getFeatures())"
   ]
  },
  {
   "cell_type": "code",
   "execution_count": 10,
   "metadata": {},
   "outputs": [
    {
     "data": {
      "text/plain": [
       "{'All I Want for Christmas Is You': ('spotify:track:0bYg9bo50gSsH3LtXe2SQn',\n",
       "  [(0.9367054083752, '8_79a057e3-8c88-490b-843b-b5ef67183e4d')]),\n",
       " 'abcdefu': ('spotify:track:4fouWK6XVHhzl78KzQ1UjL',\n",
       "  [(0.981299241621451, '48_e142db93-543f-4db3-8bff-70a8e0d217e8')]),\n",
       " 'STAY (with Justin Bieber)': ('spotify:track:5HCyWlXZPP0y6Gqq8TgA20',\n",
       "  [(0.9517771172654794, '7_42276213-e071-4621-ab32-f8c9f6451952')]),\n",
       " 'Last Christmas': ('spotify:track:2FRnf9qhLbvw8fu4IBXx78',\n",
       "  [(0.9557987680164125, '17_4a628bbe-fc00-43aa-b592-7e162f298eda')]),\n",
       " 'Easy On Me': ('spotify:track:0gplL1WMoJ6iYaPgMCL0gX',\n",
       "  [(0.9630384130191327, '59_492ecb45-9661-4172-8de9-18245579e64d')]),\n",
       " 'INDUSTRY BABY (feat. Jack Harlow)': ('spotify:track:27NovPIUIRrOZoCHxABJwK',\n",
       "  [(0.960410775200602, '55_315e383c-ec01-4880-9720-6fab44253365')]),\n",
       " \"Rockin' Around The Christmas Tree\": ('spotify:track:2EjXfH91m7f8HiJN1yQg97',\n",
       "  [(0.915534022166267, '2_f8c67157-da75-4c2e-b15e-d31877868bbb')]),\n",
       " 'Jingle Bell Rock': ('spotify:track:7vQbuQcyTflfCIOu3Uzzya',\n",
       "  [(0.9193761679873949, '25_a21f6069-fc41-4764-8af6-1641e7dcec1e')]),\n",
       " \"It's Beginning to Look a Lot like Christmas\": ('spotify:track:5a1iz510sv2W9Dt1MvFd5R',\n",
       "  [(0.9601293678835092, '47_c7062e1f-94be-4dc8-a8f1-2963eccf8e05')]),\n",
       " 'Heat Waves': ('spotify:track:3USxtqRwSYz57Ewm6wWRMp',\n",
       "  [(0.9601849384255108, '48_a98bac8f-4b1a-4b2a-86c6-6fa3d52a0239')]),\n",
       " 'Enemy (with JID) - from the series Arcane League of Legends': ('spotify:track:1r9xUipOqoNwggBpENDsvJ',\n",
       "  [(0.9157778609941147, '2_368da78a-bc0e-4833-8505-5458724b2301')]),\n",
       " 'Cold Heart - PNAU Remix': ('spotify:track:6zSpb8dQRaw0M1dK8PBwQz',\n",
       "  [(0.973104811138678, '52_785f2484-930c-4cca-9384-b70d212ed575')]),\n",
       " 'Santa Tell Me': ('spotify:track:0lizgQ7Qw35od7CYaoMBZb',\n",
       "  [(0.9499102501057546, '28_05eb55c5-2cf6-42a1-b435-140a79c72efb')]),\n",
       " \"It's the Most Wonderful Time of the Year\": ('spotify:track:5hslUAKq9I9CG2bAulFkHN',\n",
       "  [(0.9090295891645779, '2_368da78a-bc0e-4833-8505-5458724b2301')]),\n",
       " 'Shivers': ('spotify:track:50nfwKoDiSYg8zOCREWAm5',\n",
       "  [(0.9591517663017706, '16_3ff1091d-3eba-4531-b8b2-0e3f42be5354')]),\n",
       " 'Pepas': ('spotify:track:5fwSHlTEWpluwOM0Sxnh5k',\n",
       "  [(0.9335932915173226, '8_b02e00d2-d4c4-4b91-adfa-33dd22346715')]),\n",
       " 'Feliz Navidad': ('spotify:track:0oPdaY4dXtc3ZsaG17V972',\n",
       "  [(0.946560003135499, '51_49bb72c2-1bef-41f2-8680-513b87fdc768')]),\n",
       " 'Snowman': ('spotify:track:7uoFMmxln0GPXQ0AcCBXRq',\n",
       "  [(0.9792969822590745, '59_2b81b9af-3ac8-47db-b65a-60efdd14915c')]),\n",
       " 'Bad Habits': ('spotify:track:3rmo8F54jFF8OgYsqTxm5d',\n",
       "  [(0.9673307771105306, '8_f2b34c1a-f371-499a-ae33-1254da49b37c')]),\n",
       " 'Underneath the Tree': ('spotify:track:3YZE5qDV7u1ZD1gZc47ZeR',\n",
       "  [(0.937339357309841, '56_9ecc0412-db72-4a5d-b251-68db4677c185')]),\n",
       " 'Woman': ('spotify:track:6Uj1ctrBOjOas8xZXGqKk4',\n",
       "  [(0.9299289122205365, '37_5d197531-1d29-4971-aa9f-a6a6003f8b3e')]),\n",
       " 'Do It To It': ('spotify:track:20on25jryn53hWghthWWW3',\n",
       "  [(0.9676820386626731, '11_daefb875-1501-4dde-a615-ba58ff11d7c1')]),\n",
       " 'My Universe': ('spotify:track:3FeVmId7tL5YN8B7R3imoM',\n",
       "  [(0.9567732515639624, '49_db3c9fc6-d1d0-4fed-afa4-b0da14c98205')]),\n",
       " 'Mistletoe': ('spotify:track:7xapw9Oy21WpfEcib2ErSA',\n",
       "  [(0.9751912500524934, '46_ac4528de-1e83-42d8-91ab-d539b8096e4a')]),\n",
       " 'good 4 u': ('spotify:track:4ZtFanR9U6ndgddUvNcjcG',\n",
       "  [(0.9260137912003163, '54_17d87e52-d1f2-4ca6-b22d-0d1b7f8cb599')]),\n",
       " 'Sleigh Ride': ('spotify:track:5ASM6Qjiav2xPe7gRkQMsQ',\n",
       "  [(0.9329996272975043, '56_373ce4e6-045e-4c44-a938-48e850c3e49c')]),\n",
       " 'Driving Home for Christmas - 2019 Remaster': ('spotify:track:5mcPl6Qw3hTjglFHq564cu',\n",
       "  [(0.9165521690392184, '19_2ea92afc-01d9-4911-b8ce-17801dd91a62')]),\n",
       " \"All Too Well (10 Minute Version) (Taylor's Version) (From The Vault)\": ('spotify:track:5enxwA8aAbwZbf5qCHORXi',\n",
       "  [(0.9398434824571433, '60_464c7159-c683-4deb-b7b2-ac0911786eba')]),\n",
       " 'Let It Snow! Let It Snow! Let It Snow! (with The B. Swanson Quartet)': ('spotify:track:4kKdvXD0ez7jp1296JmAts',\n",
       "  [(0.9757847835320023, '19_63117724-c791-429b-a5bd-472d520d2101')]),\n",
       " 'Happy Xmas (War Is Over) - Remastered 2010': ('spotify:track:27RYrbL6S02LNVhDWVl38b',\n",
       "  [(0.9307218406110189, '56_f09ec906-cf6b-4b48-ae1a-d55e53062ecc')]),\n",
       " 'Wonderful Christmastime - Edited Version / Remastered 2011': ('spotify:track:1SV1fxF65n9NhRHp3KlBuu',\n",
       "  [(0.955796221155027, '58_17ab31a5-79af-4513-a1ad-5f538e5dc294')]),\n",
       " 'Let It Snow! Let It Snow! Let It Snow!': ('spotify:track:2uFaJJtFpPDc5Pa95XzTvg',\n",
       "  [(0.9672087697954512, '33_687f0d58-9d7e-45bf-91b8-47a87aa6d6f1')]),\n",
       " 'Girl Of My Dreams (with SUGA of BTS)': ('spotify:track:7DF8lvLdV3htIbuTWpc7lR',\n",
       "  [(0.9186393544966704, '45_d09c3af7-e6cd-483e-9553-2cb14d2d1217')]),\n",
       " 'Holly Jolly Christmas': ('spotify:track:5PuKlCjfEVIXl0ZBp5ZW9g',\n",
       "  [(0.9574277586822779, '52_4b4e9e1b-7d78-432f-a0ec-e9166fcde6f7')]),\n",
       " 'I Hate U': ('spotify:track:5dXWFMwD7I7zXsInONVl0H',\n",
       "  [(0.9199874929265617, '34_95c1c8fe-d44f-4ea1-bfe2-092e24926816')]),\n",
       " 'Kiss Me More (feat. SZA)': ('spotify:track:748mdHapucXQri7IAO8yFK',\n",
       "  [(0.9331514537258316, '5_8d53b4d0-647b-4be3-a32e-34074228b9a0')]),\n",
       " 'MONTERO (Call Me By Your Name)': ('spotify:track:1SC5rEoYDGUK4NfG82494W',\n",
       "  [(0.9472345359492302, '40_3fb87f3e-4064-46fe-8910-f3cec3394703')]),\n",
       " 'Need to Know': ('spotify:track:3Vi5XqYrmQgOYBajMWSvCi',\n",
       "  [(0.9420222003103161, '41_b348a248-5698-42da-8081-9c1aeebaad7b')]),\n",
       " 'Merry Christmas Everyone': ('spotify:track:2TE4xW3ImvpltVU0cPcKUn',\n",
       "  [(0.9686299123608084, '14_d597f661-a006-44e6-b009-b2f3b9701055')]),\n",
       " 'Toxic': ('spotify:track:2gQPv5jvVPqU2a9HhMNO1v',\n",
       "  [(0.9618800011595758, '60_c11d668c-323c-4c7a-bc0b-11a0e51c8f00')]),\n",
       " 'MONEY': ('spotify:track:7hU3IHwjX150XLoTVmjD0q',\n",
       "  [(0.9498229630120287, '45_403cff33-a2ea-4988-9fe8-1fd1f04d0a2f')]),\n",
       " \"Beggin'\": ('spotify:track:3Wrjm47oTz2sjIgck11l5e',\n",
       "  [(0.979927388900269, '5_bddb3de0-0268-453c-9d67-043f975e196a')]),\n",
       " 'love nwantiti (ah ah ah)': ('spotify:track:2Xr1dTzJee307rmrkt8c0g',\n",
       "  [(0.9732520306708828, '34_d604952b-6e5a-4834-8f9e-138c7024c507')]),\n",
       " 'Yonaguni': ('spotify:track:2JPLbjOn0wPCngEot2STUS',\n",
       "  [(0.9426611627390151, '57_a36c7343-5b46-4763-bd29-0fe2f02ce29c')]),\n",
       " 'Merry Christmas': ('spotify:track:3bH2Eu9A9ymI4UnGHRmoXg',\n",
       "  [(0.9332338709380408, '48_70a8cc8c-2ff8-46b6-b72f-ba9922c32fbd')]),\n",
       " 'Happier Than Ever': ('spotify:track:4RVwu0g32PAqgUiJoXsdF8',\n",
       "  [(0.933097646120034, '23_3e40a39c-ca9c-48ee-a050-2868b49ddd33')]),\n",
       " 'Wandered To LA (with Justin Bieber)': ('spotify:track:5J6rTmMjF9DVIAF8G3M9n4',\n",
       "  [(0.9441129347407239, '29_892d4af7-50a7-45d0-a33b-0461c59dbd1d')]),\n",
       " 'Infinity': ('spotify:track:1SOClUWhOi8vHZYMz3GluK',\n",
       "  [(0.9695260227307101, '45_a1c4e49b-6bdf-480b-a057-9540d3aa1a9f')]),\n",
       " \"Do They Know It's Christmas? - 1984 Version\": ('spotify:track:0247StOpd3AkeBQzANX4Zf',\n",
       "  [(0.9243533975340417, '42_eaafa56d-e8df-48c2-b41c-bbf5e79d8a94')]),\n",
       " 'Blinding Lights': ('spotify:track:0VjIjW4GlUZAMYd2vXMi3b',\n",
       "  [(0.9548282371693726, '56_a8b8178b-e13d-4fe2-bb74-b7f47f621d0d')])}"
      ]
     },
     "execution_count": 10,
     "metadata": {},
     "output_type": "execute_result"
    }
   ],
   "source": [
    "modelOutput"
   ]
  },
  {
   "cell_type": "code",
   "execution_count": 18,
   "metadata": {},
   "outputs": [],
   "source": [
    "output = modelOutput['Merry Christmas']\n",
    "track_uri = output[0]\n",
    "simAndSong = output[1][0]"
   ]
  },
  {
   "cell_type": "code",
   "execution_count": 28,
   "metadata": {},
   "outputs": [
    {
     "data": {
      "text/plain": [
       "14"
      ]
     },
     "execution_count": 28,
     "metadata": {},
     "output_type": "execute_result"
    }
   ],
   "source": [
    "len('spotify:track:')"
   ]
  },
  {
   "cell_type": "code",
   "execution_count": 29,
   "metadata": {},
   "outputs": [
    {
     "data": {
      "text/plain": [
       "'3bH2Eu9A9ymI4UnGHRmoXg'"
      ]
     },
     "execution_count": 29,
     "metadata": {},
     "output_type": "execute_result"
    }
   ],
   "source": [
    "track_uri[14:]"
   ]
  },
  {
   "cell_type": "code",
   "execution_count": 19,
   "metadata": {},
   "outputs": [
    {
     "data": {
      "text/plain": [
       "(0.9332338709380408, '48_70a8cc8c-2ff8-46b6-b72f-ba9922c32fbd')"
      ]
     },
     "execution_count": 19,
     "metadata": {},
     "output_type": "execute_result"
    }
   ],
   "source": [
    "simAndSong"
   ]
  },
  {
   "cell_type": "code",
   "execution_count": null,
   "metadata": {},
   "outputs": [],
   "source": []
  }
 ],
 "metadata": {
  "kernelspec": {
   "display_name": "Python 3",
   "language": "python",
   "name": "python3"
  },
  "language_info": {
   "codemirror_mode": {
    "name": "ipython",
    "version": 3
   },
   "file_extension": ".py",
   "mimetype": "text/x-python",
   "name": "python",
   "nbconvert_exporter": "python",
   "pygments_lexer": "ipython3",
   "version": "3.8.5"
  }
 },
 "nbformat": 4,
 "nbformat_minor": 4
}
