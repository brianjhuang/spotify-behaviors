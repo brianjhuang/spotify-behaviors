{
 "cells": [
  {
   "cell_type": "code",
   "execution_count": 1,
   "metadata": {},
   "outputs": [],
   "source": [
    "%load_ext autoreload\n",
    "%autoreload 2"
   ]
  },
  {
   "cell_type": "code",
   "execution_count": 2,
   "metadata": {},
   "outputs": [],
   "source": [
    "%reload_ext autoreload"
   ]
  },
  {
   "cell_type": "code",
   "execution_count": 3,
   "metadata": {},
   "outputs": [],
   "source": [
    "with open('authorized.txt', 'w') as a:\n",
    "    a.write('True')"
   ]
  },
  {
   "cell_type": "code",
   "execution_count": 4,
   "metadata": {},
   "outputs": [],
   "source": [
    "import streamlit as st\n",
    "from multipage_template import save, MultiPage, start_app, clear_cache\n",
    "import pandas as pd\n",
    "from PIL import Image\n",
    "import os\n",
    "from pyspark.sql import functions as f\n",
    "from pyspark.sql import SparkSession\n",
    "import random\n",
    "from sklearn.decomposition import PCA\n",
    "import math\n",
    "from spotifyAPI import Spotify"
   ]
  },
  {
   "cell_type": "code",
   "execution_count": 5,
   "metadata": {},
   "outputs": [],
   "source": [
    "userOneFeatures = pd.read_csv(\"../userOneFeatures.csv\")\n",
    "userTwoFeatures = pd.read_csv(\"../userTwoFeatures.csv\")\n",
    "userThreeFeatures = pd.read_csv(\"../userThreeFeatures.csv\")\n",
    "\n",
    "userOneFeatures.drop('Unnamed: 0', axis = 1, inplace = True)\n",
    "userTwoFeatures.drop('Unnamed: 0', axis = 1, inplace = True)\n",
    "userThreeFeatures.drop('Unnamed: 0', axis = 1, inplace = True)"
   ]
  },
  {
   "cell_type": "code",
   "execution_count": 32,
   "metadata": {},
   "outputs": [
    {
     "name": "stdout",
     "output_type": "stream",
     "text": [
      "Client ID:\n",
      "········\n",
      "Client Secret:\n",
      "········\n"
     ]
    }
   ],
   "source": [
    "s = Spotify()"
   ]
  },
  {
   "cell_type": "code",
   "execution_count": 6,
   "metadata": {},
   "outputs": [],
   "source": [
    "import json"
   ]
  },
  {
   "cell_type": "code",
   "execution_count": 7,
   "metadata": {},
   "outputs": [],
   "source": [
    "def get_X(playlist = 'Top 50 - USA', creator = 'Spotify', playlist_id = \"\"):\n",
    "    '''\n",
    "    Takes in a playlis,m ;l909t name and the creator of the playlist and\n",
    "    returns the list of songs in that playlist. Also returns the features.\n",
    "\n",
    "    Params:\n",
    "    playlist (string) - the name of the playlist (default Top 50)\n",
    "    creator (string) - the creator of the playlist (default Spotify)\n",
    "\n",
    "    Returns:\n",
    "    songs (list) - a list of song names\n",
    "    X (list of dictionaries) - our features\n",
    "    '''\n",
    "    if os.path.exists('X_songs.txt'):\n",
    "        #if our song exists\n",
    "        songs = open('X_songs.txt').read().split(\"~\")\n",
    "        if len(songs) <= 1:\n",
    "            songs = s.get_playlist_items(query = playlist, desired_artist = creator, playlist_id = playlist_id)\n",
    "            with open('X_songs.txt', 'w', encoding = 'utf-8') as s_file:\n",
    "                for song in songs:\n",
    "                    s_file.write(song[0] + \"~\")\n",
    "                songs = open('X_songs.txt').read().split(\"~\")\n",
    "    else:\n",
    "        songs = s.get_playlist_items(query = playlist, desired_artist = creator, playlist_id = playlist_id)\n",
    "        with open('X_songs.txt', 'w', encoding = 'utf-8') as s_file:\n",
    "            for song in songs:\n",
    "                s_file.write(song[0] + \"~\")\n",
    "            songs = open('X_songs.txt').read().split(\"~\")\n",
    "\n",
    "    if os.path.exists('X_features.json'):\n",
    "        f = open('X_features.json')\n",
    "        features = json.load(f)\n",
    "        if len(features) <= 1:\n",
    "            features = s.get_playlist_features(query = playlist, desired_artist = creator, playlist_id = playlist_id)\n",
    "            with open('X_features.json', 'w', encoding='utf-8') as f:\n",
    "                json.dump(features, f, ensure_ascii=False, indent=4)\n",
    "    else:\n",
    "        features = s.get_playlist_features(query = playlist, desired_artist = creator, playlist_id = playlist_id)\n",
    "        with open('X_features.json', 'w', encoding='utf-8') as f:\n",
    "            json.dump(features, f, ensure_ascii=False, indent=4)\n",
    "\n",
    "    return songs, features\n",
    "\n",
    "def get_y(playlist, creator, playlist_id):\n",
    "    '''\n",
    "    Takes in a playlist name and the creator of the playlist and\n",
    "    returns the list of songs in that playlist. Also returns the features.\n",
    "\n",
    "    Params:\n",
    "    playlist (string) - the name of the playlist\n",
    "    creator (string) - the creator of the playlist\n",
    "\n",
    "    Returns:\n",
    "    songs (list) - a list of song names\n",
    "    features (list of dictionaries) - our y features\n",
    "    '''\n",
    "    if os.path.exists('y_songs.txt'):\n",
    "        #if our song exists\n",
    "        songs = open('y_songs.txt').read().split(\"~\")\n",
    "        if len(songs) <= 0:\n",
    "            songs = s.get_playlist_items(query = playlist, desired_artist = creator, playlist_id = playlist_id)\n",
    "            with open('y_songs.txt', 'w', encoding = 'utf-8') as s_file:\n",
    "                for song in songs:\n",
    "                    s_file.write(song[0] + \"~\")\n",
    "                songs = open('y_songs.txt').read().split(\"~\")\n",
    "    else:\n",
    "        songs = s.get_playlist_items(query = playlist, desired_artist = creator, playlist_id = playlist_id)\n",
    "        with open('y_songs.txt', 'w', encoding = 'utf-8') as s_file:\n",
    "            for song in songs:\n",
    "                s_file.write(song[0] + \"~\")\n",
    "            songs = open('y_songs.txt').read().split(\"~\")\n",
    "\n",
    "    if os.path.exists('y_features.json'):\n",
    "        f = open('y_features.json')\n",
    "        features = json.load(f)\n",
    "        if len(features) <= 0:\n",
    "            features = s.get_playlist_features(query = playlist, desired_artist = creator, playlist_id = playlist_id)\n",
    "            with open('y_features.json', 'w', encoding='utf-8') as f:\n",
    "                json.dump(features, f, ensure_ascii=False, indent=4)\n",
    "    else:\n",
    "        features = s.get_playlist_features(query = playlist, desired_artist = creator, playlist_id = playlist_id)\n",
    "        with open('y_features.json', 'w', encoding='utf-8') as f:\n",
    "            json.dump(features, f, ensure_ascii=False, indent=4)\n",
    "\n",
    "    return songs, features"
   ]
  },
  {
   "cell_type": "code",
   "execution_count": 8,
   "metadata": {},
   "outputs": [],
   "source": [
    "y_songs, y = get_y('throwback', 'Brian Huang', '1TQsoXwhdWVb1DHwqBOa8O')"
   ]
  },
  {
   "cell_type": "code",
   "execution_count": 9,
   "metadata": {},
   "outputs": [],
   "source": [
    "X_songs, X = get_X('songs nobody would be mad abt', 'Tatum Maston')"
   ]
  },
  {
   "cell_type": "code",
   "execution_count": 10,
   "metadata": {},
   "outputs": [],
   "source": [
    "from recommender import songRecommender"
   ]
  },
  {
   "cell_type": "code",
   "execution_count": 11,
   "metadata": {},
   "outputs": [],
   "source": [
    "model = songRecommender(X, y, X_songs, y_songs)\n",
    "#you can also flip it to get the top 50 songs and their corresponding matches"
   ]
  },
  {
   "cell_type": "code",
   "execution_count": 29,
   "metadata": {
    "scrolled": true
   },
   "outputs": [
    {
     "data": {
      "text/plain": [
       "''"
      ]
     },
     "execution_count": 29,
     "metadata": {},
     "output_type": "execute_result"
    }
   ],
   "source": [
    "(model.getySongs())[100]"
   ]
  },
  {
   "cell_type": "code",
   "execution_count": null,
   "metadata": {},
   "outputs": [],
   "source": [
    "predictions = {}\n",
    "songID = 0\n",
    "for feature in y:\n",
    "    if songID == 101:\n",
    "        break\n",
    "    entry = (feature[1],self.cosine(feature, X, 5))\n",
    "    #figure out why it keeps returning 10 entries\n",
    "    predictions[self.getySongs()[songID]] = entry\n",
    "    songID += 1"
   ]
  },
  {
   "cell_type": "code",
   "execution_count": 28,
   "metadata": {},
   "outputs": [
    {
     "data": {
      "text/plain": [
       "('spotify:track:2V4bv1fNWfTcyRJKmej6Sj',\n",
       " [(1.0000000000000002,\n",
       "   '2V4bv1fNWfTcyRJKmej6Sj',\n",
       "   'spotify:track:2V4bv1fNWfTcyRJKmej6Sj'),\n",
       "  (0.5102808667281873,\n",
       "   '0w2piYWj1F2bzUftzGJgK9',\n",
       "   'spotify:track:0w2piYWj1F2bzUftzGJgK9'),\n",
       "  (0.47840913083826714,\n",
       "   '19a3JfW8BQwqHWUMbcqSx8',\n",
       "   'spotify:track:19a3JfW8BQwqHWUMbcqSx8'),\n",
       "  (0.465745599525152,\n",
       "   '0eqH0ALoDQevq59YcQ53KE',\n",
       "   'spotify:track:0eqH0ALoDQevq59YcQ53KE'),\n",
       "  (0.34056587654626763,\n",
       "   '4bBrKDo8rchikwZOtmXbIH',\n",
       "   'spotify:track:4bBrKDo8rchikwZOtmXbIH')])"
      ]
     },
     "execution_count": 28,
     "metadata": {},
     "output_type": "execute_result"
    }
   ],
   "source": [
    "model.similar(model.getX(), model.getY())['Cooler Than Me - Single Mix']"
   ]
  },
  {
   "cell_type": "code",
   "execution_count": null,
   "metadata": {},
   "outputs": [],
   "source": []
  }
 ],
 "metadata": {
  "kernelspec": {
   "display_name": "Python 3",
   "language": "python",
   "name": "python3"
  },
  "language_info": {
   "codemirror_mode": {
    "name": "ipython",
    "version": 3
   },
   "file_extension": ".py",
   "mimetype": "text/x-python",
   "name": "python",
   "nbconvert_exporter": "python",
   "pygments_lexer": "ipython3",
   "version": "3.8.5"
  }
 },
 "nbformat": 4,
 "nbformat_minor": 4
}
