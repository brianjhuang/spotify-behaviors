{
 "cells": [
  {
   "cell_type": "code",
   "execution_count": 172,
   "metadata": {},
   "outputs": [],
   "source": [
    "from pyspark.sql import functions as f\n",
    "from pyspark.sql import SparkSession\n",
    "import os\n",
    "import pandas as pd\n",
    "import datetime as dt"
   ]
  },
  {
   "cell_type": "code",
   "execution_count": 2,
   "metadata": {},
   "outputs": [],
   "source": [
    "spark = SparkSession.builder.getOrCreate()\n",
    "#start a spark session"
   ]
  },
  {
   "cell_type": "code",
   "execution_count": 3,
   "metadata": {},
   "outputs": [
    {
     "data": {
      "text/plain": [
       "'/Volumes/Marceline Jr./Spotify Dataset/sample_sets/track_features_subset_0.csv'"
      ]
     },
     "execution_count": 3,
     "metadata": {},
     "output_type": "execute_result"
    }
   ],
   "source": [
    "spark_fp = os.path.join(\"/\", \"Volumes\", \"Marceline Jr.\", \"Spotify Dataset\", \"sample_sets\", \"track_features_subset_0.csv\")\n",
    "spark_fp"
   ]
  },
  {
   "cell_type": "code",
   "execution_count": 4,
   "metadata": {
    "scrolled": true
   },
   "outputs": [],
   "source": [
    "df = spark.read.load(spark_fp, \n",
    "                      format=\"csv\", inferSchema=\"true\", header=\"true\")\n",
    "#load our dataframe lazily so we can sample from it"
   ]
  },
  {
   "cell_type": "code",
   "execution_count": 5,
   "metadata": {},
   "outputs": [
    {
     "data": {
      "text/plain": [
       "10357741"
      ]
     },
     "execution_count": 5,
     "metadata": {},
     "output_type": "execute_result"
    }
   ],
   "source": [
    "df.count()"
   ]
  },
  {
   "cell_type": "code",
   "execution_count": 6,
   "metadata": {
    "scrolled": false
   },
   "outputs": [],
   "source": [
    "pandas_df = df.limit(1000000).toPandas()\n",
    "#if your spark session crashes, reduce the limit of the items you want"
   ]
  },
  {
   "cell_type": "code",
   "execution_count": 7,
   "metadata": {
    "scrolled": false
   },
   "outputs": [
    {
     "data": {
      "text/html": [
       "<div>\n",
       "<style scoped>\n",
       "    .dataframe tbody tr th:only-of-type {\n",
       "        vertical-align: middle;\n",
       "    }\n",
       "\n",
       "    .dataframe tbody tr th {\n",
       "        vertical-align: top;\n",
       "    }\n",
       "\n",
       "    .dataframe thead th {\n",
       "        text-align: right;\n",
       "    }\n",
       "</style>\n",
       "<table border=\"1\" class=\"dataframe\">\n",
       "  <thead>\n",
       "    <tr style=\"text-align: right;\">\n",
       "      <th></th>\n",
       "      <th>session_id</th>\n",
       "      <th>session_position</th>\n",
       "      <th>session_length</th>\n",
       "      <th>track_id_clean</th>\n",
       "      <th>skip_1</th>\n",
       "      <th>skip_2</th>\n",
       "      <th>skip_3</th>\n",
       "      <th>not_skipped</th>\n",
       "      <th>context_switch</th>\n",
       "      <th>no_pause_before_play</th>\n",
       "      <th>...</th>\n",
       "      <th>long_pause_before_play</th>\n",
       "      <th>hist_user_behavior_n_seekfwd</th>\n",
       "      <th>hist_user_behavior_n_seekback</th>\n",
       "      <th>hist_user_behavior_is_shuffle</th>\n",
       "      <th>hour_of_day</th>\n",
       "      <th>date</th>\n",
       "      <th>premium</th>\n",
       "      <th>context_type</th>\n",
       "      <th>hist_user_behavior_reason_start</th>\n",
       "      <th>hist_user_behavior_reason_end</th>\n",
       "    </tr>\n",
       "  </thead>\n",
       "  <tbody>\n",
       "    <tr>\n",
       "      <th>0</th>\n",
       "      <td>5_000074db-eb0b-4ecc-a9db-0e8e39f10198</td>\n",
       "      <td>9</td>\n",
       "      <td>10</td>\n",
       "      <td>t_1131add1-4106-4a84-a117-63b8145cb4a8</td>\n",
       "      <td>False</td>\n",
       "      <td>False</td>\n",
       "      <td>False</td>\n",
       "      <td>True</td>\n",
       "      <td>0</td>\n",
       "      <td>1</td>\n",
       "      <td>...</td>\n",
       "      <td>0</td>\n",
       "      <td>0</td>\n",
       "      <td>0</td>\n",
       "      <td>False</td>\n",
       "      <td>17</td>\n",
       "      <td>2018-07-20</td>\n",
       "      <td>True</td>\n",
       "      <td>radio</td>\n",
       "      <td>trackdone</td>\n",
       "      <td>trackdone</td>\n",
       "    </tr>\n",
       "    <tr>\n",
       "      <th>1</th>\n",
       "      <td>5_0003aa7a-65e1-42ae-bebd-3097d62ee4e9</td>\n",
       "      <td>17</td>\n",
       "      <td>20</td>\n",
       "      <td>t_0678fe94-c636-407a-983a-b78c672a85c2</td>\n",
       "      <td>False</td>\n",
       "      <td>False</td>\n",
       "      <td>True</td>\n",
       "      <td>False</td>\n",
       "      <td>1</td>\n",
       "      <td>1</td>\n",
       "      <td>...</td>\n",
       "      <td>0</td>\n",
       "      <td>0</td>\n",
       "      <td>0</td>\n",
       "      <td>True</td>\n",
       "      <td>6</td>\n",
       "      <td>2018-07-20</td>\n",
       "      <td>True</td>\n",
       "      <td>catalog</td>\n",
       "      <td>clickrow</td>\n",
       "      <td>endplay</td>\n",
       "    </tr>\n",
       "    <tr>\n",
       "      <th>2</th>\n",
       "      <td>5_0007744a-b9db-4bd6-97d5-351cf2959ec1</td>\n",
       "      <td>8</td>\n",
       "      <td>20</td>\n",
       "      <td>t_86f41324-42c4-4011-ba80-851a56971097</td>\n",
       "      <td>False</td>\n",
       "      <td>False</td>\n",
       "      <td>False</td>\n",
       "      <td>True</td>\n",
       "      <td>0</td>\n",
       "      <td>1</td>\n",
       "      <td>...</td>\n",
       "      <td>0</td>\n",
       "      <td>0</td>\n",
       "      <td>0</td>\n",
       "      <td>False</td>\n",
       "      <td>23</td>\n",
       "      <td>2018-07-19</td>\n",
       "      <td>True</td>\n",
       "      <td>catalog</td>\n",
       "      <td>trackdone</td>\n",
       "      <td>trackdone</td>\n",
       "    </tr>\n",
       "    <tr>\n",
       "      <th>3</th>\n",
       "      <td>5_0009e4c1-815f-4ea9-811c-2605334f7ef3</td>\n",
       "      <td>2</td>\n",
       "      <td>15</td>\n",
       "      <td>t_77b02acb-1b1f-4b36-b8fc-2c3e01892b9a</td>\n",
       "      <td>False</td>\n",
       "      <td>False</td>\n",
       "      <td>False</td>\n",
       "      <td>True</td>\n",
       "      <td>0</td>\n",
       "      <td>0</td>\n",
       "      <td>...</td>\n",
       "      <td>1</td>\n",
       "      <td>0</td>\n",
       "      <td>0</td>\n",
       "      <td>False</td>\n",
       "      <td>9</td>\n",
       "      <td>2018-07-20</td>\n",
       "      <td>True</td>\n",
       "      <td>editorial_playlist</td>\n",
       "      <td>trackdone</td>\n",
       "      <td>trackdone</td>\n",
       "    </tr>\n",
       "    <tr>\n",
       "      <th>4</th>\n",
       "      <td>5_00109067-e6eb-4c24-ab76-32914ccadef8</td>\n",
       "      <td>16</td>\n",
       "      <td>20</td>\n",
       "      <td>t_4bb4aa96-286c-4111-9d2c-5b70a58254f0</td>\n",
       "      <td>False</td>\n",
       "      <td>False</td>\n",
       "      <td>False</td>\n",
       "      <td>True</td>\n",
       "      <td>0</td>\n",
       "      <td>1</td>\n",
       "      <td>...</td>\n",
       "      <td>0</td>\n",
       "      <td>0</td>\n",
       "      <td>0</td>\n",
       "      <td>False</td>\n",
       "      <td>13</td>\n",
       "      <td>2018-07-20</td>\n",
       "      <td>False</td>\n",
       "      <td>catalog</td>\n",
       "      <td>trackdone</td>\n",
       "      <td>trackdone</td>\n",
       "    </tr>\n",
       "  </tbody>\n",
       "</table>\n",
       "<p>5 rows × 21 columns</p>\n",
       "</div>"
      ],
      "text/plain": [
       "                               session_id  session_position  session_length  \\\n",
       "0  5_000074db-eb0b-4ecc-a9db-0e8e39f10198                 9              10   \n",
       "1  5_0003aa7a-65e1-42ae-bebd-3097d62ee4e9                17              20   \n",
       "2  5_0007744a-b9db-4bd6-97d5-351cf2959ec1                 8              20   \n",
       "3  5_0009e4c1-815f-4ea9-811c-2605334f7ef3                 2              15   \n",
       "4  5_00109067-e6eb-4c24-ab76-32914ccadef8                16              20   \n",
       "\n",
       "                           track_id_clean  skip_1  skip_2  skip_3  \\\n",
       "0  t_1131add1-4106-4a84-a117-63b8145cb4a8   False   False   False   \n",
       "1  t_0678fe94-c636-407a-983a-b78c672a85c2   False   False    True   \n",
       "2  t_86f41324-42c4-4011-ba80-851a56971097   False   False   False   \n",
       "3  t_77b02acb-1b1f-4b36-b8fc-2c3e01892b9a   False   False   False   \n",
       "4  t_4bb4aa96-286c-4111-9d2c-5b70a58254f0   False   False   False   \n",
       "\n",
       "   not_skipped  context_switch  no_pause_before_play  ...  \\\n",
       "0         True               0                     1  ...   \n",
       "1        False               1                     1  ...   \n",
       "2         True               0                     1  ...   \n",
       "3         True               0                     0  ...   \n",
       "4         True               0                     1  ...   \n",
       "\n",
       "   long_pause_before_play  hist_user_behavior_n_seekfwd  \\\n",
       "0                       0                             0   \n",
       "1                       0                             0   \n",
       "2                       0                             0   \n",
       "3                       1                             0   \n",
       "4                       0                             0   \n",
       "\n",
       "   hist_user_behavior_n_seekback  hist_user_behavior_is_shuffle  hour_of_day  \\\n",
       "0                              0                          False           17   \n",
       "1                              0                           True            6   \n",
       "2                              0                          False           23   \n",
       "3                              0                          False            9   \n",
       "4                              0                          False           13   \n",
       "\n",
       "         date premium        context_type hist_user_behavior_reason_start  \\\n",
       "0  2018-07-20    True               radio                       trackdone   \n",
       "1  2018-07-20    True             catalog                        clickrow   \n",
       "2  2018-07-19    True             catalog                       trackdone   \n",
       "3  2018-07-20    True  editorial_playlist                       trackdone   \n",
       "4  2018-07-20   False             catalog                       trackdone   \n",
       "\n",
       "  hist_user_behavior_reason_end  \n",
       "0                     trackdone  \n",
       "1                       endplay  \n",
       "2                     trackdone  \n",
       "3                     trackdone  \n",
       "4                     trackdone  \n",
       "\n",
       "[5 rows x 21 columns]"
      ]
     },
     "execution_count": 7,
     "metadata": {},
     "output_type": "execute_result"
    }
   ],
   "source": [
    "pandas_df.head(5)"
   ]
  },
  {
   "cell_type": "code",
   "execution_count": 17,
   "metadata": {},
   "outputs": [],
   "source": [
    "tf_path_one = os.path.join(\"/\", \"Volumes\", \"Marceline Jr.\", \"Spotify Dataset\", \"track_features\", \"tf_000000000000.csv\")"
   ]
  },
  {
   "cell_type": "code",
   "execution_count": 18,
   "metadata": {},
   "outputs": [],
   "source": [
    "tf_path_two = os.path.join(\"/\", \"Volumes\", \"Marceline Jr.\", \"Spotify Dataset\", \"track_features\", \"tf_000000000001.csv\")"
   ]
  },
  {
   "cell_type": "code",
   "execution_count": 19,
   "metadata": {
    "scrolled": true
   },
   "outputs": [],
   "source": [
    "track_features_one = pd.read_csv(tf_path_one)\n",
    "track_features_two = pd.read_csv(tf_path_two)"
   ]
  },
  {
   "cell_type": "code",
   "execution_count": 22,
   "metadata": {},
   "outputs": [],
   "source": [
    "track_features = pd.concat([track_features_one, track_features_two])"
   ]
  },
  {
   "cell_type": "code",
   "execution_count": 23,
   "metadata": {},
   "outputs": [
    {
     "data": {
      "text/plain": [
       "(3706388, 3706388)"
      ]
     },
     "execution_count": 23,
     "metadata": {},
     "output_type": "execute_result"
    }
   ],
   "source": [
    "len(track_features), len(track_features_one) + len(track_features_two)"
   ]
  },
  {
   "cell_type": "code",
   "execution_count": 24,
   "metadata": {
    "scrolled": true
   },
   "outputs": [
    {
     "data": {
      "text/html": [
       "<div>\n",
       "<style scoped>\n",
       "    .dataframe tbody tr th:only-of-type {\n",
       "        vertical-align: middle;\n",
       "    }\n",
       "\n",
       "    .dataframe tbody tr th {\n",
       "        vertical-align: top;\n",
       "    }\n",
       "\n",
       "    .dataframe thead th {\n",
       "        text-align: right;\n",
       "    }\n",
       "</style>\n",
       "<table border=\"1\" class=\"dataframe\">\n",
       "  <thead>\n",
       "    <tr style=\"text-align: right;\">\n",
       "      <th></th>\n",
       "      <th>track_id</th>\n",
       "      <th>duration</th>\n",
       "      <th>release_year</th>\n",
       "      <th>us_popularity_estimate</th>\n",
       "      <th>acousticness</th>\n",
       "      <th>beat_strength</th>\n",
       "      <th>bounciness</th>\n",
       "      <th>danceability</th>\n",
       "      <th>dyn_range_mean</th>\n",
       "      <th>energy</th>\n",
       "      <th>...</th>\n",
       "      <th>time_signature</th>\n",
       "      <th>valence</th>\n",
       "      <th>acoustic_vector_0</th>\n",
       "      <th>acoustic_vector_1</th>\n",
       "      <th>acoustic_vector_2</th>\n",
       "      <th>acoustic_vector_3</th>\n",
       "      <th>acoustic_vector_4</th>\n",
       "      <th>acoustic_vector_5</th>\n",
       "      <th>acoustic_vector_6</th>\n",
       "      <th>acoustic_vector_7</th>\n",
       "    </tr>\n",
       "  </thead>\n",
       "  <tbody>\n",
       "    <tr>\n",
       "      <th>0</th>\n",
       "      <td>t_2e8f4b71-8a0b-4b9c-b7d8-fb5208e87f9f</td>\n",
       "      <td>326.013336</td>\n",
       "      <td>1971</td>\n",
       "      <td>99.582885</td>\n",
       "      <td>0.716209</td>\n",
       "      <td>0.366495</td>\n",
       "      <td>0.332605</td>\n",
       "      <td>0.439835</td>\n",
       "      <td>5.805774</td>\n",
       "      <td>0.238847</td>\n",
       "      <td>...</td>\n",
       "      <td>4</td>\n",
       "      <td>0.223395</td>\n",
       "      <td>0.146012</td>\n",
       "      <td>-0.706908</td>\n",
       "      <td>0.259496</td>\n",
       "      <td>0.481157</td>\n",
       "      <td>0.238427</td>\n",
       "      <td>-0.098389</td>\n",
       "      <td>-0.254960</td>\n",
       "      <td>-0.227383</td>\n",
       "    </tr>\n",
       "    <tr>\n",
       "      <th>1</th>\n",
       "      <td>t_dae2ec0e-ec7b-4b3e-b60c-4a884d0eccb0</td>\n",
       "      <td>147.813324</td>\n",
       "      <td>1963</td>\n",
       "      <td>97.272035</td>\n",
       "      <td>0.839460</td>\n",
       "      <td>0.362212</td>\n",
       "      <td>0.389829</td>\n",
       "      <td>0.507580</td>\n",
       "      <td>6.845427</td>\n",
       "      <td>0.420476</td>\n",
       "      <td>...</td>\n",
       "      <td>4</td>\n",
       "      <td>0.484702</td>\n",
       "      <td>0.039554</td>\n",
       "      <td>-0.539554</td>\n",
       "      <td>0.105141</td>\n",
       "      <td>0.692589</td>\n",
       "      <td>0.226047</td>\n",
       "      <td>-0.468162</td>\n",
       "      <td>0.164389</td>\n",
       "      <td>-0.769024</td>\n",
       "    </tr>\n",
       "    <tr>\n",
       "      <th>2</th>\n",
       "      <td>t_cf0164dd-1531-4399-bfa6-dec19cd1fedc</td>\n",
       "      <td>110.400002</td>\n",
       "      <td>1974</td>\n",
       "      <td>99.620384</td>\n",
       "      <td>0.054673</td>\n",
       "      <td>0.495002</td>\n",
       "      <td>0.589378</td>\n",
       "      <td>0.552311</td>\n",
       "      <td>9.361949</td>\n",
       "      <td>0.842938</td>\n",
       "      <td>...</td>\n",
       "      <td>4</td>\n",
       "      <td>0.818441</td>\n",
       "      <td>0.083863</td>\n",
       "      <td>-0.242108</td>\n",
       "      <td>-0.014258</td>\n",
       "      <td>0.096396</td>\n",
       "      <td>0.417641</td>\n",
       "      <td>-0.050576</td>\n",
       "      <td>-0.204757</td>\n",
       "      <td>-0.172563</td>\n",
       "    </tr>\n",
       "    <tr>\n",
       "      <th>3</th>\n",
       "      <td>t_0f90acc7-d5c5-4e53-901d-55610fbd090c</td>\n",
       "      <td>237.653336</td>\n",
       "      <td>1988</td>\n",
       "      <td>96.796830</td>\n",
       "      <td>0.042606</td>\n",
       "      <td>0.389634</td>\n",
       "      <td>0.359044</td>\n",
       "      <td>0.585673</td>\n",
       "      <td>6.068578</td>\n",
       "      <td>0.665398</td>\n",
       "      <td>...</td>\n",
       "      <td>4</td>\n",
       "      <td>0.594829</td>\n",
       "      <td>0.192498</td>\n",
       "      <td>0.340039</td>\n",
       "      <td>0.034846</td>\n",
       "      <td>-0.389794</td>\n",
       "      <td>0.518381</td>\n",
       "      <td>0.185008</td>\n",
       "      <td>-0.079907</td>\n",
       "      <td>-0.016978</td>\n",
       "    </tr>\n",
       "    <tr>\n",
       "      <th>4</th>\n",
       "      <td>t_36b9ad02-095a-443d-a697-6c7285d9410a</td>\n",
       "      <td>174.600006</td>\n",
       "      <td>1987</td>\n",
       "      <td>97.905891</td>\n",
       "      <td>0.249982</td>\n",
       "      <td>0.513640</td>\n",
       "      <td>0.485435</td>\n",
       "      <td>0.635095</td>\n",
       "      <td>7.198735</td>\n",
       "      <td>0.408715</td>\n",
       "      <td>...</td>\n",
       "      <td>4</td>\n",
       "      <td>0.591289</td>\n",
       "      <td>0.270586</td>\n",
       "      <td>-0.411061</td>\n",
       "      <td>0.165898</td>\n",
       "      <td>0.225652</td>\n",
       "      <td>0.335518</td>\n",
       "      <td>-0.036643</td>\n",
       "      <td>-0.016300</td>\n",
       "      <td>-0.446870</td>\n",
       "    </tr>\n",
       "  </tbody>\n",
       "</table>\n",
       "<p>5 rows × 30 columns</p>\n",
       "</div>"
      ],
      "text/plain": [
       "                                 track_id    duration  release_year  \\\n",
       "0  t_2e8f4b71-8a0b-4b9c-b7d8-fb5208e87f9f  326.013336          1971   \n",
       "1  t_dae2ec0e-ec7b-4b3e-b60c-4a884d0eccb0  147.813324          1963   \n",
       "2  t_cf0164dd-1531-4399-bfa6-dec19cd1fedc  110.400002          1974   \n",
       "3  t_0f90acc7-d5c5-4e53-901d-55610fbd090c  237.653336          1988   \n",
       "4  t_36b9ad02-095a-443d-a697-6c7285d9410a  174.600006          1987   \n",
       "\n",
       "   us_popularity_estimate  acousticness  beat_strength  bounciness  \\\n",
       "0               99.582885      0.716209       0.366495    0.332605   \n",
       "1               97.272035      0.839460       0.362212    0.389829   \n",
       "2               99.620384      0.054673       0.495002    0.589378   \n",
       "3               96.796830      0.042606       0.389634    0.359044   \n",
       "4               97.905891      0.249982       0.513640    0.485435   \n",
       "\n",
       "   danceability  dyn_range_mean    energy  ...  time_signature   valence  \\\n",
       "0      0.439835        5.805774  0.238847  ...               4  0.223395   \n",
       "1      0.507580        6.845427  0.420476  ...               4  0.484702   \n",
       "2      0.552311        9.361949  0.842938  ...               4  0.818441   \n",
       "3      0.585673        6.068578  0.665398  ...               4  0.594829   \n",
       "4      0.635095        7.198735  0.408715  ...               4  0.591289   \n",
       "\n",
       "   acoustic_vector_0  acoustic_vector_1  acoustic_vector_2  acoustic_vector_3  \\\n",
       "0           0.146012          -0.706908           0.259496           0.481157   \n",
       "1           0.039554          -0.539554           0.105141           0.692589   \n",
       "2           0.083863          -0.242108          -0.014258           0.096396   \n",
       "3           0.192498           0.340039           0.034846          -0.389794   \n",
       "4           0.270586          -0.411061           0.165898           0.225652   \n",
       "\n",
       "  acoustic_vector_4  acoustic_vector_5  acoustic_vector_6  acoustic_vector_7  \n",
       "0          0.238427          -0.098389          -0.254960          -0.227383  \n",
       "1          0.226047          -0.468162           0.164389          -0.769024  \n",
       "2          0.417641          -0.050576          -0.204757          -0.172563  \n",
       "3          0.518381           0.185008          -0.079907          -0.016978  \n",
       "4          0.335518          -0.036643          -0.016300          -0.446870  \n",
       "\n",
       "[5 rows x 30 columns]"
      ]
     },
     "execution_count": 24,
     "metadata": {},
     "output_type": "execute_result"
    }
   ],
   "source": [
    "track_features.head()"
   ]
  },
  {
   "cell_type": "code",
   "execution_count": 177,
   "metadata": {},
   "outputs": [],
   "source": [
    "df = pd.merge(pandas_df, track_features, left_on = 'track_id_clean', right_on = 'track_id')"
   ]
  },
  {
   "cell_type": "code",
   "execution_count": 178,
   "metadata": {
    "scrolled": true
   },
   "outputs": [
    {
     "data": {
      "text/plain": [
       "Index(['session_id', 'session_position', 'session_length', 'track_id_clean',\n",
       "       'skip_1', 'skip_2', 'skip_3', 'not_skipped', 'context_switch',\n",
       "       'no_pause_before_play', 'short_pause_before_play',\n",
       "       'long_pause_before_play', 'hist_user_behavior_n_seekfwd',\n",
       "       'hist_user_behavior_n_seekback', 'hist_user_behavior_is_shuffle',\n",
       "       'hour_of_day', 'date', 'premium', 'context_type',\n",
       "       'hist_user_behavior_reason_start', 'hist_user_behavior_reason_end',\n",
       "       'track_id', 'duration', 'release_year', 'us_popularity_estimate',\n",
       "       'acousticness', 'beat_strength', 'bounciness', 'danceability',\n",
       "       'dyn_range_mean', 'energy', 'flatness', 'instrumentalness', 'key',\n",
       "       'liveness', 'loudness', 'mechanism', 'mode', 'organism', 'speechiness',\n",
       "       'tempo', 'time_signature', 'valence', 'acoustic_vector_0',\n",
       "       'acoustic_vector_1', 'acoustic_vector_2', 'acoustic_vector_3',\n",
       "       'acoustic_vector_4', 'acoustic_vector_5', 'acoustic_vector_6',\n",
       "       'acoustic_vector_7'],\n",
       "      dtype='object')"
      ]
     },
     "execution_count": 178,
     "metadata": {},
     "output_type": "execute_result"
    }
   ],
   "source": [
    "df.columns"
   ]
  },
  {
   "cell_type": "code",
   "execution_count": 179,
   "metadata": {},
   "outputs": [],
   "source": [
    "df.drop(['track_id_clean', 'skip_1', 'skip_2', 'skip_3','hist_user_behavior_reason_end', 'session_id', 'track_id','date'], axis = 1, inplace = True)"
   ]
  },
  {
   "cell_type": "code",
   "execution_count": 180,
   "metadata": {},
   "outputs": [
    {
     "data": {
      "text/plain": [
       "Index(['session_position', 'session_length', 'not_skipped', 'context_switch',\n",
       "       'no_pause_before_play', 'short_pause_before_play',\n",
       "       'long_pause_before_play', 'hist_user_behavior_n_seekfwd',\n",
       "       'hist_user_behavior_n_seekback', 'hist_user_behavior_is_shuffle',\n",
       "       'hour_of_day', 'premium', 'context_type',\n",
       "       'hist_user_behavior_reason_start', 'duration', 'release_year',\n",
       "       'us_popularity_estimate', 'acousticness', 'beat_strength', 'bounciness',\n",
       "       'danceability', 'dyn_range_mean', 'energy', 'flatness',\n",
       "       'instrumentalness', 'key', 'liveness', 'loudness', 'mechanism', 'mode',\n",
       "       'organism', 'speechiness', 'tempo', 'time_signature', 'valence',\n",
       "       'acoustic_vector_0', 'acoustic_vector_1', 'acoustic_vector_2',\n",
       "       'acoustic_vector_3', 'acoustic_vector_4', 'acoustic_vector_5',\n",
       "       'acoustic_vector_6', 'acoustic_vector_7'],\n",
       "      dtype='object')"
      ]
     },
     "execution_count": 180,
     "metadata": {},
     "output_type": "execute_result"
    }
   ],
   "source": [
    "df.columns"
   ]
  },
  {
   "cell_type": "code",
   "execution_count": 181,
   "metadata": {},
   "outputs": [
    {
     "data": {
      "text/html": [
       "<div>\n",
       "<style scoped>\n",
       "    .dataframe tbody tr th:only-of-type {\n",
       "        vertical-align: middle;\n",
       "    }\n",
       "\n",
       "    .dataframe tbody tr th {\n",
       "        vertical-align: top;\n",
       "    }\n",
       "\n",
       "    .dataframe thead th {\n",
       "        text-align: right;\n",
       "    }\n",
       "</style>\n",
       "<table border=\"1\" class=\"dataframe\">\n",
       "  <thead>\n",
       "    <tr style=\"text-align: right;\">\n",
       "      <th></th>\n",
       "      <th>hist_user_behavior_reason_start</th>\n",
       "      <th>context_type</th>\n",
       "    </tr>\n",
       "  </thead>\n",
       "  <tbody>\n",
       "    <tr>\n",
       "      <th>0</th>\n",
       "      <td>trackdone</td>\n",
       "      <td>radio</td>\n",
       "    </tr>\n",
       "    <tr>\n",
       "      <th>1</th>\n",
       "      <td>fwdbtn</td>\n",
       "      <td>radio</td>\n",
       "    </tr>\n",
       "    <tr>\n",
       "      <th>2</th>\n",
       "      <td>trackdone</td>\n",
       "      <td>user_collection</td>\n",
       "    </tr>\n",
       "    <tr>\n",
       "      <th>3</th>\n",
       "      <td>trackdone</td>\n",
       "      <td>radio</td>\n",
       "    </tr>\n",
       "    <tr>\n",
       "      <th>4</th>\n",
       "      <td>trackdone</td>\n",
       "      <td>user_collection</td>\n",
       "    </tr>\n",
       "    <tr>\n",
       "      <th>...</th>\n",
       "      <td>...</td>\n",
       "      <td>...</td>\n",
       "    </tr>\n",
       "    <tr>\n",
       "      <th>999995</th>\n",
       "      <td>fwdbtn</td>\n",
       "      <td>user_collection</td>\n",
       "    </tr>\n",
       "    <tr>\n",
       "      <th>999996</th>\n",
       "      <td>trackdone</td>\n",
       "      <td>radio</td>\n",
       "    </tr>\n",
       "    <tr>\n",
       "      <th>999997</th>\n",
       "      <td>fwdbtn</td>\n",
       "      <td>catalog</td>\n",
       "    </tr>\n",
       "    <tr>\n",
       "      <th>999998</th>\n",
       "      <td>trackdone</td>\n",
       "      <td>catalog</td>\n",
       "    </tr>\n",
       "    <tr>\n",
       "      <th>999999</th>\n",
       "      <td>fwdbtn</td>\n",
       "      <td>user_collection</td>\n",
       "    </tr>\n",
       "  </tbody>\n",
       "</table>\n",
       "<p>1000000 rows × 2 columns</p>\n",
       "</div>"
      ],
      "text/plain": [
       "       hist_user_behavior_reason_start     context_type\n",
       "0                            trackdone            radio\n",
       "1                               fwdbtn            radio\n",
       "2                            trackdone  user_collection\n",
       "3                            trackdone            radio\n",
       "4                            trackdone  user_collection\n",
       "...                                ...              ...\n",
       "999995                          fwdbtn  user_collection\n",
       "999996                       trackdone            radio\n",
       "999997                          fwdbtn          catalog\n",
       "999998                       trackdone          catalog\n",
       "999999                          fwdbtn  user_collection\n",
       "\n",
       "[1000000 rows x 2 columns]"
      ]
     },
     "execution_count": 181,
     "metadata": {},
     "output_type": "execute_result"
    }
   ],
   "source": [
    "df[['hist_user_behavior_reason_start', 'context_type']]"
   ]
  },
  {
   "cell_type": "code",
   "execution_count": 182,
   "metadata": {},
   "outputs": [],
   "source": [
    "from sklearn.pipeline import Pipeline\n",
    "from sklearn.preprocessing import FunctionTransformer\n",
    "from sklearn.linear_model import LinearRegression\n",
    "from sklearn.preprocessing import OneHotEncoder\n",
    "from sklearn.compose import ColumnTransformer\n",
    "from sklearn.linear_model import LogisticRegression\n",
    "from sklearn.model_selection import train_test_split\n",
    "from sklearn.tree import DecisionTreeClassifier"
   ]
  },
  {
   "cell_type": "code",
   "execution_count": 183,
   "metadata": {},
   "outputs": [],
   "source": [
    "df['not_skipped'] = df['not_skipped'].apply(lambda x: 1 if x == True else 0)"
   ]
  },
  {
   "cell_type": "code",
   "execution_count": 184,
   "metadata": {},
   "outputs": [
    {
     "data": {
      "text/plain": [
       "session_position                     int32\n",
       "session_length                       int32\n",
       "not_skipped                          int64\n",
       "context_switch                       int32\n",
       "no_pause_before_play                 int32\n",
       "short_pause_before_play              int32\n",
       "long_pause_before_play               int32\n",
       "hist_user_behavior_n_seekfwd         int32\n",
       "hist_user_behavior_n_seekback        int32\n",
       "hist_user_behavior_is_shuffle         bool\n",
       "hour_of_day                          int32\n",
       "premium                               bool\n",
       "context_type                        object\n",
       "hist_user_behavior_reason_start     object\n",
       "duration                           float64\n",
       "release_year                         int64\n",
       "us_popularity_estimate             float64\n",
       "acousticness                       float64\n",
       "beat_strength                      float64\n",
       "bounciness                         float64\n",
       "danceability                       float64\n",
       "dyn_range_mean                     float64\n",
       "energy                             float64\n",
       "flatness                           float64\n",
       "instrumentalness                   float64\n",
       "key                                  int64\n",
       "liveness                           float64\n",
       "loudness                           float64\n",
       "mechanism                          float64\n",
       "mode                                object\n",
       "organism                           float64\n",
       "speechiness                        float64\n",
       "tempo                              float64\n",
       "time_signature                       int64\n",
       "valence                            float64\n",
       "acoustic_vector_0                  float64\n",
       "acoustic_vector_1                  float64\n",
       "acoustic_vector_2                  float64\n",
       "acoustic_vector_3                  float64\n",
       "acoustic_vector_4                  float64\n",
       "acoustic_vector_5                  float64\n",
       "acoustic_vector_6                  float64\n",
       "acoustic_vector_7                  float64\n",
       "dtype: object"
      ]
     },
     "execution_count": 184,
     "metadata": {},
     "output_type": "execute_result"
    }
   ],
   "source": [
    "df.dtypes"
   ]
  },
  {
   "cell_type": "code",
   "execution_count": 185,
   "metadata": {},
   "outputs": [],
   "source": [
    "df['premium']= df['premium'].apply(lambda x: 1 if x is True else 0)\n",
    "df['hist_user_behavior_is_shuffle'] = df['hist_user_behavior_is_shuffle'].apply(lambda x: 1 if x is True else 0)"
   ]
  },
  {
   "cell_type": "code",
   "execution_count": 202,
   "metadata": {},
   "outputs": [
    {
     "data": {
      "text/plain": [
       "0         major\n",
       "1         major\n",
       "2         major\n",
       "3         major\n",
       "4         major\n",
       "          ...  \n",
       "999995    major\n",
       "999996    major\n",
       "999997    major\n",
       "999998    major\n",
       "999999    major\n",
       "Name: mode, Length: 1000000, dtype: object"
      ]
     },
     "execution_count": 202,
     "metadata": {},
     "output_type": "execute_result"
    }
   ],
   "source": [
    "df['mode']"
   ]
  },
  {
   "cell_type": "code",
   "execution_count": 203,
   "metadata": {},
   "outputs": [],
   "source": [
    "as_is = ['session_position', 'session_length','hist_user_behavior_is_shuffle',\n",
    "       'hour_of_day','premium','duration', \n",
    "       'release_year', 'us_popularity_estimate', 'acousticness',\n",
    "       'beat_strength', 'bounciness', 'danceability', 'dyn_range_mean',\n",
    "       'energy', 'flatness', 'instrumentalness', 'liveness', 'loudness',\n",
    "       'mechanism', 'key', 'organism', 'speechiness', 'tempo',\n",
    "       'time_signature', 'valence', 'acoustic_vector_0', 'acoustic_vector_1',\n",
    "       'acoustic_vector_2', 'acoustic_vector_3', 'acoustic_vector_4',\n",
    "       'acoustic_vector_5', 'acoustic_vector_6', 'acoustic_vector_7', 'context_switch', 'no_pause_before_play', 'short_pause_before_play',\n",
    "       'long_pause_before_play', 'hist_user_behavior_n_seekfwd',\n",
    "       'hist_user_behavior_n_seekback']\n",
    "ohe = ['mode','context_type', 'hist_user_behavior_reason_start']"
   ]
  },
  {
   "cell_type": "code",
   "execution_count": 204,
   "metadata": {},
   "outputs": [],
   "source": [
    "preproc = ColumnTransformer(\n",
    "    transformers = [\n",
    "        ('as_is', FunctionTransformer(lambda x: x), as_is),\n",
    "        ('one_hot', OneHotEncoder(handle_unknown = 'ignore'), ohe),\n",
    "    ]\n",
    ")"
   ]
  },
  {
   "cell_type": "code",
   "execution_count": 205,
   "metadata": {},
   "outputs": [],
   "source": [
    "predict = df['not_skipped']"
   ]
  },
  {
   "cell_type": "code",
   "execution_count": 206,
   "metadata": {},
   "outputs": [],
   "source": [
    "pl = Pipeline(steps = [('preprocessor', preproc), ('classifier', DecisionTreeClassifier(max_depth = 10))])\n",
    "x_train, x_test, y_train, y_test = train_test_split(df.drop('not_skipped', axis = 1), df['not_skipped'], test_size= 0.2)"
   ]
  },
  {
   "cell_type": "code",
   "execution_count": 207,
   "metadata": {},
   "outputs": [
    {
     "data": {
      "text/plain": [
       "Pipeline(steps=[('preprocessor',\n",
       "                 ColumnTransformer(transformers=[('as_is',\n",
       "                                                  FunctionTransformer(func=<function <lambda> at 0x7fb5ba8bc940>),\n",
       "                                                  ['session_position',\n",
       "                                                   'session_length',\n",
       "                                                   'hist_user_behavior_is_shuffle',\n",
       "                                                   'hour_of_day', 'premium',\n",
       "                                                   'duration', 'release_year',\n",
       "                                                   'us_popularity_estimate',\n",
       "                                                   'acousticness',\n",
       "                                                   'beat_strength',\n",
       "                                                   'bounciness', 'danceability',\n",
       "                                                   'dyn_range_me...\n",
       "                                                   'liveness', 'loudness',\n",
       "                                                   'mechanism', 'key',\n",
       "                                                   'organism', 'speechiness',\n",
       "                                                   'tempo', 'time_signature',\n",
       "                                                   'valence',\n",
       "                                                   'acoustic_vector_0',\n",
       "                                                   'acoustic_vector_1',\n",
       "                                                   'acoustic_vector_2',\n",
       "                                                   'acoustic_vector_3',\n",
       "                                                   'acoustic_vector_4', ...]),\n",
       "                                                 ('one_hot',\n",
       "                                                  OneHotEncoder(handle_unknown='ignore'),\n",
       "                                                  ['mode', 'context_type',\n",
       "                                                   'hist_user_behavior_reason_start'])])),\n",
       "                ('classifier', DecisionTreeClassifier(max_depth=10))])"
      ]
     },
     "execution_count": 207,
     "metadata": {},
     "output_type": "execute_result"
    }
   ],
   "source": [
    "pl.fit(x_train, y_train)"
   ]
  },
  {
   "cell_type": "code",
   "execution_count": 208,
   "metadata": {},
   "outputs": [
    {
     "data": {
      "text/plain": [
       "0.805635"
      ]
     },
     "execution_count": 208,
     "metadata": {},
     "output_type": "execute_result"
    }
   ],
   "source": [
    "pl.score(x_test, y_test)"
   ]
  },
  {
   "cell_type": "code",
   "execution_count": 211,
   "metadata": {},
   "outputs": [
    {
     "data": {
      "text/plain": [
       "array([1, 0, 0, ..., 0, 0, 1])"
      ]
     },
     "execution_count": 211,
     "metadata": {},
     "output_type": "execute_result"
    }
   ],
   "source": [
    "pl.predict(x_test)"
   ]
  }
 ],
 "metadata": {
  "kernelspec": {
   "display_name": "Python 3",
   "language": "python",
   "name": "python3"
  },
  "language_info": {
   "codemirror_mode": {
    "name": "ipython",
    "version": 3
   },
   "file_extension": ".py",
   "mimetype": "text/x-python",
   "name": "python",
   "nbconvert_exporter": "python",
   "pygments_lexer": "ipython3",
   "version": "3.8.5"
  }
 },
 "nbformat": 4,
 "nbformat_minor": 4
}
