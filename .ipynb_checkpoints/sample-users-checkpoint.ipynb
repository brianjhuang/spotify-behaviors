{
 "cells": [
  {
   "cell_type": "code",
   "execution_count": 1,
   "metadata": {},
   "outputs": [],
   "source": [
    "from pyspark.sql import functions as f\n",
    "from pyspark.sql import SparkSession\n",
    "\n",
    "import os\n",
    "import pandas as pd\n",
    "import random"
   ]
  },
  {
   "cell_type": "markdown",
   "metadata": {},
   "source": [
    "# Load in Data with PySpark and Sample"
   ]
  },
  {
   "cell_type": "code",
   "execution_count": 2,
   "metadata": {},
   "outputs": [],
   "source": [
    "spark = SparkSession.builder.getOrCreate()\n",
    "spark_fp = os.path.join(\"/\", \"Volumes\", \"Marceline Jr.\", \"Spotify Dataset\", \"training_set\")\n",
    "#replace with your filepath"
   ]
  },
  {
   "cell_type": "code",
   "execution_count": 3,
   "metadata": {},
   "outputs": [
    {
     "name": "stdout",
     "output_type": "stream",
     "text": [
      "+--------------------+\n",
      "|          session_id|\n",
      "+--------------------+\n",
      "|0_00006f66-33e5-4...|\n",
      "|0_00006f66-33e5-4...|\n",
      "|0_00006f66-33e5-4...|\n",
      "|0_00006f66-33e5-4...|\n",
      "|0_00006f66-33e5-4...|\n",
      "|0_00006f66-33e5-4...|\n",
      "|0_00006f66-33e5-4...|\n",
      "|0_00006f66-33e5-4...|\n",
      "|0_00006f66-33e5-4...|\n",
      "|0_00006f66-33e5-4...|\n",
      "+--------------------+\n",
      "only showing top 10 rows\n",
      "\n"
     ]
    }
   ],
   "source": [
    "df = spark.read.option(\"header\", \"true\").csv(spark_fp)\n",
    "df.createOrReplaceTempView(\"table\")\n",
    "df.select(\"session_id\").show(10)"
   ]
  },
  {
   "cell_type": "code",
   "execution_count": 4,
   "metadata": {},
   "outputs": [],
   "source": [
    "ids = df.select('session_id').distinct()"
   ]
  },
  {
   "cell_type": "code",
   "execution_count": 7,
   "metadata": {},
   "outputs": [],
   "source": [
    "sampled_users = ids.orderBy(f.rand()).limit(50000) #sample the N users"
   ]
  },
  {
   "cell_type": "code",
   "execution_count": 8,
   "metadata": {},
   "outputs": [],
   "source": [
    "sampled_users_list = list(sampled_users.toPandas()['session_id'])\n",
    "samp_fracs = {key:1 for key in sampled_users_list}\n",
    "#generate the fractions we need to sample from pyspark"
   ]
  },
  {
   "cell_type": "code",
   "execution_count": 9,
   "metadata": {},
   "outputs": [],
   "source": [
    "samp_df = df.sampleBy(\"session_id\", fractions = samp_fracs)"
   ]
  },
  {
   "cell_type": "code",
   "execution_count": 10,
   "metadata": {},
   "outputs": [],
   "source": [
    "samp_df.write.csv(\"./sampled_users_100000.csv\", header = True)\n",
    "#write the file out"
   ]
  },
  {
   "cell_type": "code",
   "execution_count": null,
   "metadata": {},
   "outputs": [],
   "source": [
    "users = spark.read.option(\"header\", \"true\").csv(\"sampled_users.csv\") #load in the csv"
   ]
  }
 ],
 "metadata": {
  "kernelspec": {
   "display_name": "Python 3",
   "language": "python",
   "name": "python3"
  },
  "language_info": {
   "codemirror_mode": {
    "name": "ipython",
    "version": 3
   },
   "file_extension": ".py",
   "mimetype": "text/x-python",
   "name": "python",
   "nbconvert_exporter": "python",
   "pygments_lexer": "ipython3",
   "version": "3.8.5"
  }
 },
 "nbformat": 4,
 "nbformat_minor": 4
}
