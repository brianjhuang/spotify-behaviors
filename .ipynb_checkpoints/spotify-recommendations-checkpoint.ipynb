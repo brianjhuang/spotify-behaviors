{
 "cells": [
  {
   "cell_type": "code",
   "execution_count": 1,
   "metadata": {},
   "outputs": [],
   "source": [
    "from pyspark.sql import functions as f\n",
    "from pyspark.sql import SparkSession\n",
    "import os\n",
    "import pandas as pd\n",
    "import random"
   ]
  },
  {
   "cell_type": "code",
   "execution_count": 2,
   "metadata": {},
   "outputs": [],
   "source": [
    "spark = SparkSession.builder.getOrCreate()"
   ]
  },
  {
   "cell_type": "code",
   "execution_count": 3,
   "metadata": {},
   "outputs": [
    {
     "data": {
      "text/plain": [
       "'/Volumes/Marceline Jr./Spotify Dataset/sampled_users.csv'"
      ]
     },
     "execution_count": 3,
     "metadata": {},
     "output_type": "execute_result"
    }
   ],
   "source": [
    "spark_fp = os.path.join(\"/\", \"Volumes\", \"Marceline Jr.\", \"Spotify Dataset\", \"sampled_users.csv\")\n",
    "spark_fp"
   ]
  },
  {
   "cell_type": "code",
   "execution_count": 4,
   "metadata": {},
   "outputs": [],
   "source": [
    "df = spark.read.option(\"header\", \"true\").csv(spark_fp)"
   ]
  },
  {
   "cell_type": "code",
   "execution_count": 5,
   "metadata": {},
   "outputs": [],
   "source": [
    "users = df.toPandas()"
   ]
  },
  {
   "cell_type": "code",
   "execution_count": 6,
   "metadata": {},
   "outputs": [],
   "source": [
    "tf_path_one = os.path.join(\"/\", \"Volumes\", \"Marceline Jr.\", \"Spotify Dataset\", \"track_features\", \"tf_000000000000.csv\")\n",
    "tf_path_two = os.path.join(\"/\", \"Volumes\", \"Marceline Jr.\", \"Spotify Dataset\", \"track_features\", \"tf_000000000001.csv\")"
   ]
  },
  {
   "cell_type": "code",
   "execution_count": 7,
   "metadata": {},
   "outputs": [],
   "source": [
    "track_features_one = pd.read_csv(tf_path_one)\n",
    "track_features_two = pd.read_csv(tf_path_two)"
   ]
  },
  {
   "cell_type": "code",
   "execution_count": 8,
   "metadata": {},
   "outputs": [],
   "source": [
    "track_features = pd.concat([track_features_one, track_features_two])"
   ]
  },
  {
   "cell_type": "code",
   "execution_count": 9,
   "metadata": {},
   "outputs": [],
   "source": [
    "userFeatures = pd.merge(users, track_features, left_on = 'track_id_clean', right_on = 'track_id')\n",
    "nonModifiedFeatures = pd.merge(users, track_features, left_on = 'track_id_clean', right_on = 'track_id')"
   ]
  },
  {
   "cell_type": "code",
   "execution_count": 10,
   "metadata": {
    "scrolled": false
   },
   "outputs": [
    {
     "data": {
      "text/html": [
       "<div>\n",
       "<style scoped>\n",
       "    .dataframe tbody tr th:only-of-type {\n",
       "        vertical-align: middle;\n",
       "    }\n",
       "\n",
       "    .dataframe tbody tr th {\n",
       "        vertical-align: top;\n",
       "    }\n",
       "\n",
       "    .dataframe thead th {\n",
       "        text-align: right;\n",
       "    }\n",
       "</style>\n",
       "<table border=\"1\" class=\"dataframe\">\n",
       "  <thead>\n",
       "    <tr style=\"text-align: right;\">\n",
       "      <th></th>\n",
       "      <th>session_id</th>\n",
       "      <th>session_position</th>\n",
       "      <th>session_length</th>\n",
       "      <th>track_id_clean</th>\n",
       "      <th>skip_1</th>\n",
       "      <th>skip_2</th>\n",
       "      <th>skip_3</th>\n",
       "      <th>not_skipped</th>\n",
       "      <th>context_switch</th>\n",
       "      <th>no_pause_before_play</th>\n",
       "      <th>...</th>\n",
       "      <th>time_signature</th>\n",
       "      <th>valence</th>\n",
       "      <th>acoustic_vector_0</th>\n",
       "      <th>acoustic_vector_1</th>\n",
       "      <th>acoustic_vector_2</th>\n",
       "      <th>acoustic_vector_3</th>\n",
       "      <th>acoustic_vector_4</th>\n",
       "      <th>acoustic_vector_5</th>\n",
       "      <th>acoustic_vector_6</th>\n",
       "      <th>acoustic_vector_7</th>\n",
       "    </tr>\n",
       "  </thead>\n",
       "  <tbody>\n",
       "    <tr>\n",
       "      <th>0</th>\n",
       "      <td>42_50cb77d0-9f69-4948-98a6-445f4f1d98da</td>\n",
       "      <td>1</td>\n",
       "      <td>18</td>\n",
       "      <td>t_3bc02be3-ab02-4c9f-94af-04910b00a14c</td>\n",
       "      <td>true</td>\n",
       "      <td>true</td>\n",
       "      <td>true</td>\n",
       "      <td>false</td>\n",
       "      <td>0</td>\n",
       "      <td>0</td>\n",
       "      <td>...</td>\n",
       "      <td>4</td>\n",
       "      <td>0.332708</td>\n",
       "      <td>-0.747017</td>\n",
       "      <td>0.236945</td>\n",
       "      <td>0.157640</td>\n",
       "      <td>0.053084</td>\n",
       "      <td>-0.247379</td>\n",
       "      <td>-0.015617</td>\n",
       "      <td>-0.557144</td>\n",
       "      <td>0.094659</td>\n",
       "    </tr>\n",
       "    <tr>\n",
       "      <th>1</th>\n",
       "      <td>42_50cb77d0-9f69-4948-98a6-445f4f1d98da</td>\n",
       "      <td>2</td>\n",
       "      <td>18</td>\n",
       "      <td>t_529537c9-bfb0-4058-bb9a-1d93ef071263</td>\n",
       "      <td>true</td>\n",
       "      <td>true</td>\n",
       "      <td>true</td>\n",
       "      <td>false</td>\n",
       "      <td>0</td>\n",
       "      <td>1</td>\n",
       "      <td>...</td>\n",
       "      <td>4</td>\n",
       "      <td>0.081849</td>\n",
       "      <td>-0.859858</td>\n",
       "      <td>0.301731</td>\n",
       "      <td>0.208637</td>\n",
       "      <td>0.108421</td>\n",
       "      <td>-0.310408</td>\n",
       "      <td>-0.036791</td>\n",
       "      <td>-0.545892</td>\n",
       "      <td>0.162957</td>\n",
       "    </tr>\n",
       "    <tr>\n",
       "      <th>2</th>\n",
       "      <td>42_50cb77d0-9f69-4948-98a6-445f4f1d98da</td>\n",
       "      <td>3</td>\n",
       "      <td>18</td>\n",
       "      <td>t_c29129f2-7b64-4c1e-9587-676632b7800d</td>\n",
       "      <td>true</td>\n",
       "      <td>true</td>\n",
       "      <td>true</td>\n",
       "      <td>false</td>\n",
       "      <td>0</td>\n",
       "      <td>0</td>\n",
       "      <td>...</td>\n",
       "      <td>4</td>\n",
       "      <td>0.325166</td>\n",
       "      <td>-0.517902</td>\n",
       "      <td>0.006190</td>\n",
       "      <td>0.087467</td>\n",
       "      <td>0.191870</td>\n",
       "      <td>-0.131095</td>\n",
       "      <td>-0.131147</td>\n",
       "      <td>-0.435564</td>\n",
       "      <td>-0.100854</td>\n",
       "    </tr>\n",
       "    <tr>\n",
       "      <th>3</th>\n",
       "      <td>42_50cb77d0-9f69-4948-98a6-445f4f1d98da</td>\n",
       "      <td>4</td>\n",
       "      <td>18</td>\n",
       "      <td>t_6c1ce50d-d33a-4502-8c58-335f23b03145</td>\n",
       "      <td>true</td>\n",
       "      <td>true</td>\n",
       "      <td>true</td>\n",
       "      <td>false</td>\n",
       "      <td>0</td>\n",
       "      <td>1</td>\n",
       "      <td>...</td>\n",
       "      <td>4</td>\n",
       "      <td>0.290325</td>\n",
       "      <td>-0.854975</td>\n",
       "      <td>0.354534</td>\n",
       "      <td>0.233016</td>\n",
       "      <td>0.039705</td>\n",
       "      <td>-0.422565</td>\n",
       "      <td>0.041233</td>\n",
       "      <td>-0.445123</td>\n",
       "      <td>0.352062</td>\n",
       "    </tr>\n",
       "    <tr>\n",
       "      <th>4</th>\n",
       "      <td>42_50cb77d0-9f69-4948-98a6-445f4f1d98da</td>\n",
       "      <td>5</td>\n",
       "      <td>18</td>\n",
       "      <td>t_85418d4c-2b2d-4270-836e-ef789bb28555</td>\n",
       "      <td>true</td>\n",
       "      <td>true</td>\n",
       "      <td>true</td>\n",
       "      <td>false</td>\n",
       "      <td>0</td>\n",
       "      <td>1</td>\n",
       "      <td>...</td>\n",
       "      <td>4</td>\n",
       "      <td>0.425356</td>\n",
       "      <td>-0.891446</td>\n",
       "      <td>0.229755</td>\n",
       "      <td>0.256360</td>\n",
       "      <td>0.193858</td>\n",
       "      <td>-0.322325</td>\n",
       "      <td>-0.040302</td>\n",
       "      <td>-0.553673</td>\n",
       "      <td>0.162334</td>\n",
       "    </tr>\n",
       "  </tbody>\n",
       "</table>\n",
       "<p>5 rows × 51 columns</p>\n",
       "</div>"
      ],
      "text/plain": [
       "                                session_id session_position session_length  \\\n",
       "0  42_50cb77d0-9f69-4948-98a6-445f4f1d98da                1             18   \n",
       "1  42_50cb77d0-9f69-4948-98a6-445f4f1d98da                2             18   \n",
       "2  42_50cb77d0-9f69-4948-98a6-445f4f1d98da                3             18   \n",
       "3  42_50cb77d0-9f69-4948-98a6-445f4f1d98da                4             18   \n",
       "4  42_50cb77d0-9f69-4948-98a6-445f4f1d98da                5             18   \n",
       "\n",
       "                           track_id_clean skip_1 skip_2 skip_3 not_skipped  \\\n",
       "0  t_3bc02be3-ab02-4c9f-94af-04910b00a14c   true   true   true       false   \n",
       "1  t_529537c9-bfb0-4058-bb9a-1d93ef071263   true   true   true       false   \n",
       "2  t_c29129f2-7b64-4c1e-9587-676632b7800d   true   true   true       false   \n",
       "3  t_6c1ce50d-d33a-4502-8c58-335f23b03145   true   true   true       false   \n",
       "4  t_85418d4c-2b2d-4270-836e-ef789bb28555   true   true   true       false   \n",
       "\n",
       "  context_switch no_pause_before_play  ... time_signature   valence  \\\n",
       "0              0                    0  ...              4  0.332708   \n",
       "1              0                    1  ...              4  0.081849   \n",
       "2              0                    0  ...              4  0.325166   \n",
       "3              0                    1  ...              4  0.290325   \n",
       "4              0                    1  ...              4  0.425356   \n",
       "\n",
       "  acoustic_vector_0 acoustic_vector_1 acoustic_vector_2 acoustic_vector_3  \\\n",
       "0         -0.747017          0.236945          0.157640          0.053084   \n",
       "1         -0.859858          0.301731          0.208637          0.108421   \n",
       "2         -0.517902          0.006190          0.087467          0.191870   \n",
       "3         -0.854975          0.354534          0.233016          0.039705   \n",
       "4         -0.891446          0.229755          0.256360          0.193858   \n",
       "\n",
       "  acoustic_vector_4 acoustic_vector_5 acoustic_vector_6 acoustic_vector_7  \n",
       "0         -0.247379         -0.015617         -0.557144          0.094659  \n",
       "1         -0.310408         -0.036791         -0.545892          0.162957  \n",
       "2         -0.131095         -0.131147         -0.435564         -0.100854  \n",
       "3         -0.422565          0.041233         -0.445123          0.352062  \n",
       "4         -0.322325         -0.040302         -0.553673          0.162334  \n",
       "\n",
       "[5 rows x 51 columns]"
      ]
     },
     "execution_count": 10,
     "metadata": {},
     "output_type": "execute_result"
    }
   ],
   "source": [
    "userFeatures.head()"
   ]
  },
  {
   "cell_type": "code",
   "execution_count": 11,
   "metadata": {},
   "outputs": [],
   "source": [
    "cols = list(userFeatures.columns)"
   ]
  },
  {
   "cell_type": "code",
   "execution_count": 12,
   "metadata": {},
   "outputs": [],
   "source": [
    "drop = cols[1:25]"
   ]
  },
  {
   "cell_type": "code",
   "execution_count": 13,
   "metadata": {},
   "outputs": [],
   "source": [
    "userFeatures.drop(columns = drop, inplace = True)"
   ]
  },
  {
   "cell_type": "code",
   "execution_count": 14,
   "metadata": {
    "scrolled": false
   },
   "outputs": [],
   "source": [
    "userFeatures['mode'] = userFeatures['mode'].apply(lambda x: 1 if x == 'major' else 0)"
   ]
  },
  {
   "cell_type": "code",
   "execution_count": 15,
   "metadata": {},
   "outputs": [],
   "source": [
    "features = userFeatures.groupby('session_id').mean()"
   ]
  },
  {
   "cell_type": "code",
   "execution_count": 16,
   "metadata": {},
   "outputs": [],
   "source": [
    "X = features.reset_index().drop('session_id', axis = 1)\n",
    "#we wanted to groupby so we would cluster by user avg song features"
   ]
  },
  {
   "cell_type": "markdown",
   "metadata": {},
   "source": [
    "Drop our code so we only have the track features for clustering"
   ]
  },
  {
   "cell_type": "code",
   "execution_count": 17,
   "metadata": {},
   "outputs": [
    {
     "data": {
      "text/plain": [
       "KMeans(n_clusters=3)"
      ]
     },
     "execution_count": 17,
     "metadata": {},
     "output_type": "execute_result"
    }
   ],
   "source": [
    "from sklearn.cluster import KMeans\n",
    "cluster = KMeans(n_clusters = 3)\n",
    "cluster.fit(X)"
   ]
  },
  {
   "cell_type": "code",
   "execution_count": 18,
   "metadata": {
    "scrolled": false
   },
   "outputs": [
    {
     "data": {
      "text/plain": [
       "array([1, 2, 0, 1, 0, 0, 2, 0, 0, 0, 0, 2, 0, 2, 0, 1, 0, 1, 2, 2, 2, 0,\n",
       "       2, 0, 2, 2, 1, 0, 2, 2, 1, 2, 2, 2, 2, 2, 2, 1, 2, 2, 0, 0, 1, 1,\n",
       "       2, 2, 0, 2, 1, 2, 0, 0, 1, 2, 2, 2, 2, 2, 2, 0, 0, 1, 2, 0, 2, 0,\n",
       "       2, 0, 2, 0, 0, 0, 0, 1, 2, 1, 0, 2, 0, 1, 2, 2, 2, 1, 0, 0, 2, 2,\n",
       "       2, 1, 1, 2, 1, 2, 2, 0, 0, 1, 2, 1], dtype=int32)"
      ]
     },
     "execution_count": 18,
     "metadata": {},
     "output_type": "execute_result"
    }
   ],
   "source": [
    "cluster.labels_"
   ]
  },
  {
   "cell_type": "markdown",
   "metadata": {},
   "source": [
    "grab our cluster labels and re-add them to our features so we have session_id and corresponding cluster"
   ]
  },
  {
   "cell_type": "code",
   "execution_count": 19,
   "metadata": {},
   "outputs": [],
   "source": [
    "y = userFeatures.groupby('session_id').mean()"
   ]
  },
  {
   "cell_type": "code",
   "execution_count": 20,
   "metadata": {},
   "outputs": [],
   "source": [
    "y['Cluster'] = cluster.labels_"
   ]
  },
  {
   "cell_type": "code",
   "execution_count": 21,
   "metadata": {},
   "outputs": [],
   "source": [
    "userOne = y[y['Cluster'] == 0]\n",
    "userTwo = y[y['Cluster'] == 1]\n",
    "userThree = y[y['Cluster'] == 2]"
   ]
  },
  {
   "cell_type": "code",
   "execution_count": 22,
   "metadata": {},
   "outputs": [],
   "source": [
    "userOneFeatures = userOne.merge(nonModifiedFeatures, on = 'session_id', how = 'inner')\n",
    "userTwoFeatures = userTwo.merge(nonModifiedFeatures, on = 'session_id', how = 'inner')\n",
    "userThreeFeatures = userThree.merge(nonModifiedFeatures, on = 'session_id', how = 'inner')"
   ]
  },
  {
   "cell_type": "code",
   "execution_count": 23,
   "metadata": {
    "scrolled": true
   },
   "outputs": [],
   "source": [
    "userOneFeatures['not_skipped'] = userOneFeatures['not_skipped'].apply(lambda x: 1 if x == True else 0)\n",
    "userTwoFeatures['not_skipped'] = userTwoFeatures['not_skipped'].apply(lambda x: 1 if x == True else 0)\n",
    "userThreeFeatures['not_skipped'] = userThreeFeatures['not_skipped'].apply(lambda x: 1 if x == True else 0)"
   ]
  },
  {
   "cell_type": "code",
   "execution_count": 24,
   "metadata": {},
   "outputs": [],
   "source": [
    "userOneFeatures['premium']= userOneFeatures['premium'].apply(lambda x: 1 if x is True else 0)\n",
    "userOneFeatures['hist_user_behavior_is_shuffle'] = userOneFeatures['hist_user_behavior_is_shuffle'].apply(lambda x: 1 if x is True else 0)\n",
    "\n",
    "userTwoFeatures['premium']= userTwoFeatures['premium'].apply(lambda x: 1 if x is True else 0)\n",
    "userTwoFeatures['hist_user_behavior_is_shuffle'] = userTwoFeatures['hist_user_behavior_is_shuffle'].apply(lambda x: 1 if x is True else 0)\n",
    "\n",
    "userThreeFeatures['premium']= userThreeFeatures['premium'].apply(lambda x: 1 if x is True else 0)\n",
    "userThreeFeatures['hist_user_behavior_is_shuffle'] = userThreeFeatures['hist_user_behavior_is_shuffle'].apply(lambda x: 1 if x is True else 0)"
   ]
  },
  {
   "cell_type": "code",
   "execution_count": 25,
   "metadata": {},
   "outputs": [],
   "source": [
    "userOneFeatures.drop(['acousticness_x', 'beat_strength_x', 'bounciness_x',\n",
    "       'danceability_x', 'dyn_range_mean_x', 'energy_x', 'flatness_x',\n",
    "       'instrumentalness_x', 'key_x', 'liveness_x', 'loudness_x',\n",
    "       'mechanism_x', 'mode_x', 'organism_x', 'speechiness_x', 'tempo_x',\n",
    "       'time_signature_x', 'valence_x', 'acoustic_vector_0_x',\n",
    "       'acoustic_vector_1_x', 'acoustic_vector_2_x', 'acoustic_vector_3_x',\n",
    "       'acoustic_vector_4_x', 'acoustic_vector_5_x', 'acoustic_vector_6_x',\n",
    "       'acoustic_vector_7_x', 'Cluster', 'session_position', 'session_length', 'not_skipped', 'context_switch',\n",
    "       'no_pause_before_play', 'short_pause_before_play',\n",
    "       'long_pause_before_play', 'hist_user_behavior_n_seekfwd',\n",
    "       'hist_user_behavior_n_seekback', 'hist_user_behavior_is_shuffle',\n",
    "       'hour_of_day', 'premium', 'context_type',\n",
    "       'hist_user_behavior_reason_start', 'duration', 'release_year',\n",
    "       'us_popularity_estimate'], axis = 1, inplace = True)\n",
    "userTwoFeatures.drop(['acousticness_x', 'beat_strength_x', 'bounciness_x',\n",
    "       'danceability_x', 'dyn_range_mean_x', 'energy_x', 'flatness_x',\n",
    "       'instrumentalness_x', 'key_x', 'liveness_x', 'loudness_x',\n",
    "       'mechanism_x', 'mode_x', 'organism_x', 'speechiness_x', 'tempo_x',\n",
    "       'time_signature_x', 'valence_x', 'acoustic_vector_0_x',\n",
    "       'acoustic_vector_1_x', 'acoustic_vector_2_x', 'acoustic_vector_3_x',\n",
    "       'acoustic_vector_4_x', 'acoustic_vector_5_x', 'acoustic_vector_6_x',\n",
    "       'acoustic_vector_7_x', 'Cluster', 'session_position', 'session_length', 'not_skipped', 'context_switch',\n",
    "       'no_pause_before_play', 'short_pause_before_play',\n",
    "       'long_pause_before_play', 'hist_user_behavior_n_seekfwd',\n",
    "       'hist_user_behavior_n_seekback', 'hist_user_behavior_is_shuffle',\n",
    "       'hour_of_day', 'premium', 'context_type',\n",
    "       'hist_user_behavior_reason_start', 'duration', 'release_year',\n",
    "       'us_popularity_estimate'], axis = 1, inplace = True)\n",
    "userThreeFeatures.drop(['acousticness_x', 'beat_strength_x', 'bounciness_x',\n",
    "       'danceability_x', 'dyn_range_mean_x', 'energy_x', 'flatness_x',\n",
    "       'instrumentalness_x', 'key_x', 'liveness_x', 'loudness_x',\n",
    "       'mechanism_x', 'mode_x', 'organism_x', 'speechiness_x', 'tempo_x',\n",
    "       'time_signature_x', 'valence_x', 'acoustic_vector_0_x',\n",
    "       'acoustic_vector_1_x', 'acoustic_vector_2_x', 'acoustic_vector_3_x',\n",
    "       'acoustic_vector_4_x', 'acoustic_vector_5_x', 'acoustic_vector_6_x',\n",
    "       'acoustic_vector_7_x', 'Cluster', 'session_position', 'session_length', 'not_skipped', 'context_switch',\n",
    "       'no_pause_before_play', 'short_pause_before_play',\n",
    "       'long_pause_before_play', 'hist_user_behavior_n_seekfwd',\n",
    "       'hist_user_behavior_n_seekback', 'hist_user_behavior_is_shuffle',\n",
    "       'hour_of_day', 'premium', 'context_type',\n",
    "       'hist_user_behavior_reason_start', 'duration', 'release_year',\n",
    "       'us_popularity_estimate'], axis = 1, inplace = True)"
   ]
  },
  {
   "cell_type": "code",
   "execution_count": 26,
   "metadata": {},
   "outputs": [],
   "source": [
    "userOneFeatures.rename(columns = lambda x: x[:-2] if x[-2:] == '_y' else x, inplace = True)\n",
    "userTwoFeatures.rename(columns = lambda x: x[:-2] if x[-2:] == '_y' else x, inplace = True)\n",
    "userThreeFeatures.rename(columns = lambda x: x[:-2] if x[-2:] == '_y' else x, inplace = True)"
   ]
  },
  {
   "cell_type": "code",
   "execution_count": 27,
   "metadata": {},
   "outputs": [],
   "source": [
    "userOneFeatures.drop(['track_id_clean', \n",
    "         'skip_1', \n",
    "         'skip_2', \n",
    "         'skip_3',\n",
    "         'hist_user_behavior_reason_end',\n",
    "         'track_id',\n",
    "         'date'], \n",
    "        axis = 1, inplace = True)"
   ]
  },
  {
   "cell_type": "code",
   "execution_count": 28,
   "metadata": {},
   "outputs": [],
   "source": [
    "userTwoFeatures.drop(['track_id_clean', \n",
    "         'skip_1', \n",
    "         'skip_2', \n",
    "         'skip_3',\n",
    "         'hist_user_behavior_reason_end',\n",
    "         'track_id',\n",
    "         'date'], \n",
    "        axis = 1, inplace = True)"
   ]
  },
  {
   "cell_type": "code",
   "execution_count": 29,
   "metadata": {},
   "outputs": [],
   "source": [
    "userThreeFeatures.drop(['track_id_clean', \n",
    "         'skip_1', \n",
    "         'skip_2', \n",
    "         'skip_3',\n",
    "         'hist_user_behavior_reason_end',\n",
    "         'track_id',\n",
    "         'date'], \n",
    "        axis = 1, inplace = True)"
   ]
  },
  {
   "cell_type": "code",
   "execution_count": 88,
   "metadata": {},
   "outputs": [],
   "source": [
    "userOneFeatures.drop(['acoustic_vector_0',\n",
    " 'acoustic_vector_1',\n",
    " 'acoustic_vector_2',\n",
    " 'acoustic_vector_3',\n",
    " 'acoustic_vector_4',\n",
    " 'acoustic_vector_5',\n",
    " 'acoustic_vector_6',\n",
    " 'acoustic_vector_7',\n",
    " 'beat_strength',\n",
    " 'bounciness',\n",
    " 'dyn_range_mean',\n",
    " 'flatness',\n",
    " 'mechanism',\n",
    " 'organism'], axis = 1, inplace = True)"
   ]
  },
  {
   "cell_type": "code",
   "execution_count": 89,
   "metadata": {},
   "outputs": [],
   "source": [
    "userTwoFeatures.drop(['acoustic_vector_0',\n",
    " 'acoustic_vector_1',\n",
    " 'acoustic_vector_2',\n",
    " 'acoustic_vector_3',\n",
    " 'acoustic_vector_4',\n",
    " 'acoustic_vector_5',\n",
    " 'acoustic_vector_6',\n",
    " 'acoustic_vector_7',\n",
    " 'beat_strength',\n",
    " 'bounciness',\n",
    " 'dyn_range_mean',\n",
    " 'flatness',\n",
    " 'mechanism',\n",
    " 'organism'], axis = 1, inplace = True)"
   ]
  },
  {
   "cell_type": "code",
   "execution_count": 90,
   "metadata": {},
   "outputs": [],
   "source": [
    "userThreeFeatures.drop(['acoustic_vector_0',\n",
    " 'acoustic_vector_1',\n",
    " 'acoustic_vector_2',\n",
    " 'acoustic_vector_3',\n",
    " 'acoustic_vector_4',\n",
    " 'acoustic_vector_5',\n",
    " 'acoustic_vector_6',\n",
    " 'acoustic_vector_7',\n",
    " 'beat_strength',\n",
    " 'bounciness',\n",
    " 'dyn_range_mean',\n",
    " 'flatness',\n",
    " 'mechanism',\n",
    " 'organism'], axis = 1, inplace = True)"
   ]
  },
  {
   "cell_type": "code",
   "execution_count": 192,
   "metadata": {},
   "outputs": [],
   "source": [
    "userOneFeatures['mode'] = userOneFeatures['mode'].apply(lambda x: 1 if x == 'major' else 0)\n",
    "userTwoFeatures['mode'] = userTwoFeatures['mode'].apply(lambda x: 1 if x == 'major' else 0)\n",
    "userThreeFeatures['mode'] = userThreeFeatures['mode'].apply(lambda x: 1 if x == 'major' else 0)"
   ]
  },
  {
   "cell_type": "code",
   "execution_count": 194,
   "metadata": {},
   "outputs": [],
   "source": [
    "from spotifyAPI import Spotify"
   ]
  },
  {
   "cell_type": "code",
   "execution_count": 195,
   "metadata": {
    "scrolled": true
   },
   "outputs": [
    {
     "name": "stdout",
     "output_type": "stream",
     "text": [
      "Client ID:\n",
      "········\n",
      "Client Secret:\n",
      "········\n"
     ]
    }
   ],
   "source": [
    "s = Spotify()"
   ]
  },
  {
   "cell_type": "code",
   "execution_count": 197,
   "metadata": {},
   "outputs": [],
   "source": [
    "features = s.get_playlist_features('Top 50 - USA')"
   ]
  },
  {
   "cell_type": "code",
   "execution_count": 306,
   "metadata": {},
   "outputs": [],
   "source": [
    "from sklearn.decomposition import PCA"
   ]
  },
  {
   "cell_type": "code",
   "execution_count": 292,
   "metadata": {},
   "outputs": [],
   "source": [
    "import math\n",
    "from spotifyAPI import Spotify\n",
    "\n",
    "class songRecommender():\n",
    "\n",
    "    data = {}\n",
    "    features = []\n",
    "    predictFeatures = []\n",
    "\n",
    "    def __init__(self, data, predict):\n",
    "        '''\n",
    "        data - our persona user's information\n",
    "        predict - the new songs from the API\n",
    "        '''\n",
    "        \n",
    "        \n",
    "        self.data = self.parseData(data)\n",
    "        #parse the new data\n",
    "        self.features = self.featureVector(self.data) #apply PCA\n",
    "        #generate features for the new data\n",
    "        self.predictFeatures = self.featureAPIVector(predict) #apply PCA\n",
    "        #clean the api data\n",
    "\n",
    "    def parseData(self, data):\n",
    "\n",
    "        import json\n",
    "\n",
    "        parsed = json.loads(data.to_json(orient = 'records'))\n",
    "        cleaned = {}\n",
    "\n",
    "        for line in parsed:\n",
    "\n",
    "\n",
    "            featuresSet = ['acousticness', 'beat_strength', 'bounciness', 'danceability',\n",
    "               'dyn_range_mean', 'energy', 'flatness', 'instrumentalness', 'key',\n",
    "               'liveness', 'loudness', 'mechanism', 'mode', 'organism', 'speechiness',\n",
    "               'tempo', 'time_signature', 'valence', 'acoustic_vector_0',\n",
    "               'acoustic_vector_1', 'acoustic_vector_2', 'acoustic_vector_3',\n",
    "               'acoustic_vector_4', 'acoustic_vector_5', 'acoustic_vector_6',\n",
    "               'acoustic_vector_7']\n",
    "            #get only user behaviors\n",
    "\n",
    "            featuresDict = {k:v for k,v in line.items() if k in featuresSet}\n",
    "            cleaned[line['session_id']] = featuresDict\n",
    "\n",
    "        return cleaned\n",
    "\n",
    "    def featureVector(self, data):\n",
    "        #transform our dictionary of song features into a matrix of feature vectors\n",
    "        vector = []\n",
    "\n",
    "        for k in data:\n",
    "            d = dict(sorted(data[k].items()))\n",
    "            vector.append((k, d))\n",
    "\n",
    "        return vector\n",
    "\n",
    "    def featureAPIVector(self, data):\n",
    "        #transform our API features into usable data\n",
    "        vector = []\n",
    "        keep = ['danceability', 'energy', 'key', 'loudness', 'mode', 'speechiness', 'acousticness', 'instrumentalness', 'liveness', 'valence', 'tempo', 'time_signature']\n",
    "        for d in data:\n",
    "            temp = {k:v for k, v in d.items() if k in keep}\n",
    "            temp = dict(sorted(temp.items()))\n",
    "            vector.append((d['uri'],temp))\n",
    "\n",
    "        return vector\n",
    "\n",
    "    def getData(self):\n",
    "        return self.data\n",
    "    \n",
    "    def getFeatures(self):\n",
    "        return self.features\n",
    "    \n",
    "    def getPredict(self):\n",
    "        return self.predictFeatures\n",
    "\n",
    "    def cosine(self, feature, features, N):\n",
    "        '''\n",
    "        feature - a feature vector of tuples, with index 0 being link and 1 being the vector\n",
    "        feature is the song from the API\n",
    "        features - all feature vectors belonging to current persona user\n",
    "        all the songs in our generated user (data)\n",
    "        N - number of similiar songs we want to return\n",
    "        '''\n",
    "        similarities = []\n",
    "\n",
    "        numer = 0\n",
    "        denom1 = 0\n",
    "        denom2 = 0\n",
    "\n",
    "        for featureTwo in features:\n",
    "            sim = 0\n",
    "            numer = sum([a * b for a, b in zip(list(feature[1].values()), list(featureTwo[1].values()))])\n",
    "            denom1 = sum([l ** 2 for l in list(feature[1].values())])\n",
    "            denom2 = sum([l ** 2 for l in list(featureTwo[1].values())])\n",
    "            denom = math.sqrt(denom1) * math.sqrt(denom2)\n",
    "            if denom == 0:\n",
    "                sim = 0\n",
    "            sim = numer/denom\n",
    "\n",
    "            similarities.append((sim, featureTwo[0]))\n",
    "\n",
    "        similarities.sort(reverse = True)\n",
    "        return similarities[:N]\n",
    "    \n",
    "    def similar(self, X, y):\n",
    "        predictions = []\n",
    "        for feature in X:\n",
    "            entry = {feature[0]:cosine(feature, y, 1)[0]}\n",
    "            #figure out why it keeps returning 10 entries\n",
    "            predictions.append(entry)\n",
    "        return predictions\n"
   ]
  },
  {
   "cell_type": "code",
   "execution_count": 293,
   "metadata": {},
   "outputs": [],
   "source": [
    "model = songRecommender(data = userOneFeatures, predict = features)"
   ]
  },
  {
   "cell_type": "code",
   "execution_count": 304,
   "metadata": {
    "scrolled": true
   },
   "outputs": [
    {
     "data": {
      "text/plain": [
       "[{'spotify:track:27NovPIUIRrOZoCHxABJwK': (0.9998024729284718,\n",
       "   '16_7820f5ac-fe1a-4129-88e0-d934103cf8ed')},\n",
       " {'spotify:track:0gplL1WMoJ6iYaPgMCL0gX': (0.9999051694657801,\n",
       "   '23_ba2228a3-64c9-4df0-affc-0103afff056f')},\n",
       " {'spotify:track:00Blm7zeNqgYLPtW6zg8cj': (0.999894896931811,\n",
       "   '58_1a705cba-7d2d-418b-9e6c-365e4d578118')},\n",
       " {'spotify:track:5HCyWlXZPP0y6Gqq8TgA20': (0.9999660617206557,\n",
       "   '16_7820f5ac-fe1a-4129-88e0-d934103cf8ed')},\n",
       " {'spotify:track:4R67rQNSbbsR4TdUVOIdez': (0.9999225756270735,\n",
       "   '23_ba2228a3-64c9-4df0-affc-0103afff056f')}]"
      ]
     },
     "execution_count": 304,
     "metadata": {},
     "output_type": "execute_result"
    }
   ],
   "source": [
    "model.similar(model.getPredict(), model.getFeatures())[:5]"
   ]
  },
  {
   "cell_type": "code",
   "execution_count": 247,
   "metadata": {},
   "outputs": [],
   "source": [
    "# #if we wanted to get nearest centroid\n",
    "# from sklearn.neighbors.nearest_centroid import NearestCentroid\n",
    "# clf = NearestCentroid()\n",
    "# clf.fit(features, userFeatures['session_id'].unique())\n",
    "# clf.centroids_"
   ]
  }
 ],
 "metadata": {
  "kernelspec": {
   "display_name": "Python 3",
   "language": "python",
   "name": "python3"
  },
  "language_info": {
   "codemirror_mode": {
    "name": "ipython",
    "version": 3
   },
   "file_extension": ".py",
   "mimetype": "text/x-python",
   "name": "python",
   "nbconvert_exporter": "python",
   "pygments_lexer": "ipython3",
   "version": "3.8.5"
  }
 },
 "nbformat": 4,
 "nbformat_minor": 4
}
