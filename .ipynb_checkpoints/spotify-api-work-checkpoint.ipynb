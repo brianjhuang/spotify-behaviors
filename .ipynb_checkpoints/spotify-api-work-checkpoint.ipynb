{
 "cells": [
  {
   "cell_type": "markdown",
   "metadata": {},
   "source": [
    "# Getting Spotify API Token"
   ]
  },
  {
   "cell_type": "code",
   "execution_count": 47,
   "metadata": {},
   "outputs": [],
   "source": [
    "import requests\n",
    "import base64\n",
    "import datetime"
   ]
  },
  {
   "cell_type": "code",
   "execution_count": 48,
   "metadata": {},
   "outputs": [],
   "source": [
    "client_id = 'c034711d4add45bbb45b39ab2f8d0d7b'\n",
    "client_secret = '0581e69388974a3ebe0335c4d2ee4593'"
   ]
  },
  {
   "cell_type": "markdown",
   "metadata": {},
   "source": [
    "# Spotify API Class"
   ]
  },
  {
   "cell_type": "code",
   "execution_count": 72,
   "metadata": {},
   "outputs": [],
   "source": [
    "class SpotifyAPI(object):\n",
    "    access_token = None\n",
    "    access_token_expires = datetime.datetime.now()\n",
    "    expired = True\n",
    "    client_id = None\n",
    "    client_secret = None\n",
    "    token_url = 'https://accounts.spotify.com/api/token'\n",
    "    \n",
    "    def __init__(self, client_id, client_secret, *args, **kwargs):\n",
    "        super().__init__(*args, **kwargs)\n",
    "        self.client_id = client_id\n",
    "        self.client_secret = client_secret\n",
    "        \n",
    "        \n",
    "    def get_client_credentials(self):\n",
    "        '''\n",
    "        Return a base-64 encoded string\n",
    "        '''\n",
    "        \n",
    "        if client_secret == None or client_id == None:\n",
    "            raise Exception(\"You must set client_id and client_secret.\")\n",
    "        \n",
    "        \n",
    "        client_creds = f\"{self.client_id}:{self.client_secret}\"\n",
    "            \n",
    "        client_creds_base64 = base64.b64encode(client_creds.encode())\n",
    "        \n",
    "        return client_creds_base64.decode()\n",
    "        \n",
    "    def get_token_headers(self):\n",
    "        \n",
    "        client_creds_base64 = self.get_client_credentials()\n",
    "        \n",
    "        token_headers = {\n",
    "    \"Authorization\":f\"Basic {client_creds_base64}\", #base 64 encoded string\n",
    "}\n",
    "        \n",
    "        return token_headers\n",
    "    \n",
    "    def get_token_data(self):\n",
    "        \n",
    "        token_data = {\n",
    "    \"grant_type\":\"client_credentials\"\n",
    "}\n",
    "        \n",
    "        return token_data\n",
    "    \n",
    "    def perform_auth(self):\n",
    "        \n",
    "        r = requests.post(self.token_url, data = self.get_token_data(), headers = self.get_token_headers())\n",
    "        token_response_data = r.json()\n",
    "        \n",
    "        if r.status_code not in range(200, 299):\n",
    "            return False\n",
    "        \n",
    "        now = datetime.datetime.now()\n",
    "        self.access_token = token_response_data['access_token']\n",
    "        expires_in = token_response_data['expires_in']\n",
    "        expires = now + datetime.timedelta(seconds = expires_in)\n",
    "        self.access_token_expires = expires\n",
    "        self.expired = expires < now\n",
    "        return True\n",
    "    \n",
    "    def get_token(self):\n",
    "        return self.access_token"
   ]
  },
  {
   "cell_type": "code",
   "execution_count": 73,
   "metadata": {},
   "outputs": [],
   "source": [
    "spotify = SpotifyAPI(client_id, client_secret)"
   ]
  },
  {
   "cell_type": "code",
   "execution_count": 76,
   "metadata": {},
   "outputs": [
    {
     "data": {
      "text/plain": [
       "True"
      ]
     },
     "execution_count": 76,
     "metadata": {},
     "output_type": "execute_result"
    }
   ],
   "source": [
    "spotify.perform_auth()"
   ]
  },
  {
   "cell_type": "code",
   "execution_count": 78,
   "metadata": {},
   "outputs": [],
   "source": [
    "access_token = spotify.get_token()"
   ]
  },
  {
   "cell_type": "code",
   "execution_count": 80,
   "metadata": {},
   "outputs": [
    {
     "data": {
      "text/plain": [
       "'BQDsBZHmtuJbvnjY-EkLj6ib94I6yn9aMebHOYkR0IlJq-rVif8rdGsKqZB_VbWrYYRi9BJb6Zgx3gkIrVg'"
      ]
     },
     "execution_count": 80,
     "metadata": {},
     "output_type": "execute_result"
    }
   ],
   "source": [
    "access_token"
   ]
  },
  {
   "cell_type": "code",
   "execution_count": 83,
   "metadata": {},
   "outputs": [],
   "source": [
    "headers = {\n",
    "    \"Authorization\": f\"Bearer{access_token}\"\n",
    "}\n",
    "endpoint = \"https://api.spotify.com/v1/search\"\n",
    "data = {\"q\": \"Time\", \"type\": \"track\"}\n",
    "r = requests.get(endpoint, data = data, headers = headers)"
   ]
  },
  {
   "cell_type": "code",
   "execution_count": 84,
   "metadata": {},
   "outputs": [
    {
     "data": {
      "text/plain": [
       "'<!DOCTYPE html>\\n<html lang=en>\\n  <meta charset=utf-8>\\n  <meta name=viewport content=\"initial-scale=1, minimum-scale=1, width=device-width\">\\n  <title>Error 400 (Bad Request)!!1</title>\\n  <style>\\n    *{margin:0;padding:0}html,code{font:15px/22px arial,sans-serif}html{background:#fff;color:#222;padding:15px}body{margin:7% auto 0;max-width:390px;min-height:180px;padding:30px 0 15px}* > body{background:url(//www.google.com/images/errors/robot.png) 100% 5px no-repeat;padding-right:205px}p{margin:11px 0 22px;overflow:hidden}ins{color:#777;text-decoration:none}a img{border:0}@media screen and (max-width:772px){body{background:none;margin-top:0;max-width:none;padding-right:0}}#logo{background:url(//www.google.com/images/branding/googlelogo/1x/googlelogo_color_150x54dp.png) no-repeat;margin-left:-5px}@media only screen and (min-resolution:192dpi){#logo{background:url(//www.google.com/images/branding/googlelogo/2x/googlelogo_color_150x54dp.png) no-repeat 0% 0%/100% 100%;-moz-border-image:url(//www.google.com/images/branding/googlelogo/2x/googlelogo_color_150x54dp.png) 0}}@media only screen and (-webkit-min-device-pixel-ratio:2){#logo{background:url(//www.google.com/images/branding/googlelogo/2x/googlelogo_color_150x54dp.png) no-repeat;-webkit-background-size:100% 100%}}#logo{display:inline-block;height:54px;width:150px}\\n  </style>\\n  <a href=//www.google.com/><span id=logo aria-label=Google></span></a>\\n  <p><b>400.</b> <ins>That’s an error.</ins>\\n  <p>Your client has issued a malformed or illegal request.  <ins>That’s all we know.</ins>\\n'"
      ]
     },
     "execution_count": 84,
     "metadata": {},
     "output_type": "execute_result"
    }
   ],
   "source": [
    "r.text"
   ]
  },
  {
   "cell_type": "code",
   "execution_count": null,
   "metadata": {},
   "outputs": [],
   "source": []
  }
 ],
 "metadata": {
  "kernelspec": {
   "display_name": "Python 3",
   "language": "python",
   "name": "python3"
  },
  "language_info": {
   "codemirror_mode": {
    "name": "ipython",
    "version": 3
   },
   "file_extension": ".py",
   "mimetype": "text/x-python",
   "name": "python",
   "nbconvert_exporter": "python",
   "pygments_lexer": "ipython3",
   "version": "3.8.5"
  }
 },
 "nbformat": 4,
 "nbformat_minor": 4
}
