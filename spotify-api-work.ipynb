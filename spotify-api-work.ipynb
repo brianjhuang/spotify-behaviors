{
 "cells": [
  {
   "cell_type": "markdown",
   "metadata": {},
   "source": [
    "# Getting Spotify API Token"
   ]
  },
  {
   "cell_type": "code",
   "execution_count": 9,
   "metadata": {},
   "outputs": [],
   "source": [
    "import requests\n",
    "import base64\n",
    "import datetime\n",
    "import getpass\n",
    "\n",
    "from urllib.parse import urlencode"
   ]
  },
  {
   "cell_type": "markdown",
   "metadata": {},
   "source": [
    "# Spotify API Class"
   ]
  },
  {
   "cell_type": "code",
   "execution_count": 10,
   "metadata": {},
   "outputs": [],
   "source": [
    "class SpotifyAPI(object):\n",
    "    access_token = None\n",
    "    access_token_expires = datetime.datetime.now()\n",
    "    expired = True\n",
    "    client_id = None\n",
    "    client_secret = None\n",
    "    token_url = 'https://accounts.spotify.com/api/token'\n",
    "    \n",
    "    def __init__(self, *args, **kwargs):\n",
    "        super().__init__(*args, **kwargs)\n",
    "        self.client_id, self.client_secret = self.getCreds()\n",
    "    \n",
    "    def getCreds(self):\n",
    "        print('Client ID:')\n",
    "        client_id = getpass.getpass()\n",
    "\n",
    "        print('Client Secret:')\n",
    "        client_secret = getpass.getpass()\n",
    "\n",
    "        return client_id, client_secret\n",
    "        \n",
    "    def get_client_credentials(self):\n",
    "        '''\n",
    "        Return a base-64 encoded string\n",
    "        '''\n",
    "        \n",
    "        if self.client_secret == None or self.client_id == None:\n",
    "            raise Exception(\"You must set client_id and client_secret.\")\n",
    "        \n",
    "        \n",
    "        client_creds = f\"{self.client_id}:{self.client_secret}\"\n",
    "            \n",
    "        client_creds_base64 = base64.b64encode(client_creds.encode())\n",
    "        \n",
    "        return client_creds_base64.decode()\n",
    "        \n",
    "    def get_token_headers(self):\n",
    "        \n",
    "        client_creds_base64 = self.get_client_credentials()\n",
    "        \n",
    "        token_headers = {\n",
    "    \"Authorization\":f\"Basic {client_creds_base64}\", #base 64 encoded string\n",
    "}\n",
    "        \n",
    "        return token_headers\n",
    "    \n",
    "    def get_token_data(self):\n",
    "        \n",
    "        token_data = {\n",
    "    \"grant_type\":\"client_credentials\"\n",
    "}\n",
    "        \n",
    "        return token_data\n",
    "    \n",
    "    def perform_auth(self):\n",
    "        \n",
    "        r = requests.post(self.token_url, data = self.get_token_data(), headers = self.get_token_headers())\n",
    "        token_response_data = r.json()\n",
    "        \n",
    "        if r.status_code not in range(200, 299):\n",
    "            return False\n",
    "        \n",
    "        now = datetime.datetime.now()\n",
    "        self.access_token = token_response_data['access_token']\n",
    "        expires_in = token_response_data['expires_in']\n",
    "        expires = now + datetime.timedelta(seconds = expires_in)\n",
    "        self.access_token_expires = expires\n",
    "        self.expired = expires < now\n",
    "        return True\n",
    "    \n",
    "    def get_token(self):\n",
    "        auth_done = self.perform_auth()\n",
    "        if not auth_done:\n",
    "            raise Exception(\"Authentication Failed\")\n",
    "        token = self.access_token \n",
    "        expires = self.access_token_expires\n",
    "        now = datetime.datetime.now()\n",
    "        if expires < now:\n",
    "            self.perform_auth()\n",
    "            return self.get_token()\n",
    "        return token \n",
    "    \n",
    "    def get_resource_header(self):\n",
    "        headers = {\n",
    "            \"Authorization\": f\"Bearer {self.get_token()}\"\n",
    "        }\n",
    "        return headers\n",
    "\n",
    "    def get_resource(self, lookup_id, resource_type = 'albums', version = 'v1', tracks = False):\n",
    "        endpoint = f\"https://api.spotify.com/{version}/{resource_type}/{lookup_id}\"\n",
    "        if tracks:\n",
    "            endpoint += '/tracks'\n",
    "        headers = self.get_resource_header()\n",
    "        r = requests.get(endpoint, headers = headers)\n",
    "        \n",
    "        if r.status_code not in range(200, 299):\n",
    "            return {}\n",
    "        return r.json()\n",
    "    \n",
    "    def get_album(self, _id):\n",
    "        return self.get_resource(_id, resource_type = 'albums', version = 'v1')\n",
    "    \n",
    "    def get_artist(self, _id):\n",
    "        return self.get_resource(_id, resource_type = 'artists', version = 'v1')\n",
    "    \n",
    "    def get_song_features(self, _id):\n",
    "        return self.get_resource(_id, resource_type = 'audio-features', version = 'v1')\n",
    "    \n",
    "    def get_song_id(self, query, search_type = 'track'):\n",
    "        song_id = self.search(query = str(query) , search_type = str(search_type))['tracks']['items'][0]['id']\n",
    "        return song_id\n",
    "    \n",
    "    def get_playlist_id(self, query = 'Top 50 - USA', search_type = 'playlist'):\n",
    "        #default returns top 50 songs in the USA\n",
    "        playlist_id = self.search(str(query), search_type = 'playlist')['playlists']['items'][0]['id']\n",
    "        return playlist_id\n",
    "    \n",
    "    def get_playlist_items(self, query = 'Top 50 - USA', search_type = 'playlist'):\n",
    "        playlist_id = self.get_playlist_id(str(query), str(search_type))\n",
    "        itemsDict = self.get_resource(playlist_id, resource_type = 'playlists', version = 'v1', tracks = True)\n",
    "        return [i['track']['name'] for i in itemsDict['items']]\n",
    "        \n",
    "    \n",
    "    def get_song_link(self, query, search_type = 'track'):\n",
    "        endpoint = self.get_song_features(self.get_song_id(str(query), str(search_type)))['uri']\n",
    "        return endpoint\n",
    "        \n",
    "    def play_song(self, query, search_type = 'track'):\n",
    "        import webbrowser\n",
    "        webbrowser.open(str(self.get_song_link(query, search_type)))\n",
    "        \n",
    "    def get_playlist_features(self, query, search_type = 'playlist'):\n",
    "        import time\n",
    "        features = []\n",
    "        \n",
    "        items = self.get_playlist_items(str(query))\n",
    "        \n",
    "        for item in items:\n",
    "            time.sleep(5)\n",
    "            features.append(self.get_song_features(self.get_song_id(query = str(item), search_type = 'track')))\n",
    "        \n",
    "        return features\n",
    "\n",
    "    def base_search(self, q):\n",
    "        headers = self.get_resource_header()\n",
    "        endpoint = \"https://api.spotify.com/v1/search\"\n",
    "\n",
    "        lookup_url = f\"{endpoint}?{q}\"\n",
    "        r = requests.get(lookup_url, headers = headers)\n",
    "        \n",
    "        if r.status_code not in range(200, 299):\n",
    "            return {}\n",
    "        \n",
    "        return r.json()\n",
    "    \n",
    "    def search(self, query = None, operator = None, operator_query = None, search_type = 'artist'):\n",
    "        \n",
    "        if query == None:\n",
    "            raise Exception(\"A query is required\")\n",
    "\n",
    "        if isinstance(query, dict):\n",
    "            query = \" \".join([f\"{k}:{v}\" for k,v in query.items()])\n",
    "        if operator != None and operator_query != None:\n",
    "            if operator.lower() == \"or\" or operator.lower() == \"not\":\n",
    "                operator = operator.upper()\n",
    "                if isinstance(operator_query, str):\n",
    "                    query = f\"{query} {operator} {operator_query}\"\n",
    "            \n",
    "        query_params = urlencode({\"q\": str(query), \"type\": str(search_type.lower())})\n",
    "        \n",
    "        return self.base_search(query_params)"
   ]
  },
  {
   "cell_type": "code",
   "execution_count": 11,
   "metadata": {},
   "outputs": [],
   "source": [
    "from spotifyAPI import Spotify"
   ]
  },
  {
   "cell_type": "code",
   "execution_count": 14,
   "metadata": {
    "scrolled": true
   },
   "outputs": [
    {
     "name": "stdout",
     "output_type": "stream",
     "text": [
      "Client ID:\n",
      "········\n",
      "Client Secret:\n",
      "········\n"
     ]
    }
   ],
   "source": [
    "s = Spotify()"
   ]
  },
  {
   "cell_type": "code",
   "execution_count": 15,
   "metadata": {
    "scrolled": true
   },
   "outputs": [
    {
     "data": {
      "text/plain": [
       "True"
      ]
     },
     "execution_count": 15,
     "metadata": {},
     "output_type": "execute_result"
    }
   ],
   "source": [
    "s.perform_auth()"
   ]
  },
  {
   "cell_type": "code",
   "execution_count": 20,
   "metadata": {
    "scrolled": false
   },
   "outputs": [
    {
     "data": {
      "text/plain": [
       "{'artists': {'href': 'https://api.spotify.com/v1/search?query=SICKO+MODE&type=artist&offset=0&limit=20',\n",
       "  'items': [{'external_urls': {'spotify': 'https://open.spotify.com/artist/2OsEiFSPWuKTtmXBBUcbaM'},\n",
       "    'followers': {'href': None, 'total': 80},\n",
       "    'genres': [],\n",
       "    'href': 'https://api.spotify.com/v1/artists/2OsEiFSPWuKTtmXBBUcbaM',\n",
       "    'id': '2OsEiFSPWuKTtmXBBUcbaM',\n",
       "    'images': [{'height': 640,\n",
       "      'url': 'https://i.scdn.co/image/ab67616d0000b273457b81f5c53834abf56e76b0',\n",
       "      'width': 640},\n",
       "     {'height': 300,\n",
       "      'url': 'https://i.scdn.co/image/ab67616d00001e02457b81f5c53834abf56e76b0',\n",
       "      'width': 300},\n",
       "     {'height': 64,\n",
       "      'url': 'https://i.scdn.co/image/ab67616d00004851457b81f5c53834abf56e76b0',\n",
       "      'width': 64}],\n",
       "    'name': 'SICKO MODE',\n",
       "    'popularity': 0,\n",
       "    'type': 'artist',\n",
       "    'uri': 'spotify:artist:2OsEiFSPWuKTtmXBBUcbaM'},\n",
       "   {'external_urls': {'spotify': 'https://open.spotify.com/artist/4bh4iZO1LTxa6ZSt4JwJFQ'},\n",
       "    'followers': {'href': None, 'total': 2},\n",
       "    'genres': [],\n",
       "    'href': 'https://api.spotify.com/v1/artists/4bh4iZO1LTxa6ZSt4JwJFQ',\n",
       "    'id': '4bh4iZO1LTxa6ZSt4JwJFQ',\n",
       "    'images': [],\n",
       "    'name': 'Sicko Mode',\n",
       "    'popularity': 0,\n",
       "    'type': 'artist',\n",
       "    'uri': 'spotify:artist:4bh4iZO1LTxa6ZSt4JwJFQ'}],\n",
       "  'limit': 20,\n",
       "  'next': None,\n",
       "  'offset': 0,\n",
       "  'previous': None,\n",
       "  'total': 2}}"
      ]
     },
     "execution_count": 20,
     "metadata": {},
     "output_type": "execute_result"
    }
   ],
   "source": [
    "s.search('SICKO MODE')"
   ]
  }
 ],
 "metadata": {
  "kernelspec": {
   "display_name": "Python 3",
   "language": "python",
   "name": "python3"
  },
  "language_info": {
   "codemirror_mode": {
    "name": "ipython",
    "version": 3
   },
   "file_extension": ".py",
   "mimetype": "text/x-python",
   "name": "python",
   "nbconvert_exporter": "python",
   "pygments_lexer": "ipython3",
   "version": "3.8.5"
  }
 },
 "nbformat": 4,
 "nbformat_minor": 4
}
