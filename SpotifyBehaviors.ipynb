{
 "cells": [
  {
   "cell_type": "markdown",
   "metadata": {},
   "source": [
    "# Spotify Behaviors Project\n",
    "### Brian Huang, Victor Thai, Annie Fan, Aishani Mohapatra"
   ]
  },
  {
   "cell_type": "markdown",
   "metadata": {},
   "source": [
    "## Generating Sampled Data\n",
    "With our dataset being over 500gbs, it was important that we sampled our data rather than loading it in as a whole."
   ]
  },
  {
   "cell_type": "markdown",
   "metadata": {},
   "source": [
    "```Python\n",
    "from pyspark.sql import functions as f\n",
    "from pyspark.sql import SparkSession\n",
    "\n",
    "import os\n",
    "import pandas as pd\n",
    "import random\n",
    "\n",
    "spark = SparkSession.builder.getOrCreate()\n",
    "#start a spark session\n",
    "spark_fp = os.path.join(\"/\", \"Volumes\", \"Marceline Jr.\", \"Spotify Dataset\", \"training_set\")\n",
    "#replace with your filepath\n",
    "\n",
    "df = spark.read.option(\"header\", \"true\").csv(spark_fp) #load in the data \n",
    "\n",
    "ids = df.select('session_id').distinct() #get unique user/session ids for sampling. we want to sample by user\n",
    "\n",
    "sampled_users = ids.orderBy(f.rand()).limit(50000) #sample the N users\n",
    "\n",
    "sampled_users_list = list(sampled_users.toPandas()['session_id'])\n",
    "samp_fracs = {key:1 for key in sampled_users_list}\n",
    "#generate the fractions we need to sample from pyspark\n",
    "\n",
    "samp_df = df.sampleBy(\"session_id\", fractions = samp_fracs)\n",
    "samp_df.write.csv(\"./sampled_users_100000.csv\", header = True)\n",
    "#write the file out\n",
    "```"
   ]
  }
 ],
 "metadata": {
  "kernelspec": {
   "display_name": "Python 3",
   "language": "python",
   "name": "python3"
  },
  "language_info": {
   "codemirror_mode": {
    "name": "ipython",
    "version": 3
   },
   "file_extension": ".py",
   "mimetype": "text/x-python",
   "name": "python",
   "nbconvert_exporter": "python",
   "pygments_lexer": "ipython3",
   "version": "3.8.5"
  }
 },
 "nbformat": 4,
 "nbformat_minor": 4
}
